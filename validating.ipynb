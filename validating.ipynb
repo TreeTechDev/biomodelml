{
 "cells": [
  {
   "cell_type": "code",
   "execution_count": 1,
   "id": "ad655a8e",
   "metadata": {},
   "outputs": [],
   "source": [
    "import pandas\n",
    "import hdbscan\n",
    "import numpy\n",
    "import seaborn"
   ]
  },
  {
   "cell_type": "code",
   "execution_count": 2,
   "id": "21a10cd8",
   "metadata": {},
   "outputs": [],
   "source": [
    "df = pandas.read_csv(\"data/similarity.csv\")"
   ]
  },
  {
   "cell_type": "code",
   "execution_count": 3,
   "id": "71dd378f",
   "metadata": {},
   "outputs": [
    {
     "data": {
      "text/plain": [
       "(10844484, 3)"
      ]
     },
     "execution_count": 3,
     "metadata": {},
     "output_type": "execute_result"
    }
   ],
   "source": [
    "df.shape"
   ]
  },
  {
   "cell_type": "code",
   "execution_count": 4,
   "id": "edcf58e7",
   "metadata": {},
   "outputs": [
    {
     "data": {
      "text/plain": [
       "(10843849, 3)"
      ]
     },
     "execution_count": 4,
     "metadata": {},
     "output_type": "execute_result"
    }
   ],
   "source": [
    "df = df.drop_duplicates(subset=[\"gene\", \"compare\"], ignore_index=True)\n",
    "df.shape"
   ]
  },
  {
   "cell_type": "code",
   "execution_count": 5,
   "id": "6f3d9653",
   "metadata": {},
   "outputs": [
    {
     "data": {
      "text/html": [
       "<div>\n",
       "<style scoped>\n",
       "    .dataframe tbody tr th:only-of-type {\n",
       "        vertical-align: middle;\n",
       "    }\n",
       "\n",
       "    .dataframe tbody tr th {\n",
       "        vertical-align: top;\n",
       "    }\n",
       "\n",
       "    .dataframe thead th {\n",
       "        text-align: right;\n",
       "    }\n",
       "</style>\n",
       "<table border=\"1\" class=\"dataframe\">\n",
       "  <thead>\n",
       "    <tr style=\"text-align: right;\">\n",
       "      <th></th>\n",
       "      <th>gene</th>\n",
       "      <th>compare</th>\n",
       "      <th>similarity</th>\n",
       "    </tr>\n",
       "  </thead>\n",
       "  <tbody>\n",
       "    <tr>\n",
       "      <th>0</th>\n",
       "      <td>NC_000913.3:1977139-1977149(-)</td>\n",
       "      <td>NC_000913.3:1977139-1977149(-)</td>\n",
       "      <td>1.000000</td>\n",
       "    </tr>\n",
       "    <tr>\n",
       "      <th>1</th>\n",
       "      <td>NC_000913.3:1977139-1977149(-)</td>\n",
       "      <td>NC_000913.3:2251689-2251699(+)</td>\n",
       "      <td>0.910606</td>\n",
       "    </tr>\n",
       "    <tr>\n",
       "      <th>2</th>\n",
       "      <td>NC_000913.3:2251689-2251699(+)</td>\n",
       "      <td>NC_000913.3:1977139-1977149(-)</td>\n",
       "      <td>0.910606</td>\n",
       "    </tr>\n",
       "    <tr>\n",
       "      <th>3</th>\n",
       "      <td>NC_000913.3:1977139-1977149(-)</td>\n",
       "      <td>NC_000913.3:2557297-2557307(-)</td>\n",
       "      <td>0.925595</td>\n",
       "    </tr>\n",
       "    <tr>\n",
       "      <th>4</th>\n",
       "      <td>NC_000913.3:2557297-2557307(-)</td>\n",
       "      <td>NC_000913.3:1977139-1977149(-)</td>\n",
       "      <td>0.925595</td>\n",
       "    </tr>\n",
       "  </tbody>\n",
       "</table>\n",
       "</div>"
      ],
      "text/plain": [
       "                             gene                         compare  similarity\n",
       "0  NC_000913.3:1977139-1977149(-)  NC_000913.3:1977139-1977149(-)    1.000000\n",
       "1  NC_000913.3:1977139-1977149(-)  NC_000913.3:2251689-2251699(+)    0.910606\n",
       "2  NC_000913.3:2251689-2251699(+)  NC_000913.3:1977139-1977149(-)    0.910606\n",
       "3  NC_000913.3:1977139-1977149(-)  NC_000913.3:2557297-2557307(-)    0.925595\n",
       "4  NC_000913.3:2557297-2557307(-)  NC_000913.3:1977139-1977149(-)    0.925595"
      ]
     },
     "execution_count": 5,
     "metadata": {},
     "output_type": "execute_result"
    }
   ],
   "source": [
    "df.head()"
   ]
  },
  {
   "cell_type": "code",
   "execution_count": 6,
   "id": "5e470e14",
   "metadata": {},
   "outputs": [],
   "source": [
    "df_pivot = df.pivot(\"gene\", \"compare\", \"similarity\")\n",
    "distance_matrix = df_pivot.to_numpy()"
   ]
  },
  {
   "cell_type": "code",
   "execution_count": 7,
   "id": "46d93311",
   "metadata": {},
   "outputs": [
    {
     "data": {
      "text/plain": [
       "(3293, 3293)"
      ]
     },
     "execution_count": 7,
     "metadata": {},
     "output_type": "execute_result"
    }
   ],
   "source": [
    "distance_matrix.shape"
   ]
  },
  {
   "cell_type": "code",
   "execution_count": 8,
   "id": "2f38d986",
   "metadata": {},
   "outputs": [],
   "source": [
    "clusterer = hdbscan.HDBSCAN(metric='precomputed', min_cluster_size=2)"
   ]
  },
  {
   "cell_type": "code",
   "execution_count": 9,
   "id": "69e6ad41",
   "metadata": {},
   "outputs": [
    {
     "data": {
      "text/plain": [
       "HDBSCAN(metric='precomputed', min_cluster_size=2)"
      ]
     },
     "execution_count": 9,
     "metadata": {},
     "output_type": "execute_result"
    }
   ],
   "source": [
    "clusterer.fit(distance_matrix)"
   ]
  },
  {
   "cell_type": "code",
   "execution_count": 10,
   "id": "8b4c3a68",
   "metadata": {},
   "outputs": [
    {
     "data": {
      "text/plain": [
       "1"
      ]
     },
     "execution_count": 10,
     "metadata": {},
     "output_type": "execute_result"
    }
   ],
   "source": [
    "clusterer.labels_.max()"
   ]
  },
  {
   "cell_type": "code",
   "execution_count": 11,
   "id": "d7118eba",
   "metadata": {},
   "outputs": [
    {
     "data": {
      "text/plain": [
       "array([-1, -1, -1, ..., -1, -1, -1])"
      ]
     },
     "execution_count": 11,
     "metadata": {},
     "output_type": "execute_result"
    }
   ],
   "source": [
    "clusterer.labels_"
   ]
  },
  {
   "cell_type": "code",
   "execution_count": 12,
   "id": "42bfb8be",
   "metadata": {},
   "outputs": [
    {
     "data": {
      "text/plain": [
       "{-1: 3264, 0: 27, 1: 2}"
      ]
     },
     "execution_count": 12,
     "metadata": {},
     "output_type": "execute_result"
    }
   ],
   "source": [
    "unique, counts = numpy.unique(clusterer.labels_, return_counts=True)\n",
    "dict(zip(unique, counts))"
   ]
  },
  {
   "cell_type": "code",
   "execution_count": 13,
   "id": "9d5ace0e",
   "metadata": {},
   "outputs": [
    {
     "data": {
      "text/plain": [
       "<AxesSubplot:ylabel='$\\\\lambda$ value'>"
      ]
     },
     "execution_count": 13,
     "metadata": {},
     "output_type": "execute_result"
    },
    {
     "data": {
      "image/png": "[encoded data removed]",
      "text/plain": [
       "<Figure size 432x288 with 2 Axes>"
      ]
     },
     "metadata": {
      "needs_background": "light"
     },
     "output_type": "display_data"
    }
   ],
   "source": [
    "clusterer.condensed_tree_.plot(select_clusters=True)"
   ]
  },
  {
   "cell_type": "code",
   "execution_count": 14,
   "id": "f6e70882",
   "metadata": {},
   "outputs": [],
   "source": [
    "cluster_df = pandas.DataFrame([df_pivot.index, clusterer.labels_], [\"gene\", \"cluster\"]).T"
   ]
  },
  {
   "cell_type": "code",
   "execution_count": 15,
   "id": "c12e0b7b",
   "metadata": {},
   "outputs": [
    {
     "data": {
      "text/html": [
       "<div>\n",
       "<style scoped>\n",
       "    .dataframe tbody tr th:only-of-type {\n",
       "        vertical-align: middle;\n",
       "    }\n",
       "\n",
       "    .dataframe tbody tr th {\n",
       "        vertical-align: top;\n",
       "    }\n",
       "\n",
       "    .dataframe thead th {\n",
       "        text-align: right;\n",
       "    }\n",
       "</style>\n",
       "<table border=\"1\" class=\"dataframe\">\n",
       "  <thead>\n",
       "    <tr style=\"text-align: right;\">\n",
       "      <th></th>\n",
       "      <th>gene</th>\n",
       "      <th>cluster</th>\n",
       "    </tr>\n",
       "  </thead>\n",
       "  <tbody>\n",
       "    <tr>\n",
       "      <th>130</th>\n",
       "      <td>NC_000913.3:1157858-1157868(+)</td>\n",
       "      <td>0</td>\n",
       "    </tr>\n",
       "    <tr>\n",
       "      <th>147</th>\n",
       "      <td>NC_000913.3:11786-11796(-)</td>\n",
       "      <td>0</td>\n",
       "    </tr>\n",
       "    <tr>\n",
       "      <th>235</th>\n",
       "      <td>NC_000913.3:1275829-1275839(-)</td>\n",
       "      <td>1</td>\n",
       "    </tr>\n",
       "    <tr>\n",
       "      <th>247</th>\n",
       "      <td>NC_000913.3:1292922-1292932(-)</td>\n",
       "      <td>0</td>\n",
       "    </tr>\n",
       "    <tr>\n",
       "      <th>510</th>\n",
       "      <td>NC_000913.3:1629204-1629214(+)</td>\n",
       "      <td>0</td>\n",
       "    </tr>\n",
       "    <tr>\n",
       "      <th>520</th>\n",
       "      <td>NC_000913.3:1642111-1642121(+)</td>\n",
       "      <td>0</td>\n",
       "    </tr>\n",
       "    <tr>\n",
       "      <th>601</th>\n",
       "      <td>NC_000913.3:1726648-1726658(+)</td>\n",
       "      <td>0</td>\n",
       "    </tr>\n",
       "    <tr>\n",
       "      <th>620</th>\n",
       "      <td>NC_000913.3:174882-174892(-)</td>\n",
       "      <td>1</td>\n",
       "    </tr>\n",
       "    <tr>\n",
       "      <th>783</th>\n",
       "      <td>NC_000913.3:1930747-1930757(-)</td>\n",
       "      <td>0</td>\n",
       "    </tr>\n",
       "    <tr>\n",
       "      <th>820</th>\n",
       "      <td>NC_000913.3:1986128-1986138(-)</td>\n",
       "      <td>0</td>\n",
       "    </tr>\n",
       "    <tr>\n",
       "      <th>965</th>\n",
       "      <td>NC_000913.3:2172873-2172883(-)</td>\n",
       "      <td>0</td>\n",
       "    </tr>\n",
       "    <tr>\n",
       "      <th>1016</th>\n",
       "      <td>NC_000913.3:2237753-2237763(-)</td>\n",
       "      <td>0</td>\n",
       "    </tr>\n",
       "    <tr>\n",
       "      <th>1054</th>\n",
       "      <td>NC_000913.3:2295586-2295596(-)</td>\n",
       "      <td>0</td>\n",
       "    </tr>\n",
       "    <tr>\n",
       "      <th>1204</th>\n",
       "      <td>NC_000913.3:2501119-2501129(+)</td>\n",
       "      <td>0</td>\n",
       "    </tr>\n",
       "    <tr>\n",
       "      <th>1219</th>\n",
       "      <td>NC_000913.3:2522477-2522487(-)</td>\n",
       "      <td>0</td>\n",
       "    </tr>\n",
       "    <tr>\n",
       "      <th>1806</th>\n",
       "      <td>NC_000913.3:3305817-3305827(-)</td>\n",
       "      <td>0</td>\n",
       "    </tr>\n",
       "    <tr>\n",
       "      <th>1831</th>\n",
       "      <td>NC_000913.3:3333699-3333709(+)</td>\n",
       "      <td>0</td>\n",
       "    </tr>\n",
       "    <tr>\n",
       "      <th>2087</th>\n",
       "      <td>NC_000913.3:363179-363189(-)</td>\n",
       "      <td>0</td>\n",
       "    </tr>\n",
       "    <tr>\n",
       "      <th>2106</th>\n",
       "      <td>NC_000913.3:3660403-3660413(+)</td>\n",
       "      <td>0</td>\n",
       "    </tr>\n",
       "    <tr>\n",
       "      <th>2209</th>\n",
       "      <td>NC_000913.3:3804137-3804147(-)</td>\n",
       "      <td>0</td>\n",
       "    </tr>\n",
       "    <tr>\n",
       "      <th>2255</th>\n",
       "      <td>NC_000913.3:3871730-3871740(-)</td>\n",
       "      <td>0</td>\n",
       "    </tr>\n",
       "    <tr>\n",
       "      <th>2388</th>\n",
       "      <td>NC_000913.3:4024821-4024831(-)</td>\n",
       "      <td>0</td>\n",
       "    </tr>\n",
       "    <tr>\n",
       "      <th>2411</th>\n",
       "      <td>NC_000913.3:4053757-4053767(-)</td>\n",
       "      <td>0</td>\n",
       "    </tr>\n",
       "    <tr>\n",
       "      <th>2462</th>\n",
       "      <td>NC_000913.3:4121747-4121757(-)</td>\n",
       "      <td>0</td>\n",
       "    </tr>\n",
       "    <tr>\n",
       "      <th>2469</th>\n",
       "      <td>NC_000913.3:4127894-4127904(-)</td>\n",
       "      <td>0</td>\n",
       "    </tr>\n",
       "    <tr>\n",
       "      <th>2685</th>\n",
       "      <td>NC_000913.3:4428717-4428727(-)</td>\n",
       "      <td>0</td>\n",
       "    </tr>\n",
       "    <tr>\n",
       "      <th>2886</th>\n",
       "      <td>NC_000913.3:497164-497174(+)</td>\n",
       "      <td>0</td>\n",
       "    </tr>\n",
       "    <tr>\n",
       "      <th>2986</th>\n",
       "      <td>NC_000913.3:632171-632181(+)</td>\n",
       "      <td>0</td>\n",
       "    </tr>\n",
       "    <tr>\n",
       "      <th>3245</th>\n",
       "      <td>NC_000913.3:933213-933223(+)</td>\n",
       "      <td>0</td>\n",
       "    </tr>\n",
       "  </tbody>\n",
       "</table>\n",
       "</div>"
      ],
      "text/plain": [
       "                                gene cluster\n",
       "130   NC_000913.3:1157858-1157868(+)       0\n",
       "147       NC_000913.3:11786-11796(-)       0\n",
       "235   NC_000913.3:1275829-1275839(-)       1\n",
       "247   NC_000913.3:1292922-1292932(-)       0\n",
       "510   NC_000913.3:1629204-1629214(+)       0\n",
       "520   NC_000913.3:1642111-1642121(+)       0\n",
       "601   NC_000913.3:1726648-1726658(+)       0\n",
       "620     NC_000913.3:174882-174892(-)       1\n",
       "783   NC_000913.3:1930747-1930757(-)       0\n",
       "820   NC_000913.3:1986128-1986138(-)       0\n",
       "965   NC_000913.3:2172873-2172883(-)       0\n",
       "1016  NC_000913.3:2237753-2237763(-)       0\n",
       "1054  NC_000913.3:2295586-2295596(-)       0\n",
       "1204  NC_000913.3:2501119-2501129(+)       0\n",
       "1219  NC_000913.3:2522477-2522487(-)       0\n",
       "1806  NC_000913.3:3305817-3305827(-)       0\n",
       "1831  NC_000913.3:3333699-3333709(+)       0\n",
       "2087    NC_000913.3:363179-363189(-)       0\n",
       "2106  NC_000913.3:3660403-3660413(+)       0\n",
       "2209  NC_000913.3:3804137-3804147(-)       0\n",
       "2255  NC_000913.3:3871730-3871740(-)       0\n",
       "2388  NC_000913.3:4024821-4024831(-)       0\n",
       "2411  NC_000913.3:4053757-4053767(-)       0\n",
       "2462  NC_000913.3:4121747-4121757(-)       0\n",
       "2469  NC_000913.3:4127894-4127904(-)       0\n",
       "2685  NC_000913.3:4428717-4428727(-)       0\n",
       "2886    NC_000913.3:497164-497174(+)       0\n",
       "2986    NC_000913.3:632171-632181(+)       0\n",
       "3245    NC_000913.3:933213-933223(+)       0"
      ]
     },
     "execution_count": 15,
     "metadata": {},
     "output_type": "execute_result"
    }
   ],
   "source": [
    "cluster_df[cluster_df[\"cluster\"] != -1].head(30)"
   ]
  },
  {
   "cell_type": "code",
   "execution_count": 16,
   "id": "accc99a4",
   "metadata": {},
   "outputs": [
    {
     "data": {
      "text/plain": [
       "<seaborn.axisgrid.FacetGrid at 0x7f314112b490>"
      ]
     },
     "execution_count": 16,
     "metadata": {},
     "output_type": "execute_result"
    },
    {
     "data": {
      "image/png": "[encoded data removed]",
      "text/plain": [
       "<Figure size 360x360 with 1 Axes>"
      ]
     },
     "metadata": {
      "needs_background": "light"
     },
     "output_type": "display_data"
    }
   ],
   "source": [
    "seaborn.displot(clusterer.outlier_scores_[numpy.isfinite(clusterer.outlier_scores_)])"
   ]
  },
  {
   "cell_type": "code",
   "execution_count": 17,
   "id": "70d68fb1",
   "metadata": {},
   "outputs": [],
   "source": [
    "from sklearn.cluster import DBSCAN"
   ]
  },
  {
   "cell_type": "code",
   "execution_count": 18,
   "id": "0c1480d7",
   "metadata": {},
   "outputs": [],
   "source": [
    "cluster = DBSCAN(metric=\"precomputed\", eps=0.65)"
   ]
  },
  {
   "cell_type": "code",
   "execution_count": 19,
   "id": "27dddfc9",
   "metadata": {},
   "outputs": [
    {
     "data": {
      "text/plain": [
       "DBSCAN(eps=0.65, metric='precomputed')"
      ]
     },
     "execution_count": 19,
     "metadata": {},
     "output_type": "execute_result"
    }
   ],
   "source": [
    "cluster.fit(distance_matrix)"
   ]
  },
  {
   "cell_type": "code",
   "execution_count": 20,
   "id": "43c704f2",
   "metadata": {},
   "outputs": [
    {
     "data": {
      "text/plain": [
       "{-1: 3277, 0: 16}"
      ]
     },
     "execution_count": 20,
     "metadata": {},
     "output_type": "execute_result"
    }
   ],
   "source": [
    "unique, counts = numpy.unique(cluster.labels_, return_counts=True)\n",
    "dict(zip(unique, counts))"
   ]
  },
  {
   "cell_type": "code",
   "execution_count": 21,
   "id": "ecb95f40",
   "metadata": {},
   "outputs": [],
   "source": [
    "c_df = pandas.DataFrame([df_pivot.index, cluster.labels_], [\"gene\", \"cluster\"]).T"
   ]
  },
  {
   "cell_type": "code",
   "execution_count": 22,
   "id": "5dfe3666",
   "metadata": {},
   "outputs": [
    {
     "data": {
      "text/html": [
       "<div>\n",
       "<style scoped>\n",
       "    .dataframe tbody tr th:only-of-type {\n",
       "        vertical-align: middle;\n",
       "    }\n",
       "\n",
       "    .dataframe tbody tr th {\n",
       "        vertical-align: top;\n",
       "    }\n",
       "\n",
       "    .dataframe thead th {\n",
       "        text-align: right;\n",
       "    }\n",
       "</style>\n",
       "<table border=\"1\" class=\"dataframe\">\n",
       "  <thead>\n",
       "    <tr style=\"text-align: right;\">\n",
       "      <th></th>\n",
       "      <th>gene</th>\n",
       "      <th>cluster</th>\n",
       "    </tr>\n",
       "  </thead>\n",
       "  <tbody>\n",
       "    <tr>\n",
       "      <th>130</th>\n",
       "      <td>NC_000913.3:1157858-1157868(+)</td>\n",
       "      <td>0</td>\n",
       "    </tr>\n",
       "    <tr>\n",
       "      <th>247</th>\n",
       "      <td>NC_000913.3:1292922-1292932(-)</td>\n",
       "      <td>0</td>\n",
       "    </tr>\n",
       "    <tr>\n",
       "      <th>783</th>\n",
       "      <td>NC_000913.3:1930747-1930757(-)</td>\n",
       "      <td>0</td>\n",
       "    </tr>\n",
       "    <tr>\n",
       "      <th>1016</th>\n",
       "      <td>NC_000913.3:2237753-2237763(-)</td>\n",
       "      <td>0</td>\n",
       "    </tr>\n",
       "    <tr>\n",
       "      <th>1054</th>\n",
       "      <td>NC_000913.3:2295586-2295596(-)</td>\n",
       "      <td>0</td>\n",
       "    </tr>\n",
       "    <tr>\n",
       "      <th>1204</th>\n",
       "      <td>NC_000913.3:2501119-2501129(+)</td>\n",
       "      <td>0</td>\n",
       "    </tr>\n",
       "    <tr>\n",
       "      <th>1219</th>\n",
       "      <td>NC_000913.3:2522477-2522487(-)</td>\n",
       "      <td>0</td>\n",
       "    </tr>\n",
       "    <tr>\n",
       "      <th>1312</th>\n",
       "      <td>NC_000913.3:2641804-2641814(-)</td>\n",
       "      <td>0</td>\n",
       "    </tr>\n",
       "    <tr>\n",
       "      <th>1806</th>\n",
       "      <td>NC_000913.3:3305817-3305827(-)</td>\n",
       "      <td>0</td>\n",
       "    </tr>\n",
       "    <tr>\n",
       "      <th>1831</th>\n",
       "      <td>NC_000913.3:3333699-3333709(+)</td>\n",
       "      <td>0</td>\n",
       "    </tr>\n",
       "    <tr>\n",
       "      <th>2087</th>\n",
       "      <td>NC_000913.3:363179-363189(-)</td>\n",
       "      <td>0</td>\n",
       "    </tr>\n",
       "    <tr>\n",
       "      <th>2106</th>\n",
       "      <td>NC_000913.3:3660403-3660413(+)</td>\n",
       "      <td>0</td>\n",
       "    </tr>\n",
       "    <tr>\n",
       "      <th>2255</th>\n",
       "      <td>NC_000913.3:3871730-3871740(-)</td>\n",
       "      <td>0</td>\n",
       "    </tr>\n",
       "    <tr>\n",
       "      <th>2469</th>\n",
       "      <td>NC_000913.3:4127894-4127904(-)</td>\n",
       "      <td>0</td>\n",
       "    </tr>\n",
       "    <tr>\n",
       "      <th>2886</th>\n",
       "      <td>NC_000913.3:497164-497174(+)</td>\n",
       "      <td>0</td>\n",
       "    </tr>\n",
       "    <tr>\n",
       "      <th>3245</th>\n",
       "      <td>NC_000913.3:933213-933223(+)</td>\n",
       "      <td>0</td>\n",
       "    </tr>\n",
       "  </tbody>\n",
       "</table>\n",
       "</div>"
      ],
      "text/plain": [
       "                                gene cluster\n",
       "130   NC_000913.3:1157858-1157868(+)       0\n",
       "247   NC_000913.3:1292922-1292932(-)       0\n",
       "783   NC_000913.3:1930747-1930757(-)       0\n",
       "1016  NC_000913.3:2237753-2237763(-)       0\n",
       "1054  NC_000913.3:2295586-2295596(-)       0\n",
       "1204  NC_000913.3:2501119-2501129(+)       0\n",
       "1219  NC_000913.3:2522477-2522487(-)       0\n",
       "1312  NC_000913.3:2641804-2641814(-)       0\n",
       "1806  NC_000913.3:3305817-3305827(-)       0\n",
       "1831  NC_000913.3:3333699-3333709(+)       0\n",
       "2087    NC_000913.3:363179-363189(-)       0\n",
       "2106  NC_000913.3:3660403-3660413(+)       0\n",
       "2255  NC_000913.3:3871730-3871740(-)       0\n",
       "2469  NC_000913.3:4127894-4127904(-)       0\n",
       "2886    NC_000913.3:497164-497174(+)       0\n",
       "3245    NC_000913.3:933213-933223(+)       0"
      ]
     },
     "execution_count": 22,
     "metadata": {},
     "output_type": "execute_result"
    }
   ],
   "source": [
    "c_df[c_df[\"cluster\"] != -1].head(30)"
   ]
  },
  {
   "cell_type": "code",
   "execution_count": 23,
   "id": "2d27ca98",
   "metadata": {},
   "outputs": [],
   "source": [
    "intersect_df = c_df[c_df[\"cluster\"] != -1][c_df[c_df[\"cluster\"] != -1].gene.isin(cluster_df[cluster_df[\"cluster\"] != -1].gene)]"
   ]
  },
  {
   "cell_type": "code",
   "execution_count": 24,
   "id": "bb3bebac",
   "metadata": {},
   "outputs": [
    {
     "data": {
      "text/plain": [
       "(15, 2)"
      ]
     },
     "execution_count": 24,
     "metadata": {},
     "output_type": "execute_result"
    }
   ],
   "source": [
    "intersect_df.shape"
   ]
  },
  {
   "cell_type": "code",
   "execution_count": 25,
   "id": "24e956b0",
   "metadata": {},
   "outputs": [
    {
     "data": {
      "text/html": [
       "<div>\n",
       "<style scoped>\n",
       "    .dataframe tbody tr th:only-of-type {\n",
       "        vertical-align: middle;\n",
       "    }\n",
       "\n",
       "    .dataframe tbody tr th {\n",
       "        vertical-align: top;\n",
       "    }\n",
       "\n",
       "    .dataframe thead th {\n",
       "        text-align: right;\n",
       "    }\n",
       "</style>\n",
       "<table border=\"1\" class=\"dataframe\">\n",
       "  <thead>\n",
       "    <tr style=\"text-align: right;\">\n",
       "      <th></th>\n",
       "      <th>gene</th>\n",
       "      <th>cluster</th>\n",
       "    </tr>\n",
       "  </thead>\n",
       "  <tbody>\n",
       "    <tr>\n",
       "      <th>130</th>\n",
       "      <td>NC_000913.3:1157858-1157868(+)</td>\n",
       "      <td>0</td>\n",
       "    </tr>\n",
       "    <tr>\n",
       "      <th>247</th>\n",
       "      <td>NC_000913.3:1292922-1292932(-)</td>\n",
       "      <td>0</td>\n",
       "    </tr>\n",
       "    <tr>\n",
       "      <th>783</th>\n",
       "      <td>NC_000913.3:1930747-1930757(-)</td>\n",
       "      <td>0</td>\n",
       "    </tr>\n",
       "    <tr>\n",
       "      <th>1016</th>\n",
       "      <td>NC_000913.3:2237753-2237763(-)</td>\n",
       "      <td>0</td>\n",
       "    </tr>\n",
       "    <tr>\n",
       "      <th>1054</th>\n",
       "      <td>NC_000913.3:2295586-2295596(-)</td>\n",
       "      <td>0</td>\n",
       "    </tr>\n",
       "    <tr>\n",
       "      <th>1204</th>\n",
       "      <td>NC_000913.3:2501119-2501129(+)</td>\n",
       "      <td>0</td>\n",
       "    </tr>\n",
       "    <tr>\n",
       "      <th>1219</th>\n",
       "      <td>NC_000913.3:2522477-2522487(-)</td>\n",
       "      <td>0</td>\n",
       "    </tr>\n",
       "    <tr>\n",
       "      <th>1806</th>\n",
       "      <td>NC_000913.3:3305817-3305827(-)</td>\n",
       "      <td>0</td>\n",
       "    </tr>\n",
       "    <tr>\n",
       "      <th>1831</th>\n",
       "      <td>NC_000913.3:3333699-3333709(+)</td>\n",
       "      <td>0</td>\n",
       "    </tr>\n",
       "    <tr>\n",
       "      <th>2087</th>\n",
       "      <td>NC_000913.3:363179-363189(-)</td>\n",
       "      <td>0</td>\n",
       "    </tr>\n",
       "    <tr>\n",
       "      <th>2106</th>\n",
       "      <td>NC_000913.3:3660403-3660413(+)</td>\n",
       "      <td>0</td>\n",
       "    </tr>\n",
       "    <tr>\n",
       "      <th>2255</th>\n",
       "      <td>NC_000913.3:3871730-3871740(-)</td>\n",
       "      <td>0</td>\n",
       "    </tr>\n",
       "    <tr>\n",
       "      <th>2469</th>\n",
       "      <td>NC_000913.3:4127894-4127904(-)</td>\n",
       "      <td>0</td>\n",
       "    </tr>\n",
       "    <tr>\n",
       "      <th>2886</th>\n",
       "      <td>NC_000913.3:497164-497174(+)</td>\n",
       "      <td>0</td>\n",
       "    </tr>\n",
       "    <tr>\n",
       "      <th>3245</th>\n",
       "      <td>NC_000913.3:933213-933223(+)</td>\n",
       "      <td>0</td>\n",
       "    </tr>\n",
       "  </tbody>\n",
       "</table>\n",
       "</div>"
      ],
      "text/plain": [
       "                                gene cluster\n",
       "130   NC_000913.3:1157858-1157868(+)       0\n",
       "247   NC_000913.3:1292922-1292932(-)       0\n",
       "783   NC_000913.3:1930747-1930757(-)       0\n",
       "1016  NC_000913.3:2237753-2237763(-)       0\n",
       "1054  NC_000913.3:2295586-2295596(-)       0\n",
       "1204  NC_000913.3:2501119-2501129(+)       0\n",
       "1219  NC_000913.3:2522477-2522487(-)       0\n",
       "1806  NC_000913.3:3305817-3305827(-)       0\n",
       "1831  NC_000913.3:3333699-3333709(+)       0\n",
       "2087    NC_000913.3:363179-363189(-)       0\n",
       "2106  NC_000913.3:3660403-3660413(+)       0\n",
       "2255  NC_000913.3:3871730-3871740(-)       0\n",
       "2469  NC_000913.3:4127894-4127904(-)       0\n",
       "2886    NC_000913.3:497164-497174(+)       0\n",
       "3245    NC_000913.3:933213-933223(+)       0"
      ]
     },
     "execution_count": 25,
     "metadata": {},
     "output_type": "execute_result"
    }
   ],
   "source": [
    "intersect_df.head(15)"
   ]
  },
  {
   "cell_type": "code",
   "execution_count": 31,
   "id": "4cb3740e",
   "metadata": {},
   "outputs": [],
   "source": [
    "seqs_df = pandas.read_csv(\"data/Ecoli_K12_MG1655.5UTR.mRNA.seq.cdhit\", delimiter=\"\\n\", header=None, lineterminator=\">\")"
   ]
  },
  {
   "cell_type": "code",
   "execution_count": 36,
   "id": "68b81970",
   "metadata": {},
   "outputs": [],
   "source": [
    "seqs_df = seqs_df[[0, 1]]\n",
    "seqs_df.columns = [\"names\", \"seq\"]"
   ]
  },
  {
   "cell_type": "code",
   "execution_count": 41,
   "id": "f7f98e7c",
   "metadata": {},
   "outputs": [
    {
     "name": "stderr",
     "output_type": "stream",
     "text": [
      "/mnt/c/Users/Diogo/.virtualenvs/bioinfo2.0/lib/python3.7/site-packages/ipykernel_launcher.py:1: SettingWithCopyWarning: \n",
      "A value is trying to be set on a copy of a slice from a DataFrame.\n",
      "Try using .loc[row_indexer,col_indexer] = value instead\n",
      "\n",
      "See the caveats in the documentation: https://pandas.pydata.org/pandas-docs/stable/user_guide/indexing.html#returning-a-view-versus-a-copy\n",
      "  \"\"\"Entry point for launching an IPython kernel.\n",
      "/mnt/c/Users/Diogo/.virtualenvs/bioinfo2.0/lib/python3.7/site-packages/ipykernel_launcher.py:2: SettingWithCopyWarning: \n",
      "A value is trying to be set on a copy of a slice from a DataFrame.\n",
      "Try using .loc[row_indexer,col_indexer] = value instead\n",
      "\n",
      "See the caveats in the documentation: https://pandas.pydata.org/pandas-docs/stable/user_guide/indexing.html#returning-a-view-versus-a-copy\n",
      "  \n"
     ]
    }
   ],
   "source": [
    "seqs_df[\"names\"] = seqs_df.names.str.replace(\"\\r\", \"\")\n",
    "seqs_df[\"seq\"] = seqs_df.seq.str.replace(\"\\r\", \"\")"
   ]
  },
  {
   "cell_type": "code",
   "execution_count": 42,
   "id": "3ea4fee3",
   "metadata": {},
   "outputs": [
    {
     "data": {
      "text/html": [
       "<div>\n",
       "<style scoped>\n",
       "    .dataframe tbody tr th:only-of-type {\n",
       "        vertical-align: middle;\n",
       "    }\n",
       "\n",
       "    .dataframe tbody tr th {\n",
       "        vertical-align: top;\n",
       "    }\n",
       "\n",
       "    .dataframe thead th {\n",
       "        text-align: right;\n",
       "    }\n",
       "</style>\n",
       "<table border=\"1\" class=\"dataframe\">\n",
       "  <thead>\n",
       "    <tr style=\"text-align: right;\">\n",
       "      <th></th>\n",
       "      <th>names</th>\n",
       "      <th>seq</th>\n",
       "    </tr>\n",
       "  </thead>\n",
       "  <tbody>\n",
       "    <tr>\n",
       "      <th>0</th>\n",
       "      <td>NC_000913.3:1757410-1757420(+)</td>\n",
       "      <td>GGTATTAATA</td>\n",
       "    </tr>\n",
       "    <tr>\n",
       "      <th>1</th>\n",
       "      <td>NC_000913.3:3210770-3210780(+)</td>\n",
       "      <td>TGAGAGGCAC</td>\n",
       "    </tr>\n",
       "    <tr>\n",
       "      <th>2</th>\n",
       "      <td>NC_000913.3:1151604-1151614(+)</td>\n",
       "      <td>ATTTAAGAGT</td>\n",
       "    </tr>\n",
       "    <tr>\n",
       "      <th>3</th>\n",
       "      <td>NC_000913.3:3471329-3471339(-)</td>\n",
       "      <td>GAATATAGCC</td>\n",
       "    </tr>\n",
       "    <tr>\n",
       "      <th>4</th>\n",
       "      <td>NC_000913.3:1020053-1020063(-)</td>\n",
       "      <td>GGCGCAAAAA</td>\n",
       "    </tr>\n",
       "  </tbody>\n",
       "</table>\n",
       "</div>"
      ],
      "text/plain": [
       "                            names         seq\n",
       "0  NC_000913.3:1757410-1757420(+)  GGTATTAATA\n",
       "1  NC_000913.3:3210770-3210780(+)  TGAGAGGCAC\n",
       "2  NC_000913.3:1151604-1151614(+)  ATTTAAGAGT\n",
       "3  NC_000913.3:3471329-3471339(-)  GAATATAGCC\n",
       "4  NC_000913.3:1020053-1020063(-)  GGCGCAAAAA"
      ]
     },
     "execution_count": 42,
     "metadata": {},
     "output_type": "execute_result"
    }
   ],
   "source": [
    "seqs_df.head()"
   ]
  },
  {
   "cell_type": "code",
   "execution_count": 52,
   "id": "f2a79f25",
   "metadata": {},
   "outputs": [],
   "source": [
    "df = pandas.merge(cluster_df[cluster_df[\"cluster\"] == 1], seqs_df, left_on=\"gene\", right_on=\"names\")"
   ]
  },
  {
   "cell_type": "code",
   "execution_count": 53,
   "id": "a28c2cb0",
   "metadata": {},
   "outputs": [
    {
     "data": {
      "text/html": [
       "<div>\n",
       "<style scoped>\n",
       "    .dataframe tbody tr th:only-of-type {\n",
       "        vertical-align: middle;\n",
       "    }\n",
       "\n",
       "    .dataframe tbody tr th {\n",
       "        vertical-align: top;\n",
       "    }\n",
       "\n",
       "    .dataframe thead th {\n",
       "        text-align: right;\n",
       "    }\n",
       "</style>\n",
       "<table border=\"1\" class=\"dataframe\">\n",
       "  <thead>\n",
       "    <tr style=\"text-align: right;\">\n",
       "      <th></th>\n",
       "      <th>gene</th>\n",
       "      <th>cluster</th>\n",
       "      <th>names</th>\n",
       "      <th>seq</th>\n",
       "    </tr>\n",
       "  </thead>\n",
       "  <tbody>\n",
       "    <tr>\n",
       "      <th>0</th>\n",
       "      <td>NC_000913.3:1275829-1275839(-)</td>\n",
       "      <td>1</td>\n",
       "      <td>NC_000913.3:1275829-1275839(-)</td>\n",
       "      <td>GGAGATACCC</td>\n",
       "    </tr>\n",
       "    <tr>\n",
       "      <th>1</th>\n",
       "      <td>NC_000913.3:174882-174892(-)</td>\n",
       "      <td>1</td>\n",
       "      <td>NC_000913.3:174882-174892(-)</td>\n",
       "      <td>GGAACCCTCC</td>\n",
       "    </tr>\n",
       "  </tbody>\n",
       "</table>\n",
       "</div>"
      ],
      "text/plain": [
       "                             gene cluster                           names  \\\n",
       "0  NC_000913.3:1275829-1275839(-)       1  NC_000913.3:1275829-1275839(-)   \n",
       "1    NC_000913.3:174882-174892(-)       1    NC_000913.3:174882-174892(-)   \n",
       "\n",
       "          seq  \n",
       "0  GGAGATACCC  \n",
       "1  GGAACCCTCC  "
      ]
     },
     "execution_count": 53,
     "metadata": {},
     "output_type": "execute_result"
    }
   ],
   "source": [
    "df.head()"
   ]
  },
  {
   "cell_type": "code",
   "execution_count": 54,
   "id": "2cc67d07",
   "metadata": {},
   "outputs": [],
   "source": [
    "df = pandas.merge(cluster_df[cluster_df[\"cluster\"] == 0], seqs_df, left_on=\"gene\", right_on=\"names\")"
   ]
  },
  {
   "cell_type": "code",
   "execution_count": 56,
   "id": "31275bc8",
   "metadata": {},
   "outputs": [
    {
     "data": {
      "text/html": [
       "<div>\n",
       "<style scoped>\n",
       "    .dataframe tbody tr th:only-of-type {\n",
       "        vertical-align: middle;\n",
       "    }\n",
       "\n",
       "    .dataframe tbody tr th {\n",
       "        vertical-align: top;\n",
       "    }\n",
       "\n",
       "    .dataframe thead th {\n",
       "        text-align: right;\n",
       "    }\n",
       "</style>\n",
       "<table border=\"1\" class=\"dataframe\">\n",
       "  <thead>\n",
       "    <tr style=\"text-align: right;\">\n",
       "      <th></th>\n",
       "      <th>gene</th>\n",
       "      <th>cluster</th>\n",
       "      <th>names</th>\n",
       "      <th>seq</th>\n",
       "    </tr>\n",
       "  </thead>\n",
       "  <tbody>\n",
       "    <tr>\n",
       "      <th>0</th>\n",
       "      <td>NC_000913.3:1157858-1157868(+)</td>\n",
       "      <td>0</td>\n",
       "      <td>NC_000913.3:1157858-1157868(+)</td>\n",
       "      <td>ACTCTCAATT</td>\n",
       "    </tr>\n",
       "    <tr>\n",
       "      <th>1</th>\n",
       "      <td>NC_000913.3:11786-11796(-)</td>\n",
       "      <td>0</td>\n",
       "      <td>NC_000913.3:11786-11796(-)</td>\n",
       "      <td>GAGAATCCTT</td>\n",
       "    </tr>\n",
       "    <tr>\n",
       "      <th>2</th>\n",
       "      <td>NC_000913.3:1292922-1292932(-)</td>\n",
       "      <td>0</td>\n",
       "      <td>NC_000913.3:1292922-1292932(-)</td>\n",
       "      <td>GATTACTACA</td>\n",
       "    </tr>\n",
       "    <tr>\n",
       "      <th>3</th>\n",
       "      <td>NC_000913.3:1629204-1629214(+)</td>\n",
       "      <td>0</td>\n",
       "      <td>NC_000913.3:1629204-1629214(+)</td>\n",
       "      <td>GAAAACACCT</td>\n",
       "    </tr>\n",
       "    <tr>\n",
       "      <th>4</th>\n",
       "      <td>NC_000913.3:1642111-1642121(+)</td>\n",
       "      <td>0</td>\n",
       "      <td>NC_000913.3:1642111-1642121(+)</td>\n",
       "      <td>GAGAGTTTTT</td>\n",
       "    </tr>\n",
       "    <tr>\n",
       "      <th>5</th>\n",
       "      <td>NC_000913.3:1726648-1726658(+)</td>\n",
       "      <td>0</td>\n",
       "      <td>NC_000913.3:1726648-1726658(+)</td>\n",
       "      <td>GGGAGCCTTT</td>\n",
       "    </tr>\n",
       "    <tr>\n",
       "      <th>6</th>\n",
       "      <td>NC_000913.3:1930747-1930757(-)</td>\n",
       "      <td>0</td>\n",
       "      <td>NC_000913.3:1930747-1930757(-)</td>\n",
       "      <td>GAGGCTGCAA</td>\n",
       "    </tr>\n",
       "    <tr>\n",
       "      <th>7</th>\n",
       "      <td>NC_000913.3:1986128-1986138(-)</td>\n",
       "      <td>0</td>\n",
       "      <td>NC_000913.3:1986128-1986138(-)</td>\n",
       "      <td>GGAGAGAACC</td>\n",
       "    </tr>\n",
       "    <tr>\n",
       "      <th>8</th>\n",
       "      <td>NC_000913.3:2172873-2172883(-)</td>\n",
       "      <td>0</td>\n",
       "      <td>NC_000913.3:2172873-2172883(-)</td>\n",
       "      <td>AGGAGTTTTT</td>\n",
       "    </tr>\n",
       "    <tr>\n",
       "      <th>9</th>\n",
       "      <td>NC_000913.3:2237753-2237763(-)</td>\n",
       "      <td>0</td>\n",
       "      <td>NC_000913.3:2237753-2237763(-)</td>\n",
       "      <td>GGGGCTTCCC</td>\n",
       "    </tr>\n",
       "    <tr>\n",
       "      <th>10</th>\n",
       "      <td>NC_000913.3:2295586-2295596(-)</td>\n",
       "      <td>0</td>\n",
       "      <td>NC_000913.3:2295586-2295596(-)</td>\n",
       "      <td>GAGGCCGTAA</td>\n",
       "    </tr>\n",
       "    <tr>\n",
       "      <th>11</th>\n",
       "      <td>NC_000913.3:2501119-2501129(+)</td>\n",
       "      <td>0</td>\n",
       "      <td>NC_000913.3:2501119-2501129(+)</td>\n",
       "      <td>GGGAACTTTC</td>\n",
       "    </tr>\n",
       "    <tr>\n",
       "      <th>12</th>\n",
       "      <td>NC_000913.3:2522477-2522487(-)</td>\n",
       "      <td>0</td>\n",
       "      <td>NC_000913.3:2522477-2522487(-)</td>\n",
       "      <td>GCACTTAATT</td>\n",
       "    </tr>\n",
       "    <tr>\n",
       "      <th>13</th>\n",
       "      <td>NC_000913.3:3305817-3305827(-)</td>\n",
       "      <td>0</td>\n",
       "      <td>NC_000913.3:3305817-3305827(-)</td>\n",
       "      <td>AGAAGCCCTC</td>\n",
       "    </tr>\n",
       "    <tr>\n",
       "      <th>14</th>\n",
       "      <td>NC_000913.3:3333699-3333709(+)</td>\n",
       "      <td>0</td>\n",
       "      <td>NC_000913.3:3333699-3333709(+)</td>\n",
       "      <td>GGCTTTTGCG</td>\n",
       "    </tr>\n",
       "    <tr>\n",
       "      <th>15</th>\n",
       "      <td>NC_000913.3:363179-363189(-)</td>\n",
       "      <td>0</td>\n",
       "      <td>NC_000913.3:363179-363189(-)</td>\n",
       "      <td>GAAATCCATT</td>\n",
       "    </tr>\n",
       "    <tr>\n",
       "      <th>16</th>\n",
       "      <td>NC_000913.3:3660403-3660413(+)</td>\n",
       "      <td>0</td>\n",
       "      <td>NC_000913.3:3660403-3660413(+)</td>\n",
       "      <td>GGGGACTTTC</td>\n",
       "    </tr>\n",
       "    <tr>\n",
       "      <th>17</th>\n",
       "      <td>NC_000913.3:3804137-3804147(-)</td>\n",
       "      <td>0</td>\n",
       "      <td>NC_000913.3:3804137-3804147(-)</td>\n",
       "      <td>GAGAGTTTCT</td>\n",
       "    </tr>\n",
       "    <tr>\n",
       "      <th>18</th>\n",
       "      <td>NC_000913.3:3871730-3871740(-)</td>\n",
       "      <td>0</td>\n",
       "      <td>NC_000913.3:3871730-3871740(-)</td>\n",
       "      <td>AAAGCTCGCT</td>\n",
       "    </tr>\n",
       "    <tr>\n",
       "      <th>19</th>\n",
       "      <td>NC_000913.3:4024821-4024831(-)</td>\n",
       "      <td>0</td>\n",
       "      <td>NC_000913.3:4024821-4024831(-)</td>\n",
       "      <td>AAGAGTCATT</td>\n",
       "    </tr>\n",
       "    <tr>\n",
       "      <th>20</th>\n",
       "      <td>NC_000913.3:4053757-4053767(-)</td>\n",
       "      <td>0</td>\n",
       "      <td>NC_000913.3:4053757-4053767(-)</td>\n",
       "      <td>GAGAGTCATT</td>\n",
       "    </tr>\n",
       "    <tr>\n",
       "      <th>21</th>\n",
       "      <td>NC_000913.3:4121747-4121757(-)</td>\n",
       "      <td>0</td>\n",
       "      <td>NC_000913.3:4121747-4121757(-)</td>\n",
       "      <td>AGGATCTCCC</td>\n",
       "    </tr>\n",
       "    <tr>\n",
       "      <th>22</th>\n",
       "      <td>NC_000913.3:4127894-4127904(-)</td>\n",
       "      <td>0</td>\n",
       "      <td>NC_000913.3:4127894-4127904(-)</td>\n",
       "      <td>ACGTTTAACT</td>\n",
       "    </tr>\n",
       "    <tr>\n",
       "      <th>23</th>\n",
       "      <td>NC_000913.3:4428717-4428727(-)</td>\n",
       "      <td>0</td>\n",
       "      <td>NC_000913.3:4428717-4428727(-)</td>\n",
       "      <td>GGAGGAAACC</td>\n",
       "    </tr>\n",
       "    <tr>\n",
       "      <th>24</th>\n",
       "      <td>NC_000913.3:497164-497174(+)</td>\n",
       "      <td>0</td>\n",
       "      <td>NC_000913.3:497164-497174(+)</td>\n",
       "      <td>GATTTTCGCA</td>\n",
       "    </tr>\n",
       "    <tr>\n",
       "      <th>25</th>\n",
       "      <td>NC_000913.3:632171-632181(+)</td>\n",
       "      <td>0</td>\n",
       "      <td>NC_000913.3:632171-632181(+)</td>\n",
       "      <td>GGAGGCCAAG</td>\n",
       "    </tr>\n",
       "    <tr>\n",
       "      <th>26</th>\n",
       "      <td>NC_000913.3:933213-933223(+)</td>\n",
       "      <td>0</td>\n",
       "      <td>NC_000913.3:933213-933223(+)</td>\n",
       "      <td>AGAGCCTTTC</td>\n",
       "    </tr>\n",
       "  </tbody>\n",
       "</table>\n",
       "</div>"
      ],
      "text/plain": [
       "                              gene cluster                           names  \\\n",
       "0   NC_000913.3:1157858-1157868(+)       0  NC_000913.3:1157858-1157868(+)   \n",
       "1       NC_000913.3:11786-11796(-)       0      NC_000913.3:11786-11796(-)   \n",
       "2   NC_000913.3:1292922-1292932(-)       0  NC_000913.3:1292922-1292932(-)   \n",
       "3   NC_000913.3:1629204-1629214(+)       0  NC_000913.3:1629204-1629214(+)   \n",
       "4   NC_000913.3:1642111-1642121(+)       0  NC_000913.3:1642111-1642121(+)   \n",
       "5   NC_000913.3:1726648-1726658(+)       0  NC_000913.3:1726648-1726658(+)   \n",
       "6   NC_000913.3:1930747-1930757(-)       0  NC_000913.3:1930747-1930757(-)   \n",
       "7   NC_000913.3:1986128-1986138(-)       0  NC_000913.3:1986128-1986138(-)   \n",
       "8   NC_000913.3:2172873-2172883(-)       0  NC_000913.3:2172873-2172883(-)   \n",
       "9   NC_000913.3:2237753-2237763(-)       0  NC_000913.3:2237753-2237763(-)   \n",
       "10  NC_000913.3:2295586-2295596(-)       0  NC_000913.3:2295586-2295596(-)   \n",
       "11  NC_000913.3:2501119-2501129(+)       0  NC_000913.3:2501119-2501129(+)   \n",
       "12  NC_000913.3:2522477-2522487(-)       0  NC_000913.3:2522477-2522487(-)   \n",
       "13  NC_000913.3:3305817-3305827(-)       0  NC_000913.3:3305817-3305827(-)   \n",
       "14  NC_000913.3:3333699-3333709(+)       0  NC_000913.3:3333699-3333709(+)   \n",
       "15    NC_000913.3:363179-363189(-)       0    NC_000913.3:363179-363189(-)   \n",
       "16  NC_000913.3:3660403-3660413(+)       0  NC_000913.3:3660403-3660413(+)   \n",
       "17  NC_000913.3:3804137-3804147(-)       0  NC_000913.3:3804137-3804147(-)   \n",
       "18  NC_000913.3:3871730-3871740(-)       0  NC_000913.3:3871730-3871740(-)   \n",
       "19  NC_000913.3:4024821-4024831(-)       0  NC_000913.3:4024821-4024831(-)   \n",
       "20  NC_000913.3:4053757-4053767(-)       0  NC_000913.3:4053757-4053767(-)   \n",
       "21  NC_000913.3:4121747-4121757(-)       0  NC_000913.3:4121747-4121757(-)   \n",
       "22  NC_000913.3:4127894-4127904(-)       0  NC_000913.3:4127894-4127904(-)   \n",
       "23  NC_000913.3:4428717-4428727(-)       0  NC_000913.3:4428717-4428727(-)   \n",
       "24    NC_000913.3:497164-497174(+)       0    NC_000913.3:497164-497174(+)   \n",
       "25    NC_000913.3:632171-632181(+)       0    NC_000913.3:632171-632181(+)   \n",
       "26    NC_000913.3:933213-933223(+)       0    NC_000913.3:933213-933223(+)   \n",
       "\n",
       "           seq  \n",
       "0   ACTCTCAATT  \n",
       "1   GAGAATCCTT  \n",
       "2   GATTACTACA  \n",
       "3   GAAAACACCT  \n",
       "4   GAGAGTTTTT  \n",
       "5   GGGAGCCTTT  \n",
       "6   GAGGCTGCAA  \n",
       "7   GGAGAGAACC  \n",
       "8   AGGAGTTTTT  \n",
       "9   GGGGCTTCCC  \n",
       "10  GAGGCCGTAA  \n",
       "11  GGGAACTTTC  \n",
       "12  GCACTTAATT  \n",
       "13  AGAAGCCCTC  \n",
       "14  GGCTTTTGCG  \n",
       "15  GAAATCCATT  \n",
       "16  GGGGACTTTC  \n",
       "17  GAGAGTTTCT  \n",
       "18  AAAGCTCGCT  \n",
       "19  AAGAGTCATT  \n",
       "20  GAGAGTCATT  \n",
       "21  AGGATCTCCC  \n",
       "22  ACGTTTAACT  \n",
       "23  GGAGGAAACC  \n",
       "24  GATTTTCGCA  \n",
       "25  GGAGGCCAAG  \n",
       "26  AGAGCCTTTC  "
      ]
     },
     "execution_count": 56,
     "metadata": {},
     "output_type": "execute_result"
    }
   ],
   "source": [
    "df.head(30)"
   ]
  },
  {
   "cell_type": "code",
   "execution_count": 58,
   "id": "0b749b82",
   "metadata": {},
   "outputs": [],
   "source": [
    "df = pandas.merge(intersect_df, seqs_df, left_on=\"gene\", right_on=\"names\")"
   ]
  },
  {
   "cell_type": "code",
   "execution_count": 59,
   "id": "edcd3aa7",
   "metadata": {},
   "outputs": [
    {
     "data": {
      "text/html": [
       "<div>\n",
       "<style scoped>\n",
       "    .dataframe tbody tr th:only-of-type {\n",
       "        vertical-align: middle;\n",
       "    }\n",
       "\n",
       "    .dataframe tbody tr th {\n",
       "        vertical-align: top;\n",
       "    }\n",
       "\n",
       "    .dataframe thead th {\n",
       "        text-align: right;\n",
       "    }\n",
       "</style>\n",
       "<table border=\"1\" class=\"dataframe\">\n",
       "  <thead>\n",
       "    <tr style=\"text-align: right;\">\n",
       "      <th></th>\n",
       "      <th>gene</th>\n",
       "      <th>cluster</th>\n",
       "      <th>names</th>\n",
       "      <th>seq</th>\n",
       "    </tr>\n",
       "  </thead>\n",
       "  <tbody>\n",
       "    <tr>\n",
       "      <th>0</th>\n",
       "      <td>NC_000913.3:1157858-1157868(+)</td>\n",
       "      <td>0</td>\n",
       "      <td>NC_000913.3:1157858-1157868(+)</td>\n",
       "      <td>ACTCTCAATT</td>\n",
       "    </tr>\n",
       "    <tr>\n",
       "      <th>1</th>\n",
       "      <td>NC_000913.3:1292922-1292932(-)</td>\n",
       "      <td>0</td>\n",
       "      <td>NC_000913.3:1292922-1292932(-)</td>\n",
       "      <td>GATTACTACA</td>\n",
       "    </tr>\n",
       "    <tr>\n",
       "      <th>2</th>\n",
       "      <td>NC_000913.3:1930747-1930757(-)</td>\n",
       "      <td>0</td>\n",
       "      <td>NC_000913.3:1930747-1930757(-)</td>\n",
       "      <td>GAGGCTGCAA</td>\n",
       "    </tr>\n",
       "    <tr>\n",
       "      <th>3</th>\n",
       "      <td>NC_000913.3:2237753-2237763(-)</td>\n",
       "      <td>0</td>\n",
       "      <td>NC_000913.3:2237753-2237763(-)</td>\n",
       "      <td>GGGGCTTCCC</td>\n",
       "    </tr>\n",
       "    <tr>\n",
       "      <th>4</th>\n",
       "      <td>NC_000913.3:2295586-2295596(-)</td>\n",
       "      <td>0</td>\n",
       "      <td>NC_000913.3:2295586-2295596(-)</td>\n",
       "      <td>GAGGCCGTAA</td>\n",
       "    </tr>\n",
       "    <tr>\n",
       "      <th>5</th>\n",
       "      <td>NC_000913.3:2501119-2501129(+)</td>\n",
       "      <td>0</td>\n",
       "      <td>NC_000913.3:2501119-2501129(+)</td>\n",
       "      <td>GGGAACTTTC</td>\n",
       "    </tr>\n",
       "    <tr>\n",
       "      <th>6</th>\n",
       "      <td>NC_000913.3:2522477-2522487(-)</td>\n",
       "      <td>0</td>\n",
       "      <td>NC_000913.3:2522477-2522487(-)</td>\n",
       "      <td>GCACTTAATT</td>\n",
       "    </tr>\n",
       "    <tr>\n",
       "      <th>7</th>\n",
       "      <td>NC_000913.3:3305817-3305827(-)</td>\n",
       "      <td>0</td>\n",
       "      <td>NC_000913.3:3305817-3305827(-)</td>\n",
       "      <td>AGAAGCCCTC</td>\n",
       "    </tr>\n",
       "    <tr>\n",
       "      <th>8</th>\n",
       "      <td>NC_000913.3:3333699-3333709(+)</td>\n",
       "      <td>0</td>\n",
       "      <td>NC_000913.3:3333699-3333709(+)</td>\n",
       "      <td>GGCTTTTGCG</td>\n",
       "    </tr>\n",
       "    <tr>\n",
       "      <th>9</th>\n",
       "      <td>NC_000913.3:363179-363189(-)</td>\n",
       "      <td>0</td>\n",
       "      <td>NC_000913.3:363179-363189(-)</td>\n",
       "      <td>GAAATCCATT</td>\n",
       "    </tr>\n",
       "    <tr>\n",
       "      <th>10</th>\n",
       "      <td>NC_000913.3:3660403-3660413(+)</td>\n",
       "      <td>0</td>\n",
       "      <td>NC_000913.3:3660403-3660413(+)</td>\n",
       "      <td>GGGGACTTTC</td>\n",
       "    </tr>\n",
       "    <tr>\n",
       "      <th>11</th>\n",
       "      <td>NC_000913.3:3871730-3871740(-)</td>\n",
       "      <td>0</td>\n",
       "      <td>NC_000913.3:3871730-3871740(-)</td>\n",
       "      <td>AAAGCTCGCT</td>\n",
       "    </tr>\n",
       "    <tr>\n",
       "      <th>12</th>\n",
       "      <td>NC_000913.3:4127894-4127904(-)</td>\n",
       "      <td>0</td>\n",
       "      <td>NC_000913.3:4127894-4127904(-)</td>\n",
       "      <td>ACGTTTAACT</td>\n",
       "    </tr>\n",
       "    <tr>\n",
       "      <th>13</th>\n",
       "      <td>NC_000913.3:497164-497174(+)</td>\n",
       "      <td>0</td>\n",
       "      <td>NC_000913.3:497164-497174(+)</td>\n",
       "      <td>GATTTTCGCA</td>\n",
       "    </tr>\n",
       "    <tr>\n",
       "      <th>14</th>\n",
       "      <td>NC_000913.3:933213-933223(+)</td>\n",
       "      <td>0</td>\n",
       "      <td>NC_000913.3:933213-933223(+)</td>\n",
       "      <td>AGAGCCTTTC</td>\n",
       "    </tr>\n",
       "  </tbody>\n",
       "</table>\n",
       "</div>"
      ],
      "text/plain": [
       "                              gene cluster                           names  \\\n",
       "0   NC_000913.3:1157858-1157868(+)       0  NC_000913.3:1157858-1157868(+)   \n",
       "1   NC_000913.3:1292922-1292932(-)       0  NC_000913.3:1292922-1292932(-)   \n",
       "2   NC_000913.3:1930747-1930757(-)       0  NC_000913.3:1930747-1930757(-)   \n",
       "3   NC_000913.3:2237753-2237763(-)       0  NC_000913.3:2237753-2237763(-)   \n",
       "4   NC_000913.3:2295586-2295596(-)       0  NC_000913.3:2295586-2295596(-)   \n",
       "5   NC_000913.3:2501119-2501129(+)       0  NC_000913.3:2501119-2501129(+)   \n",
       "6   NC_000913.3:2522477-2522487(-)       0  NC_000913.3:2522477-2522487(-)   \n",
       "7   NC_000913.3:3305817-3305827(-)       0  NC_000913.3:3305817-3305827(-)   \n",
       "8   NC_000913.3:3333699-3333709(+)       0  NC_000913.3:3333699-3333709(+)   \n",
       "9     NC_000913.3:363179-363189(-)       0    NC_000913.3:363179-363189(-)   \n",
       "10  NC_000913.3:3660403-3660413(+)       0  NC_000913.3:3660403-3660413(+)   \n",
       "11  NC_000913.3:3871730-3871740(-)       0  NC_000913.3:3871730-3871740(-)   \n",
       "12  NC_000913.3:4127894-4127904(-)       0  NC_000913.3:4127894-4127904(-)   \n",
       "13    NC_000913.3:497164-497174(+)       0    NC_000913.3:497164-497174(+)   \n",
       "14    NC_000913.3:933213-933223(+)       0    NC_000913.3:933213-933223(+)   \n",
       "\n",
       "           seq  \n",
       "0   ACTCTCAATT  \n",
       "1   GATTACTACA  \n",
       "2   GAGGCTGCAA  \n",
       "3   GGGGCTTCCC  \n",
       "4   GAGGCCGTAA  \n",
       "5   GGGAACTTTC  \n",
       "6   GCACTTAATT  \n",
       "7   AGAAGCCCTC  \n",
       "8   GGCTTTTGCG  \n",
       "9   GAAATCCATT  \n",
       "10  GGGGACTTTC  \n",
       "11  AAAGCTCGCT  \n",
       "12  ACGTTTAACT  \n",
       "13  GATTTTCGCA  \n",
       "14  AGAGCCTTTC  "
      ]
     },
     "execution_count": 59,
     "metadata": {},
     "output_type": "execute_result"
    }
   ],
   "source": [
    "df.head(15)"
   ]
  },
  {
   "cell_type": "code",
   "execution_count": null,
   "id": "7d1d2e6d",
   "metadata": {},
   "outputs": [],
   "source": []
  }
 ],
 "metadata": {
  "kernelspec": {
   "display_name": "Python 3 (ipykernel)",
   "language": "python",
   "name": "python3"
  },
  "language_info": {
   "codemirror_mode": {
    "name": "ipython",
    "version": 3
   },
   "file_extension": ".py",
   "mimetype": "text/x-python",
   "name": "python",
   "nbconvert_exporter": "python",
   "pygments_lexer": "ipython3",
   "version": "3.7.8"
  }
 },
 "nbformat": 4,
 "nbformat_minor": 5
}
