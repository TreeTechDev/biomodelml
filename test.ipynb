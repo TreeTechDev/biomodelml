{
 "cells": [
  {
   "cell_type": "code",
   "execution_count": 1,
   "metadata": {},
   "outputs": [],
   "source": [
    "import pandas\n",
    "import hdbscan\n",
    "\n",
    "df = pandas.read_csv(\"data/similarity.csv\")"
   ]
  },
  {
   "cell_type": "code",
   "execution_count": null,
   "metadata": {},
   "outputs": [],
   "source": [
    "df[\"gene\"] = df[\"gene\"].str.replace(\"\\)\\.\", \")\")\n",
    "df[\"compare\"] = df[\"compare\"].str.replace(\"\\)\\.\", \")\")"
   ]
  },
  {
   "cell_type": "code",
   "execution_count": 14,
   "metadata": {},
   "outputs": [],
   "source": [
    "df.drop_duplicates(inplace=True)"
   ]
  },
  {
   "cell_type": "code",
   "execution_count": 16,
   "metadata": {},
   "outputs": [
    {
     "data": {
      "text/html": [
       "<div>\n",
       "<style scoped>\n",
       "    .dataframe tbody tr th:only-of-type {\n",
       "        vertical-align: middle;\n",
       "    }\n",
       "\n",
       "    .dataframe tbody tr th {\n",
       "        vertical-align: top;\n",
       "    }\n",
       "\n",
       "    .dataframe thead th {\n",
       "        text-align: right;\n",
       "    }\n",
       "</style>\n",
       "<table border=\"1\" class=\"dataframe\">\n",
       "  <thead>\n",
       "    <tr style=\"text-align: right;\">\n",
       "      <th></th>\n",
       "      <th>gene</th>\n",
       "      <th>compare</th>\n",
       "      <th>similarity</th>\n",
       "    </tr>\n",
       "  </thead>\n",
       "  <tbody>\n",
       "    <tr>\n",
       "      <th>0</th>\n",
       "      <td>NC_000913.3:4085822-4085832(-)</td>\n",
       "      <td>NC_000913.3:4085822-4085832(-)</td>\n",
       "      <td>1.000000</td>\n",
       "    </tr>\n",
       "    <tr>\n",
       "      <th>2</th>\n",
       "      <td>NC_000913.3:4085822-4085832(-)</td>\n",
       "      <td>NC_000913.3:665190-665200(-)</td>\n",
       "      <td>0.931295</td>\n",
       "    </tr>\n",
       "    <tr>\n",
       "      <th>3</th>\n",
       "      <td>NC_000913.3:665190-665200(-)</td>\n",
       "      <td>NC_000913.3:4085822-4085832(-)</td>\n",
       "      <td>0.931295</td>\n",
       "    </tr>\n",
       "    <tr>\n",
       "      <th>4</th>\n",
       "      <td>NC_000913.3:4085822-4085832(-)</td>\n",
       "      <td>NC_000913.3:461904-461914(+)</td>\n",
       "      <td>0.906402</td>\n",
       "    </tr>\n",
       "    <tr>\n",
       "      <th>5</th>\n",
       "      <td>NC_000913.3:461904-461914(+)</td>\n",
       "      <td>NC_000913.3:4085822-4085832(-)</td>\n",
       "      <td>0.906402</td>\n",
       "    </tr>\n",
       "  </tbody>\n",
       "</table>\n",
       "</div>"
      ],
      "text/plain": [
       "                             gene                         compare  similarity\n",
       "0  NC_000913.3:4085822-4085832(-)  NC_000913.3:4085822-4085832(-)    1.000000\n",
       "2  NC_000913.3:4085822-4085832(-)    NC_000913.3:665190-665200(-)    0.931295\n",
       "3    NC_000913.3:665190-665200(-)  NC_000913.3:4085822-4085832(-)    0.931295\n",
       "4  NC_000913.3:4085822-4085832(-)    NC_000913.3:461904-461914(+)    0.906402\n",
       "5    NC_000913.3:461904-461914(+)  NC_000913.3:4085822-4085832(-)    0.906402"
      ]
     },
     "execution_count": 16,
     "metadata": {},
     "output_type": "execute_result"
    }
   ],
   "source": [
    "df.head()"
   ]
  },
  {
   "cell_type": "code",
   "execution_count": 18,
   "metadata": {},
   "outputs": [
    {
     "data": {
      "text/plain": [
       "count    258276.000000\n",
       "mean          0.906470\n",
       "std           0.040979\n",
       "min           0.663639\n",
       "25%           0.887634\n",
       "50%           0.911378\n",
       "75%           0.934140\n",
       "max           1.000000\n",
       "Name: similarity, dtype: float64"
      ]
     },
     "execution_count": 18,
     "metadata": {},
     "output_type": "execute_result"
    }
   ],
   "source": [
    "df.similarity.describe()"
   ]
  },
  {
   "cell_type": "code",
   "execution_count": 73,
   "metadata": {},
   "outputs": [],
   "source": [
    "sim_matrix = df.pivot(\"gene\", \"compare\", \"similarity\").fillna(0)"
   ]
  },
  {
   "cell_type": "code",
   "execution_count": 74,
   "metadata": {},
   "outputs": [
    {
     "data": {
      "text/html": [
       "<div>\n",
       "<style scoped>\n",
       "    .dataframe tbody tr th:only-of-type {\n",
       "        vertical-align: middle;\n",
       "    }\n",
       "\n",
       "    .dataframe tbody tr th {\n",
       "        vertical-align: top;\n",
       "    }\n",
       "\n",
       "    .dataframe thead th {\n",
       "        text-align: right;\n",
       "    }\n",
       "</style>\n",
       "<table border=\"1\" class=\"dataframe\">\n",
       "  <thead>\n",
       "    <tr style=\"text-align: right;\">\n",
       "      <th>compare</th>\n",
       "      <th>NC_000913.3:1003428-1003438(+)</th>\n",
       "      <th>NC_000913.3:1004757-1004767(+)</th>\n",
       "      <th>NC_000913.3:1005941-1005951(+)</th>\n",
       "      <th>NC_000913.3:100754-100764(+)</th>\n",
       "      <th>NC_000913.3:1007600-1007610(-)</th>\n",
       "      <th>NC_000913.3:1007833-1007843(+)</th>\n",
       "      <th>NC_000913.3:1009953-1009963(+)</th>\n",
       "      <th>NC_000913.3:1011990-1012000(+)</th>\n",
       "      <th>NC_000913.3:1013248-1013258(+)</th>\n",
       "      <th>NC_000913.3:1014885-1014895(+)</th>\n",
       "      <th>...</th>\n",
       "      <th>NC_000913.3:985709-985719(-)</th>\n",
       "      <th>NC_000913.3:986982-986992(-)</th>\n",
       "      <th>NC_000913.3:988985-988995(-)</th>\n",
       "      <th>NC_000913.3:990356-990366(-)</th>\n",
       "      <th>NC_000913.3:990611-990621(+)</th>\n",
       "      <th>NC_000913.3:994832-994842(-)</th>\n",
       "      <th>NC_000913.3:995988-995998(-)</th>\n",
       "      <th>NC_000913.3:99633-99643(+)</th>\n",
       "      <th>NC_000913.3:996944-996954(-)</th>\n",
       "      <th>NC_000913.3:997857-997867(+)</th>\n",
       "    </tr>\n",
       "    <tr>\n",
       "      <th>gene</th>\n",
       "      <th></th>\n",
       "      <th></th>\n",
       "      <th></th>\n",
       "      <th></th>\n",
       "      <th></th>\n",
       "      <th></th>\n",
       "      <th></th>\n",
       "      <th></th>\n",
       "      <th></th>\n",
       "      <th></th>\n",
       "      <th></th>\n",
       "      <th></th>\n",
       "      <th></th>\n",
       "      <th></th>\n",
       "      <th></th>\n",
       "      <th></th>\n",
       "      <th></th>\n",
       "      <th></th>\n",
       "      <th></th>\n",
       "      <th></th>\n",
       "      <th></th>\n",
       "    </tr>\n",
       "  </thead>\n",
       "  <tbody>\n",
       "    <tr>\n",
       "      <th>NC_000913.3:1003428-1003438(+)</th>\n",
       "      <td>0.0</td>\n",
       "      <td>0.0</td>\n",
       "      <td>0.0</td>\n",
       "      <td>0.0</td>\n",
       "      <td>0.0</td>\n",
       "      <td>0.0</td>\n",
       "      <td>0.0</td>\n",
       "      <td>0.0</td>\n",
       "      <td>0.0</td>\n",
       "      <td>0.0</td>\n",
       "      <td>...</td>\n",
       "      <td>0.0</td>\n",
       "      <td>0.0</td>\n",
       "      <td>0.0</td>\n",
       "      <td>0.907005</td>\n",
       "      <td>0.0</td>\n",
       "      <td>0.0</td>\n",
       "      <td>0.0</td>\n",
       "      <td>0.0</td>\n",
       "      <td>0.0</td>\n",
       "      <td>0.0</td>\n",
       "    </tr>\n",
       "    <tr>\n",
       "      <th>NC_000913.3:1004757-1004767(+)</th>\n",
       "      <td>0.0</td>\n",
       "      <td>0.0</td>\n",
       "      <td>0.0</td>\n",
       "      <td>0.0</td>\n",
       "      <td>0.0</td>\n",
       "      <td>0.0</td>\n",
       "      <td>0.0</td>\n",
       "      <td>0.0</td>\n",
       "      <td>0.0</td>\n",
       "      <td>0.0</td>\n",
       "      <td>...</td>\n",
       "      <td>0.0</td>\n",
       "      <td>0.0</td>\n",
       "      <td>0.0</td>\n",
       "      <td>0.943509</td>\n",
       "      <td>0.0</td>\n",
       "      <td>0.0</td>\n",
       "      <td>0.0</td>\n",
       "      <td>0.0</td>\n",
       "      <td>0.0</td>\n",
       "      <td>0.0</td>\n",
       "    </tr>\n",
       "    <tr>\n",
       "      <th>NC_000913.3:1005941-1005951(+)</th>\n",
       "      <td>0.0</td>\n",
       "      <td>0.0</td>\n",
       "      <td>0.0</td>\n",
       "      <td>0.0</td>\n",
       "      <td>0.0</td>\n",
       "      <td>0.0</td>\n",
       "      <td>0.0</td>\n",
       "      <td>0.0</td>\n",
       "      <td>0.0</td>\n",
       "      <td>0.0</td>\n",
       "      <td>...</td>\n",
       "      <td>0.0</td>\n",
       "      <td>0.0</td>\n",
       "      <td>0.0</td>\n",
       "      <td>0.939586</td>\n",
       "      <td>0.0</td>\n",
       "      <td>0.0</td>\n",
       "      <td>0.0</td>\n",
       "      <td>0.0</td>\n",
       "      <td>0.0</td>\n",
       "      <td>0.0</td>\n",
       "    </tr>\n",
       "    <tr>\n",
       "      <th>NC_000913.3:100754-100764(+)</th>\n",
       "      <td>0.0</td>\n",
       "      <td>0.0</td>\n",
       "      <td>0.0</td>\n",
       "      <td>0.0</td>\n",
       "      <td>0.0</td>\n",
       "      <td>0.0</td>\n",
       "      <td>0.0</td>\n",
       "      <td>0.0</td>\n",
       "      <td>0.0</td>\n",
       "      <td>0.0</td>\n",
       "      <td>...</td>\n",
       "      <td>0.0</td>\n",
       "      <td>0.0</td>\n",
       "      <td>0.0</td>\n",
       "      <td>0.927991</td>\n",
       "      <td>0.0</td>\n",
       "      <td>0.0</td>\n",
       "      <td>0.0</td>\n",
       "      <td>0.0</td>\n",
       "      <td>0.0</td>\n",
       "      <td>0.0</td>\n",
       "    </tr>\n",
       "    <tr>\n",
       "      <th>NC_000913.3:1007600-1007610(-)</th>\n",
       "      <td>0.0</td>\n",
       "      <td>0.0</td>\n",
       "      <td>0.0</td>\n",
       "      <td>0.0</td>\n",
       "      <td>0.0</td>\n",
       "      <td>0.0</td>\n",
       "      <td>0.0</td>\n",
       "      <td>0.0</td>\n",
       "      <td>0.0</td>\n",
       "      <td>0.0</td>\n",
       "      <td>...</td>\n",
       "      <td>0.0</td>\n",
       "      <td>0.0</td>\n",
       "      <td>0.0</td>\n",
       "      <td>0.938097</td>\n",
       "      <td>0.0</td>\n",
       "      <td>0.0</td>\n",
       "      <td>0.0</td>\n",
       "      <td>0.0</td>\n",
       "      <td>0.0</td>\n",
       "      <td>0.0</td>\n",
       "    </tr>\n",
       "  </tbody>\n",
       "</table>\n",
       "<p>5 rows × 3293 columns</p>\n",
       "</div>"
      ],
      "text/plain": [
       "compare                         NC_000913.3:1003428-1003438(+)  \\\n",
       "gene                                                             \n",
       "NC_000913.3:1003428-1003438(+)                             0.0   \n",
       "NC_000913.3:1004757-1004767(+)                             0.0   \n",
       "NC_000913.3:1005941-1005951(+)                             0.0   \n",
       "NC_000913.3:100754-100764(+)                               0.0   \n",
       "NC_000913.3:1007600-1007610(-)                             0.0   \n",
       "\n",
       "compare                         NC_000913.3:1004757-1004767(+)  \\\n",
       "gene                                                             \n",
       "NC_000913.3:1003428-1003438(+)                             0.0   \n",
       "NC_000913.3:1004757-1004767(+)                             0.0   \n",
       "NC_000913.3:1005941-1005951(+)                             0.0   \n",
       "NC_000913.3:100754-100764(+)                               0.0   \n",
       "NC_000913.3:1007600-1007610(-)                             0.0   \n",
       "\n",
       "compare                         NC_000913.3:1005941-1005951(+)  \\\n",
       "gene                                                             \n",
       "NC_000913.3:1003428-1003438(+)                             0.0   \n",
       "NC_000913.3:1004757-1004767(+)                             0.0   \n",
       "NC_000913.3:1005941-1005951(+)                             0.0   \n",
       "NC_000913.3:100754-100764(+)                               0.0   \n",
       "NC_000913.3:1007600-1007610(-)                             0.0   \n",
       "\n",
       "compare                         NC_000913.3:100754-100764(+)  \\\n",
       "gene                                                           \n",
       "NC_000913.3:1003428-1003438(+)                           0.0   \n",
       "NC_000913.3:1004757-1004767(+)                           0.0   \n",
       "NC_000913.3:1005941-1005951(+)                           0.0   \n",
       "NC_000913.3:100754-100764(+)                             0.0   \n",
       "NC_000913.3:1007600-1007610(-)                           0.0   \n",
       "\n",
       "compare                         NC_000913.3:1007600-1007610(-)  \\\n",
       "gene                                                             \n",
       "NC_000913.3:1003428-1003438(+)                             0.0   \n",
       "NC_000913.3:1004757-1004767(+)                             0.0   \n",
       "NC_000913.3:1005941-1005951(+)                             0.0   \n",
       "NC_000913.3:100754-100764(+)                               0.0   \n",
       "NC_000913.3:1007600-1007610(-)                             0.0   \n",
       "\n",
       "compare                         NC_000913.3:1007833-1007843(+)  \\\n",
       "gene                                                             \n",
       "NC_000913.3:1003428-1003438(+)                             0.0   \n",
       "NC_000913.3:1004757-1004767(+)                             0.0   \n",
       "NC_000913.3:1005941-1005951(+)                             0.0   \n",
       "NC_000913.3:100754-100764(+)                               0.0   \n",
       "NC_000913.3:1007600-1007610(-)                             0.0   \n",
       "\n",
       "compare                         NC_000913.3:1009953-1009963(+)  \\\n",
       "gene                                                             \n",
       "NC_000913.3:1003428-1003438(+)                             0.0   \n",
       "NC_000913.3:1004757-1004767(+)                             0.0   \n",
       "NC_000913.3:1005941-1005951(+)                             0.0   \n",
       "NC_000913.3:100754-100764(+)                               0.0   \n",
       "NC_000913.3:1007600-1007610(-)                             0.0   \n",
       "\n",
       "compare                         NC_000913.3:1011990-1012000(+)  \\\n",
       "gene                                                             \n",
       "NC_000913.3:1003428-1003438(+)                             0.0   \n",
       "NC_000913.3:1004757-1004767(+)                             0.0   \n",
       "NC_000913.3:1005941-1005951(+)                             0.0   \n",
       "NC_000913.3:100754-100764(+)                               0.0   \n",
       "NC_000913.3:1007600-1007610(-)                             0.0   \n",
       "\n",
       "compare                         NC_000913.3:1013248-1013258(+)  \\\n",
       "gene                                                             \n",
       "NC_000913.3:1003428-1003438(+)                             0.0   \n",
       "NC_000913.3:1004757-1004767(+)                             0.0   \n",
       "NC_000913.3:1005941-1005951(+)                             0.0   \n",
       "NC_000913.3:100754-100764(+)                               0.0   \n",
       "NC_000913.3:1007600-1007610(-)                             0.0   \n",
       "\n",
       "compare                         NC_000913.3:1014885-1014895(+)  ...  \\\n",
       "gene                                                            ...   \n",
       "NC_000913.3:1003428-1003438(+)                             0.0  ...   \n",
       "NC_000913.3:1004757-1004767(+)                             0.0  ...   \n",
       "NC_000913.3:1005941-1005951(+)                             0.0  ...   \n",
       "NC_000913.3:100754-100764(+)                               0.0  ...   \n",
       "NC_000913.3:1007600-1007610(-)                             0.0  ...   \n",
       "\n",
       "compare                         NC_000913.3:985709-985719(-)  \\\n",
       "gene                                                           \n",
       "NC_000913.3:1003428-1003438(+)                           0.0   \n",
       "NC_000913.3:1004757-1004767(+)                           0.0   \n",
       "NC_000913.3:1005941-1005951(+)                           0.0   \n",
       "NC_000913.3:100754-100764(+)                             0.0   \n",
       "NC_000913.3:1007600-1007610(-)                           0.0   \n",
       "\n",
       "compare                         NC_000913.3:986982-986992(-)  \\\n",
       "gene                                                           \n",
       "NC_000913.3:1003428-1003438(+)                           0.0   \n",
       "NC_000913.3:1004757-1004767(+)                           0.0   \n",
       "NC_000913.3:1005941-1005951(+)                           0.0   \n",
       "NC_000913.3:100754-100764(+)                             0.0   \n",
       "NC_000913.3:1007600-1007610(-)                           0.0   \n",
       "\n",
       "compare                         NC_000913.3:988985-988995(-)  \\\n",
       "gene                                                           \n",
       "NC_000913.3:1003428-1003438(+)                           0.0   \n",
       "NC_000913.3:1004757-1004767(+)                           0.0   \n",
       "NC_000913.3:1005941-1005951(+)                           0.0   \n",
       "NC_000913.3:100754-100764(+)                             0.0   \n",
       "NC_000913.3:1007600-1007610(-)                           0.0   \n",
       "\n",
       "compare                         NC_000913.3:990356-990366(-)  \\\n",
       "gene                                                           \n",
       "NC_000913.3:1003428-1003438(+)                      0.907005   \n",
       "NC_000913.3:1004757-1004767(+)                      0.943509   \n",
       "NC_000913.3:1005941-1005951(+)                      0.939586   \n",
       "NC_000913.3:100754-100764(+)                        0.927991   \n",
       "NC_000913.3:1007600-1007610(-)                      0.938097   \n",
       "\n",
       "compare                         NC_000913.3:990611-990621(+)  \\\n",
       "gene                                                           \n",
       "NC_000913.3:1003428-1003438(+)                           0.0   \n",
       "NC_000913.3:1004757-1004767(+)                           0.0   \n",
       "NC_000913.3:1005941-1005951(+)                           0.0   \n",
       "NC_000913.3:100754-100764(+)                             0.0   \n",
       "NC_000913.3:1007600-1007610(-)                           0.0   \n",
       "\n",
       "compare                         NC_000913.3:994832-994842(-)  \\\n",
       "gene                                                           \n",
       "NC_000913.3:1003428-1003438(+)                           0.0   \n",
       "NC_000913.3:1004757-1004767(+)                           0.0   \n",
       "NC_000913.3:1005941-1005951(+)                           0.0   \n",
       "NC_000913.3:100754-100764(+)                             0.0   \n",
       "NC_000913.3:1007600-1007610(-)                           0.0   \n",
       "\n",
       "compare                         NC_000913.3:995988-995998(-)  \\\n",
       "gene                                                           \n",
       "NC_000913.3:1003428-1003438(+)                           0.0   \n",
       "NC_000913.3:1004757-1004767(+)                           0.0   \n",
       "NC_000913.3:1005941-1005951(+)                           0.0   \n",
       "NC_000913.3:100754-100764(+)                             0.0   \n",
       "NC_000913.3:1007600-1007610(-)                           0.0   \n",
       "\n",
       "compare                         NC_000913.3:99633-99643(+)  \\\n",
       "gene                                                         \n",
       "NC_000913.3:1003428-1003438(+)                         0.0   \n",
       "NC_000913.3:1004757-1004767(+)                         0.0   \n",
       "NC_000913.3:1005941-1005951(+)                         0.0   \n",
       "NC_000913.3:100754-100764(+)                           0.0   \n",
       "NC_000913.3:1007600-1007610(-)                         0.0   \n",
       "\n",
       "compare                         NC_000913.3:996944-996954(-)  \\\n",
       "gene                                                           \n",
       "NC_000913.3:1003428-1003438(+)                           0.0   \n",
       "NC_000913.3:1004757-1004767(+)                           0.0   \n",
       "NC_000913.3:1005941-1005951(+)                           0.0   \n",
       "NC_000913.3:100754-100764(+)                             0.0   \n",
       "NC_000913.3:1007600-1007610(-)                           0.0   \n",
       "\n",
       "compare                         NC_000913.3:997857-997867(+)  \n",
       "gene                                                          \n",
       "NC_000913.3:1003428-1003438(+)                           0.0  \n",
       "NC_000913.3:1004757-1004767(+)                           0.0  \n",
       "NC_000913.3:1005941-1005951(+)                           0.0  \n",
       "NC_000913.3:100754-100764(+)                             0.0  \n",
       "NC_000913.3:1007600-1007610(-)                           0.0  \n",
       "\n",
       "[5 rows x 3293 columns]"
      ]
     },
     "execution_count": 74,
     "metadata": {},
     "output_type": "execute_result"
    }
   ],
   "source": [
    "sim_matrix.head()"
   ]
  },
  {
   "cell_type": "code",
   "execution_count": 80,
   "metadata": {},
   "outputs": [
    {
     "data": {
      "text/plain": [
       "HDBSCAN(metric='precomputed')"
      ]
     },
     "execution_count": 80,
     "metadata": {},
     "output_type": "execute_result"
    }
   ],
   "source": [
    "clusterer = hdbscan.HDBSCAN(metric=\"precomputed\")\n",
    "clusterer.fit(sim_matrix)"
   ]
  },
  {
   "cell_type": "code",
   "execution_count": 81,
   "metadata": {},
   "outputs": [
    {
     "data": {
      "text/plain": [
       "1"
      ]
     },
     "execution_count": 81,
     "metadata": {},
     "output_type": "execute_result"
    }
   ],
   "source": [
    "clusterer.labels_.max()"
   ]
  },
  {
   "cell_type": "code",
   "execution_count": 82,
   "metadata": {},
   "outputs": [
    {
     "data": {
      "text/plain": [
       "<AxesSubplot:ylabel='$\\\\lambda$ value'>"
      ]
     },
     "execution_count": 82,
     "metadata": {},
     "output_type": "execute_result"
    },
    {
     "data": {
      "image/png": "[encoded data removed]",
      "text/plain": [
       "<Figure size 432x288 with 2 Axes>"
      ]
     },
     "metadata": {
      "needs_background": "light"
     },
     "output_type": "display_data"
    }
   ],
   "source": [
    "clusterer.condensed_tree_.plot()"
   ]
  },
  {
   "cell_type": "code",
   "execution_count": 83,
   "metadata": {},
   "outputs": [
    {
     "data": {
      "text/plain": [
       "<AxesSubplot:ylabel='distance'>"
      ]
     },
     "execution_count": 83,
     "metadata": {},
     "output_type": "execute_result"
    },
    {
     "data": {
      "image/png": "[encoded data removed]",
      "text/plain": [
       "<Figure size 432x288 with 2 Axes>"
      ]
     },
     "metadata": {
      "needs_background": "light"
     },
     "output_type": "display_data"
    }
   ],
   "source": [
    "clusterer.single_linkage_tree_.plot()"
   ]
  },
  {
   "cell_type": "code",
   "execution_count": 84,
   "metadata": {},
   "outputs": [
    {
     "data": {
      "text/plain": [
       "array([0, 0, 0, ..., 0, 0, 0])"
      ]
     },
     "execution_count": 84,
     "metadata": {},
     "output_type": "execute_result"
    }
   ],
   "source": [
    "clusterer.single_linkage_tree_.get_clusters(0.023, min_cluster_size=2)"
   ]
  },
  {
   "cell_type": "code",
   "execution_count": null,
   "metadata": {},
   "outputs": [],
   "source": []
  },
  {
   "cell_type": "code",
   "execution_count": null,
   "metadata": {},
   "outputs": [],
   "source": []
  },
  {
   "cell_type": "code",
   "execution_count": null,
   "metadata": {},
   "outputs": [],
   "source": []
  },
  {
   "cell_type": "code",
   "execution_count": 187,
   "metadata": {},
   "outputs": [],
   "source": [
    "df = df.set_index(\"sequence\")"
   ]
  },
  {
   "cell_type": "code",
   "execution_count": 188,
   "metadata": {},
   "outputs": [
    {
     "data": {
      "text/plain": [
       "(2129, 50)"
      ]
     },
     "execution_count": 188,
     "metadata": {},
     "output_type": "execute_result"
    }
   ],
   "source": [
    "df.shape"
   ]
  },
  {
   "cell_type": "code",
   "execution_count": 200,
   "metadata": {},
   "outputs": [
    {
     "data": {
      "text/html": [
       "<div>\n",
       "<style scoped>\n",
       "    .dataframe tbody tr th:only-of-type {\n",
       "        vertical-align: middle;\n",
       "    }\n",
       "\n",
       "    .dataframe tbody tr th {\n",
       "        vertical-align: top;\n",
       "    }\n",
       "\n",
       "    .dataframe thead th {\n",
       "        text-align: right;\n",
       "    }\n",
       "</style>\n",
       "<table border=\"1\" class=\"dataframe\">\n",
       "  <thead>\n",
       "    <tr style=\"text-align: right;\">\n",
       "      <th></th>\n",
       "      <th>T</th>\n",
       "      <th>C</th>\n",
       "      <th>T.1</th>\n",
       "      <th>T.2</th>\n",
       "      <th>T.3</th>\n",
       "      <th>T.4</th>\n",
       "      <th>T.5</th>\n",
       "      <th>G</th>\n",
       "      <th>T.6</th>\n",
       "      <th>T.7</th>\n",
       "      <th>...</th>\n",
       "      <th>C.10</th>\n",
       "      <th>A.6</th>\n",
       "      <th>A.7</th>\n",
       "      <th>T.12</th>\n",
       "      <th>C.11</th>\n",
       "      <th>T.13</th>\n",
       "      <th>A.8</th>\n",
       "      <th>T.14</th>\n",
       "      <th>A.9</th>\n",
       "      <th>C.12</th>\n",
       "    </tr>\n",
       "    <tr>\n",
       "      <th>sequence</th>\n",
       "      <th></th>\n",
       "      <th></th>\n",
       "      <th></th>\n",
       "      <th></th>\n",
       "      <th></th>\n",
       "      <th></th>\n",
       "      <th></th>\n",
       "      <th></th>\n",
       "      <th></th>\n",
       "      <th></th>\n",
       "      <th></th>\n",
       "      <th></th>\n",
       "      <th></th>\n",
       "      <th></th>\n",
       "      <th></th>\n",
       "      <th></th>\n",
       "      <th></th>\n",
       "      <th></th>\n",
       "      <th></th>\n",
       "      <th></th>\n",
       "      <th></th>\n",
       "    </tr>\n",
       "  </thead>\n",
       "  <tbody>\n",
       "    <tr>\n",
       "      <th>sequence</th>\n",
       "      <td>T</td>\n",
       "      <td>C</td>\n",
       "      <td>T</td>\n",
       "      <td>T</td>\n",
       "      <td>T</td>\n",
       "      <td>T</td>\n",
       "      <td>T</td>\n",
       "      <td>G</td>\n",
       "      <td>T</td>\n",
       "      <td>T</td>\n",
       "      <td>...</td>\n",
       "      <td>C</td>\n",
       "      <td>A</td>\n",
       "      <td>A</td>\n",
       "      <td>T</td>\n",
       "      <td>C</td>\n",
       "      <td>T</td>\n",
       "      <td>A</td>\n",
       "      <td>T</td>\n",
       "      <td>A</td>\n",
       "      <td>C</td>\n",
       "    </tr>\n",
       "  </tbody>\n",
       "</table>\n",
       "<p>1 rows × 50 columns</p>\n",
       "</div>"
      ],
      "text/plain": [
       "          T  C T.1 T.2 T.3 T.4 T.5  G T.6 T.7  ... C.10 A.6 A.7 T.12 C.11  \\\n",
       "sequence                                       ...                          \n",
       "sequence  T  C   T   T   T   T   T  G   T   T  ...    C   A   A    T    C   \n",
       "\n",
       "         T.13 A.8 T.14 A.9 C.12  \n",
       "sequence                         \n",
       "sequence    T   A    T   A    C  \n",
       "\n",
       "[1 rows x 50 columns]"
      ]
     },
     "execution_count": 200,
     "metadata": {},
     "output_type": "execute_result"
    }
   ],
   "source": [
    "df[df[\"T\"] == \"T\"]"
   ]
  },
  {
   "cell_type": "code",
   "execution_count": 192,
   "metadata": {},
   "outputs": [
    {
     "ename": "ValueError",
     "evalue": "could not convert string to float: 'T'",
     "output_type": "error",
     "traceback": [
      "\u001b[0;31m---------------------------------------------------------------------------\u001b[0m",
      "\u001b[0;31mValueError\u001b[0m                                Traceback (most recent call last)",
      "\u001b[0;32m<ipython-input-192-f9696db27bf9>\u001b[0m in \u001b[0;36m<module>\u001b[0;34m\u001b[0m\n\u001b[1;32m      6\u001b[0m     \u001b[0mapprox_min_span_tree\u001b[0m\u001b[0;34m=\u001b[0m\u001b[0;32mFalse\u001b[0m\u001b[0;34m,\u001b[0m\u001b[0;34m\u001b[0m\u001b[0;34m\u001b[0m\u001b[0m\n\u001b[1;32m      7\u001b[0m     metric=\"manhattan\")\n\u001b[0;32m----> 8\u001b[0;31m \u001b[0mclusterer\u001b[0m\u001b[0;34m.\u001b[0m\u001b[0mfit\u001b[0m\u001b[0;34m(\u001b[0m\u001b[0mdf\u001b[0m\u001b[0;34m)\u001b[0m\u001b[0;34m\u001b[0m\u001b[0;34m\u001b[0m\u001b[0m\n\u001b[0m",
      "\u001b[0;32m/mnt/c/Users/Diogo/.virtualenvs/bioinfo2.0/lib/python3.6/site-packages/hdbscan/hdbscan_.py\u001b[0m in \u001b[0;36mfit\u001b[0;34m(self, X, y)\u001b[0m\n\u001b[1;32m    896\u001b[0m         \"\"\"\n\u001b[1;32m    897\u001b[0m         \u001b[0;32mif\u001b[0m \u001b[0mself\u001b[0m\u001b[0;34m.\u001b[0m\u001b[0mmetric\u001b[0m \u001b[0;34m!=\u001b[0m \u001b[0;34m'precomputed'\u001b[0m\u001b[0;34m:\u001b[0m\u001b[0;34m\u001b[0m\u001b[0;34m\u001b[0m\u001b[0m\n\u001b[0;32m--> 898\u001b[0;31m             \u001b[0mX\u001b[0m \u001b[0;34m=\u001b[0m \u001b[0mcheck_array\u001b[0m\u001b[0;34m(\u001b[0m\u001b[0mX\u001b[0m\u001b[0;34m,\u001b[0m \u001b[0maccept_sparse\u001b[0m\u001b[0;34m=\u001b[0m\u001b[0;34m'csr'\u001b[0m\u001b[0;34m)\u001b[0m\u001b[0;34m\u001b[0m\u001b[0;34m\u001b[0m\u001b[0m\n\u001b[0m\u001b[1;32m    899\u001b[0m             \u001b[0mself\u001b[0m\u001b[0;34m.\u001b[0m\u001b[0m_raw_data\u001b[0m \u001b[0;34m=\u001b[0m \u001b[0mX\u001b[0m\u001b[0;34m\u001b[0m\u001b[0;34m\u001b[0m\u001b[0m\n\u001b[1;32m    900\u001b[0m         \u001b[0;32melif\u001b[0m \u001b[0missparse\u001b[0m\u001b[0;34m(\u001b[0m\u001b[0mX\u001b[0m\u001b[0;34m)\u001b[0m\u001b[0;34m:\u001b[0m\u001b[0;34m\u001b[0m\u001b[0;34m\u001b[0m\u001b[0m\n",
      "\u001b[0;32m/mnt/c/Users/Diogo/.virtualenvs/bioinfo2.0/lib/python3.6/site-packages/sklearn/utils/validation.py\u001b[0m in \u001b[0;36minner_f\u001b[0;34m(*args, **kwargs)\u001b[0m\n\u001b[1;32m     61\u001b[0m             \u001b[0mextra_args\u001b[0m \u001b[0;34m=\u001b[0m \u001b[0mlen\u001b[0m\u001b[0;34m(\u001b[0m\u001b[0margs\u001b[0m\u001b[0;34m)\u001b[0m \u001b[0;34m-\u001b[0m \u001b[0mlen\u001b[0m\u001b[0;34m(\u001b[0m\u001b[0mall_args\u001b[0m\u001b[0;34m)\u001b[0m\u001b[0;34m\u001b[0m\u001b[0;34m\u001b[0m\u001b[0m\n\u001b[1;32m     62\u001b[0m             \u001b[0;32mif\u001b[0m \u001b[0mextra_args\u001b[0m \u001b[0;34m<=\u001b[0m \u001b[0;36m0\u001b[0m\u001b[0;34m:\u001b[0m\u001b[0;34m\u001b[0m\u001b[0;34m\u001b[0m\u001b[0m\n\u001b[0;32m---> 63\u001b[0;31m                 \u001b[0;32mreturn\u001b[0m \u001b[0mf\u001b[0m\u001b[0;34m(\u001b[0m\u001b[0;34m*\u001b[0m\u001b[0margs\u001b[0m\u001b[0;34m,\u001b[0m \u001b[0;34m**\u001b[0m\u001b[0mkwargs\u001b[0m\u001b[0;34m)\u001b[0m\u001b[0;34m\u001b[0m\u001b[0;34m\u001b[0m\u001b[0m\n\u001b[0m\u001b[1;32m     64\u001b[0m \u001b[0;34m\u001b[0m\u001b[0m\n\u001b[1;32m     65\u001b[0m             \u001b[0;31m# extra_args > 0\u001b[0m\u001b[0;34m\u001b[0m\u001b[0;34m\u001b[0m\u001b[0;34m\u001b[0m\u001b[0m\n",
      "\u001b[0;32m/mnt/c/Users/Diogo/.virtualenvs/bioinfo2.0/lib/python3.6/site-packages/sklearn/utils/validation.py\u001b[0m in \u001b[0;36mcheck_array\u001b[0;34m(array, accept_sparse, accept_large_sparse, dtype, order, copy, force_all_finite, ensure_2d, allow_nd, ensure_min_samples, ensure_min_features, estimator)\u001b[0m\n\u001b[1;32m    671\u001b[0m                     \u001b[0marray\u001b[0m \u001b[0;34m=\u001b[0m \u001b[0marray\u001b[0m\u001b[0;34m.\u001b[0m\u001b[0mastype\u001b[0m\u001b[0;34m(\u001b[0m\u001b[0mdtype\u001b[0m\u001b[0;34m,\u001b[0m \u001b[0mcasting\u001b[0m\u001b[0;34m=\u001b[0m\u001b[0;34m\"unsafe\"\u001b[0m\u001b[0;34m,\u001b[0m \u001b[0mcopy\u001b[0m\u001b[0;34m=\u001b[0m\u001b[0;32mFalse\u001b[0m\u001b[0;34m)\u001b[0m\u001b[0;34m\u001b[0m\u001b[0;34m\u001b[0m\u001b[0m\n\u001b[1;32m    672\u001b[0m                 \u001b[0;32melse\u001b[0m\u001b[0;34m:\u001b[0m\u001b[0;34m\u001b[0m\u001b[0;34m\u001b[0m\u001b[0m\n\u001b[0;32m--> 673\u001b[0;31m                     \u001b[0marray\u001b[0m \u001b[0;34m=\u001b[0m \u001b[0mnp\u001b[0m\u001b[0;34m.\u001b[0m\u001b[0masarray\u001b[0m\u001b[0;34m(\u001b[0m\u001b[0marray\u001b[0m\u001b[0;34m,\u001b[0m \u001b[0morder\u001b[0m\u001b[0;34m=\u001b[0m\u001b[0morder\u001b[0m\u001b[0;34m,\u001b[0m \u001b[0mdtype\u001b[0m\u001b[0;34m=\u001b[0m\u001b[0mdtype\u001b[0m\u001b[0;34m)\u001b[0m\u001b[0;34m\u001b[0m\u001b[0;34m\u001b[0m\u001b[0m\n\u001b[0m\u001b[1;32m    674\u001b[0m             \u001b[0;32mexcept\u001b[0m \u001b[0mComplexWarning\u001b[0m \u001b[0;32mas\u001b[0m \u001b[0mcomplex_warning\u001b[0m\u001b[0;34m:\u001b[0m\u001b[0;34m\u001b[0m\u001b[0;34m\u001b[0m\u001b[0m\n\u001b[1;32m    675\u001b[0m                 raise ValueError(\"Complex data not supported\\n\"\n",
      "\u001b[0;32m/mnt/c/Users/Diogo/.virtualenvs/bioinfo2.0/lib/python3.6/site-packages/numpy/core/_asarray.py\u001b[0m in \u001b[0;36masarray\u001b[0;34m(a, dtype, order)\u001b[0m\n\u001b[1;32m     81\u001b[0m \u001b[0;34m\u001b[0m\u001b[0m\n\u001b[1;32m     82\u001b[0m     \"\"\"\n\u001b[0;32m---> 83\u001b[0;31m     \u001b[0;32mreturn\u001b[0m \u001b[0marray\u001b[0m\u001b[0;34m(\u001b[0m\u001b[0ma\u001b[0m\u001b[0;34m,\u001b[0m \u001b[0mdtype\u001b[0m\u001b[0;34m,\u001b[0m \u001b[0mcopy\u001b[0m\u001b[0;34m=\u001b[0m\u001b[0;32mFalse\u001b[0m\u001b[0;34m,\u001b[0m \u001b[0morder\u001b[0m\u001b[0;34m=\u001b[0m\u001b[0morder\u001b[0m\u001b[0;34m)\u001b[0m\u001b[0;34m\u001b[0m\u001b[0;34m\u001b[0m\u001b[0m\n\u001b[0m\u001b[1;32m     84\u001b[0m \u001b[0;34m\u001b[0m\u001b[0m\n\u001b[1;32m     85\u001b[0m \u001b[0;34m\u001b[0m\u001b[0m\n",
      "\u001b[0;32m/mnt/c/Users/Diogo/.virtualenvs/bioinfo2.0/lib/python3.6/site-packages/pandas/core/generic.py\u001b[0m in \u001b[0;36m__array__\u001b[0;34m(self, dtype)\u001b[0m\n\u001b[1;32m   1779\u001b[0m \u001b[0;34m\u001b[0m\u001b[0m\n\u001b[1;32m   1780\u001b[0m     \u001b[0;32mdef\u001b[0m \u001b[0m__array__\u001b[0m\u001b[0;34m(\u001b[0m\u001b[0mself\u001b[0m\u001b[0;34m,\u001b[0m \u001b[0mdtype\u001b[0m\u001b[0;34m=\u001b[0m\u001b[0;32mNone\u001b[0m\u001b[0;34m)\u001b[0m \u001b[0;34m->\u001b[0m \u001b[0mnp\u001b[0m\u001b[0;34m.\u001b[0m\u001b[0mndarray\u001b[0m\u001b[0;34m:\u001b[0m\u001b[0;34m\u001b[0m\u001b[0;34m\u001b[0m\u001b[0m\n\u001b[0;32m-> 1781\u001b[0;31m         \u001b[0;32mreturn\u001b[0m \u001b[0mnp\u001b[0m\u001b[0;34m.\u001b[0m\u001b[0masarray\u001b[0m\u001b[0;34m(\u001b[0m\u001b[0mself\u001b[0m\u001b[0;34m.\u001b[0m\u001b[0m_values\u001b[0m\u001b[0;34m,\u001b[0m \u001b[0mdtype\u001b[0m\u001b[0;34m=\u001b[0m\u001b[0mdtype\u001b[0m\u001b[0;34m)\u001b[0m\u001b[0;34m\u001b[0m\u001b[0;34m\u001b[0m\u001b[0m\n\u001b[0m\u001b[1;32m   1782\u001b[0m \u001b[0;34m\u001b[0m\u001b[0m\n\u001b[1;32m   1783\u001b[0m     \u001b[0;32mdef\u001b[0m \u001b[0m__array_wrap__\u001b[0m\u001b[0;34m(\u001b[0m\u001b[0mself\u001b[0m\u001b[0;34m,\u001b[0m \u001b[0mresult\u001b[0m\u001b[0;34m,\u001b[0m \u001b[0mcontext\u001b[0m\u001b[0;34m=\u001b[0m\u001b[0;32mNone\u001b[0m\u001b[0;34m)\u001b[0m\u001b[0;34m:\u001b[0m\u001b[0;34m\u001b[0m\u001b[0;34m\u001b[0m\u001b[0m\n",
      "\u001b[0;32m/mnt/c/Users/Diogo/.virtualenvs/bioinfo2.0/lib/python3.6/site-packages/numpy/core/_asarray.py\u001b[0m in \u001b[0;36masarray\u001b[0;34m(a, dtype, order)\u001b[0m\n\u001b[1;32m     81\u001b[0m \u001b[0;34m\u001b[0m\u001b[0m\n\u001b[1;32m     82\u001b[0m     \"\"\"\n\u001b[0;32m---> 83\u001b[0;31m     \u001b[0;32mreturn\u001b[0m \u001b[0marray\u001b[0m\u001b[0;34m(\u001b[0m\u001b[0ma\u001b[0m\u001b[0;34m,\u001b[0m \u001b[0mdtype\u001b[0m\u001b[0;34m,\u001b[0m \u001b[0mcopy\u001b[0m\u001b[0;34m=\u001b[0m\u001b[0;32mFalse\u001b[0m\u001b[0;34m,\u001b[0m \u001b[0morder\u001b[0m\u001b[0;34m=\u001b[0m\u001b[0morder\u001b[0m\u001b[0;34m)\u001b[0m\u001b[0;34m\u001b[0m\u001b[0;34m\u001b[0m\u001b[0m\n\u001b[0m\u001b[1;32m     84\u001b[0m \u001b[0;34m\u001b[0m\u001b[0m\n\u001b[1;32m     85\u001b[0m \u001b[0;34m\u001b[0m\u001b[0m\n",
      "\u001b[0;31mValueError\u001b[0m: could not convert string to float: 'T'"
     ]
    }
   ],
   "source": [
    "clusterer = hdbscan.HDBSCAN(\n",
    "    cluster_selection_method=\"leaf\",\n",
    "    min_samples=8,\n",
    "    min_cluster_size=5,\n",
    "    prediction_data=True,\n",
    "    approx_min_span_tree=False,\n",
    "    metric=\"manhattan\")\n",
    "clusterer.fit(df)"
   ]
  },
  {
   "cell_type": "code",
   "execution_count": 181,
   "metadata": {},
   "outputs": [
    {
     "data": {
      "text/plain": [
       "82"
      ]
     },
     "execution_count": 181,
     "metadata": {},
     "output_type": "execute_result"
    }
   ],
   "source": [
    "clusterer.labels_.max()"
   ]
  },
  {
   "cell_type": "code",
   "execution_count": 182,
   "metadata": {},
   "outputs": [
    {
     "data": {
      "text/plain": [
       "0.8383233532934131"
      ]
     },
     "execution_count": 182,
     "metadata": {},
     "output_type": "execute_result"
    }
   ],
   "source": [
    "clusterer.outlier_scores_.max()"
   ]
  },
  {
   "cell_type": "code",
   "execution_count": 183,
   "metadata": {},
   "outputs": [
    {
     "data": {
      "text/plain": [
       "0.07652173913043474"
      ]
     },
     "execution_count": 183,
     "metadata": {},
     "output_type": "execute_result"
    }
   ],
   "source": [
    "clusterer.cluster_persistence_.max()"
   ]
  },
  {
   "cell_type": "code",
   "execution_count": 171,
   "metadata": {},
   "outputs": [
    {
     "data": {
      "text/plain": [
       "<AxesSubplot:ylabel='$\\\\lambda$ value'>"
      ]
     },
     "execution_count": 171,
     "metadata": {},
     "output_type": "execute_result"
    },
    {
     "data": {
      "image/png": "[encoded data removed]",
      "text/plain": [
       "<Figure size 432x288 with 2 Axes>"
      ]
     },
     "metadata": {
      "needs_background": "light"
     },
     "output_type": "display_data"
    }
   ],
   "source": [
    "clusterer.condensed_tree_.plot(select_clusters=True)"
   ]
  },
  {
   "cell_type": "code",
   "execution_count": 172,
   "metadata": {},
   "outputs": [],
   "source": [
    "soft_clusters = hdbscan.all_points_membership_vectors(clusterer)"
   ]
  },
  {
   "cell_type": "code",
   "execution_count": 173,
   "metadata": {},
   "outputs": [
    {
     "data": {
      "text/plain": [
       "(2150, 75)"
      ]
     },
     "execution_count": 173,
     "metadata": {},
     "output_type": "execute_result"
    }
   ],
   "source": [
    "lines, columns = soft_clusters.shape\n",
    "lines, columns"
   ]
  },
  {
   "cell_type": "code",
   "execution_count": 174,
   "metadata": {},
   "outputs": [],
   "source": [
    "score_df = pandas.DataFrame(\n",
    "    soft_clusters.T,\n",
    "    index=[f\"NC_000913.3:3409058-3409108(+)_{c}\" for c in range(columns)],\n",
    "    columns=df.index\n",
    ")"
   ]
  },
  {
   "cell_type": "code",
   "execution_count": 175,
   "metadata": {},
   "outputs": [
    {
     "data": {
      "text/html": [
       "<div>\n",
       "<style scoped>\n",
       "    .dataframe tbody tr th:only-of-type {\n",
       "        vertical-align: middle;\n",
       "    }\n",
       "\n",
       "    .dataframe tbody tr th {\n",
       "        vertical-align: top;\n",
       "    }\n",
       "\n",
       "    .dataframe thead th {\n",
       "        text-align: right;\n",
       "    }\n",
       "</style>\n",
       "<table border=\"1\" class=\"dataframe\">\n",
       "  <thead>\n",
       "    <tr style=\"text-align: right;\">\n",
       "      <th>sequence</th>\n",
       "      <th>NC_000913.3:4472348-4472398(-)</th>\n",
       "      <th>NC_000913.3:3471349-3471399(-)</th>\n",
       "      <th>NC_000913.3:3448708-3448758(-)</th>\n",
       "      <th>NC_000913.3:3450197-3450247(-)</th>\n",
       "      <th>NC_000913.3:3447727-3447777(-)</th>\n",
       "      <th>NC_000913.3:3446848-3446898(-)</th>\n",
       "      <th>NC_000913.3:3473491-3473541(-)</th>\n",
       "      <th>NC_000913.3:3441658-3441708(-)</th>\n",
       "      <th>NC_000913.3:2734252-2734302(-)</th>\n",
       "      <th>NC_000913.3:3450492-3450542(-)</th>\n",
       "      <th>...</th>\n",
       "      <th>NC_000913.3:4577907-4577957(-)</th>\n",
       "      <th>NC_000913.3:4613484-4613534(+)</th>\n",
       "      <th>NC_000913.3:516596-516646(+)</th>\n",
       "      <th>NC_000913.3:527541-527591(+)</th>\n",
       "      <th>NC_000913.3:796551-796601(+)</th>\n",
       "      <th>NC_000913.3:995934-995984(-)</th>\n",
       "      <th>NC_000913.3:1454856-1454906(+)</th>\n",
       "      <th>NC_000913.3:1649041-1649091(+)</th>\n",
       "      <th>NC_000913.3:1665120-1665170(+)</th>\n",
       "      <th>NC_000913.3:1805272-1805322(+)</th>\n",
       "    </tr>\n",
       "  </thead>\n",
       "  <tbody>\n",
       "    <tr>\n",
       "      <th>NC_000913.3:3409058-3409108(+)_0</th>\n",
       "      <td>0.009103</td>\n",
       "      <td>0.008102</td>\n",
       "      <td>0.006849</td>\n",
       "      <td>0.007183</td>\n",
       "      <td>0.007424</td>\n",
       "      <td>0.009171</td>\n",
       "      <td>0.006691</td>\n",
       "      <td>0.007963</td>\n",
       "      <td>0.008174</td>\n",
       "      <td>0.007165</td>\n",
       "      <td>...</td>\n",
       "      <td>0.007224</td>\n",
       "      <td>0.005815</td>\n",
       "      <td>0.006726</td>\n",
       "      <td>0.007023</td>\n",
       "      <td>0.006462</td>\n",
       "      <td>0.006562</td>\n",
       "      <td>0.005952</td>\n",
       "      <td>0.007209</td>\n",
       "      <td>0.005942</td>\n",
       "      <td>0.005572</td>\n",
       "    </tr>\n",
       "    <tr>\n",
       "      <th>NC_000913.3:3409058-3409108(+)_1</th>\n",
       "      <td>0.011829</td>\n",
       "      <td>0.008879</td>\n",
       "      <td>0.007306</td>\n",
       "      <td>0.010529</td>\n",
       "      <td>0.008615</td>\n",
       "      <td>0.010563</td>\n",
       "      <td>0.007463</td>\n",
       "      <td>0.008480</td>\n",
       "      <td>0.009280</td>\n",
       "      <td>0.010276</td>\n",
       "      <td>...</td>\n",
       "      <td>0.007748</td>\n",
       "      <td>0.006630</td>\n",
       "      <td>0.007919</td>\n",
       "      <td>0.009078</td>\n",
       "      <td>0.007722</td>\n",
       "      <td>0.008219</td>\n",
       "      <td>0.006687</td>\n",
       "      <td>0.007523</td>\n",
       "      <td>0.007979</td>\n",
       "      <td>0.006624</td>\n",
       "    </tr>\n",
       "    <tr>\n",
       "      <th>NC_000913.3:3409058-3409108(+)_2</th>\n",
       "      <td>0.011308</td>\n",
       "      <td>0.012329</td>\n",
       "      <td>0.009653</td>\n",
       "      <td>0.011387</td>\n",
       "      <td>0.012448</td>\n",
       "      <td>0.013519</td>\n",
       "      <td>0.007762</td>\n",
       "      <td>0.011466</td>\n",
       "      <td>0.012271</td>\n",
       "      <td>0.012822</td>\n",
       "      <td>...</td>\n",
       "      <td>0.011143</td>\n",
       "      <td>0.008121</td>\n",
       "      <td>0.012039</td>\n",
       "      <td>0.009377</td>\n",
       "      <td>0.012448</td>\n",
       "      <td>0.010495</td>\n",
       "      <td>0.013775</td>\n",
       "      <td>0.010857</td>\n",
       "      <td>0.011354</td>\n",
       "      <td>0.007335</td>\n",
       "    </tr>\n",
       "    <tr>\n",
       "      <th>NC_000913.3:3409058-3409108(+)_3</th>\n",
       "      <td>0.011409</td>\n",
       "      <td>0.010641</td>\n",
       "      <td>0.007996</td>\n",
       "      <td>0.011869</td>\n",
       "      <td>0.009348</td>\n",
       "      <td>0.010563</td>\n",
       "      <td>0.007867</td>\n",
       "      <td>0.010056</td>\n",
       "      <td>0.010145</td>\n",
       "      <td>0.010035</td>\n",
       "      <td>...</td>\n",
       "      <td>0.008956</td>\n",
       "      <td>0.006504</td>\n",
       "      <td>0.009186</td>\n",
       "      <td>0.007901</td>\n",
       "      <td>0.009654</td>\n",
       "      <td>0.010323</td>\n",
       "      <td>0.008729</td>\n",
       "      <td>0.009583</td>\n",
       "      <td>0.010878</td>\n",
       "      <td>0.007133</td>\n",
       "    </tr>\n",
       "    <tr>\n",
       "      <th>NC_000913.3:3409058-3409108(+)_4</th>\n",
       "      <td>0.010393</td>\n",
       "      <td>0.012203</td>\n",
       "      <td>0.009269</td>\n",
       "      <td>0.010413</td>\n",
       "      <td>0.011876</td>\n",
       "      <td>0.012605</td>\n",
       "      <td>0.007400</td>\n",
       "      <td>0.011201</td>\n",
       "      <td>0.012101</td>\n",
       "      <td>0.011759</td>\n",
       "      <td>...</td>\n",
       "      <td>0.010742</td>\n",
       "      <td>0.007262</td>\n",
       "      <td>0.010150</td>\n",
       "      <td>0.008449</td>\n",
       "      <td>0.011460</td>\n",
       "      <td>0.009997</td>\n",
       "      <td>0.011603</td>\n",
       "      <td>0.011126</td>\n",
       "      <td>0.010120</td>\n",
       "      <td>0.006833</td>\n",
       "    </tr>\n",
       "  </tbody>\n",
       "</table>\n",
       "<p>5 rows × 2150 columns</p>\n",
       "</div>"
      ],
      "text/plain": [
       "sequence                          NC_000913.3:4472348-4472398(-)  \\\n",
       "NC_000913.3:3409058-3409108(+)_0                        0.009103   \n",
       "NC_000913.3:3409058-3409108(+)_1                        0.011829   \n",
       "NC_000913.3:3409058-3409108(+)_2                        0.011308   \n",
       "NC_000913.3:3409058-3409108(+)_3                        0.011409   \n",
       "NC_000913.3:3409058-3409108(+)_4                        0.010393   \n",
       "\n",
       "sequence                          NC_000913.3:3471349-3471399(-)  \\\n",
       "NC_000913.3:3409058-3409108(+)_0                        0.008102   \n",
       "NC_000913.3:3409058-3409108(+)_1                        0.008879   \n",
       "NC_000913.3:3409058-3409108(+)_2                        0.012329   \n",
       "NC_000913.3:3409058-3409108(+)_3                        0.010641   \n",
       "NC_000913.3:3409058-3409108(+)_4                        0.012203   \n",
       "\n",
       "sequence                          NC_000913.3:3448708-3448758(-)  \\\n",
       "NC_000913.3:3409058-3409108(+)_0                        0.006849   \n",
       "NC_000913.3:3409058-3409108(+)_1                        0.007306   \n",
       "NC_000913.3:3409058-3409108(+)_2                        0.009653   \n",
       "NC_000913.3:3409058-3409108(+)_3                        0.007996   \n",
       "NC_000913.3:3409058-3409108(+)_4                        0.009269   \n",
       "\n",
       "sequence                          NC_000913.3:3450197-3450247(-)  \\\n",
       "NC_000913.3:3409058-3409108(+)_0                        0.007183   \n",
       "NC_000913.3:3409058-3409108(+)_1                        0.010529   \n",
       "NC_000913.3:3409058-3409108(+)_2                        0.011387   \n",
       "NC_000913.3:3409058-3409108(+)_3                        0.011869   \n",
       "NC_000913.3:3409058-3409108(+)_4                        0.010413   \n",
       "\n",
       "sequence                          NC_000913.3:3447727-3447777(-)  \\\n",
       "NC_000913.3:3409058-3409108(+)_0                        0.007424   \n",
       "NC_000913.3:3409058-3409108(+)_1                        0.008615   \n",
       "NC_000913.3:3409058-3409108(+)_2                        0.012448   \n",
       "NC_000913.3:3409058-3409108(+)_3                        0.009348   \n",
       "NC_000913.3:3409058-3409108(+)_4                        0.011876   \n",
       "\n",
       "sequence                          NC_000913.3:3446848-3446898(-)  \\\n",
       "NC_000913.3:3409058-3409108(+)_0                        0.009171   \n",
       "NC_000913.3:3409058-3409108(+)_1                        0.010563   \n",
       "NC_000913.3:3409058-3409108(+)_2                        0.013519   \n",
       "NC_000913.3:3409058-3409108(+)_3                        0.010563   \n",
       "NC_000913.3:3409058-3409108(+)_4                        0.012605   \n",
       "\n",
       "sequence                          NC_000913.3:3473491-3473541(-)  \\\n",
       "NC_000913.3:3409058-3409108(+)_0                        0.006691   \n",
       "NC_000913.3:3409058-3409108(+)_1                        0.007463   \n",
       "NC_000913.3:3409058-3409108(+)_2                        0.007762   \n",
       "NC_000913.3:3409058-3409108(+)_3                        0.007867   \n",
       "NC_000913.3:3409058-3409108(+)_4                        0.007400   \n",
       "\n",
       "sequence                          NC_000913.3:3441658-3441708(-)  \\\n",
       "NC_000913.3:3409058-3409108(+)_0                        0.007963   \n",
       "NC_000913.3:3409058-3409108(+)_1                        0.008480   \n",
       "NC_000913.3:3409058-3409108(+)_2                        0.011466   \n",
       "NC_000913.3:3409058-3409108(+)_3                        0.010056   \n",
       "NC_000913.3:3409058-3409108(+)_4                        0.011201   \n",
       "\n",
       "sequence                          NC_000913.3:2734252-2734302(-)  \\\n",
       "NC_000913.3:3409058-3409108(+)_0                        0.008174   \n",
       "NC_000913.3:3409058-3409108(+)_1                        0.009280   \n",
       "NC_000913.3:3409058-3409108(+)_2                        0.012271   \n",
       "NC_000913.3:3409058-3409108(+)_3                        0.010145   \n",
       "NC_000913.3:3409058-3409108(+)_4                        0.012101   \n",
       "\n",
       "sequence                          NC_000913.3:3450492-3450542(-)  ...  \\\n",
       "NC_000913.3:3409058-3409108(+)_0                        0.007165  ...   \n",
       "NC_000913.3:3409058-3409108(+)_1                        0.010276  ...   \n",
       "NC_000913.3:3409058-3409108(+)_2                        0.012822  ...   \n",
       "NC_000913.3:3409058-3409108(+)_3                        0.010035  ...   \n",
       "NC_000913.3:3409058-3409108(+)_4                        0.011759  ...   \n",
       "\n",
       "sequence                          NC_000913.3:4577907-4577957(-)  \\\n",
       "NC_000913.3:3409058-3409108(+)_0                        0.007224   \n",
       "NC_000913.3:3409058-3409108(+)_1                        0.007748   \n",
       "NC_000913.3:3409058-3409108(+)_2                        0.011143   \n",
       "NC_000913.3:3409058-3409108(+)_3                        0.008956   \n",
       "NC_000913.3:3409058-3409108(+)_4                        0.010742   \n",
       "\n",
       "sequence                          NC_000913.3:4613484-4613534(+)  \\\n",
       "NC_000913.3:3409058-3409108(+)_0                        0.005815   \n",
       "NC_000913.3:3409058-3409108(+)_1                        0.006630   \n",
       "NC_000913.3:3409058-3409108(+)_2                        0.008121   \n",
       "NC_000913.3:3409058-3409108(+)_3                        0.006504   \n",
       "NC_000913.3:3409058-3409108(+)_4                        0.007262   \n",
       "\n",
       "sequence                          NC_000913.3:516596-516646(+)  \\\n",
       "NC_000913.3:3409058-3409108(+)_0                      0.006726   \n",
       "NC_000913.3:3409058-3409108(+)_1                      0.007919   \n",
       "NC_000913.3:3409058-3409108(+)_2                      0.012039   \n",
       "NC_000913.3:3409058-3409108(+)_3                      0.009186   \n",
       "NC_000913.3:3409058-3409108(+)_4                      0.010150   \n",
       "\n",
       "sequence                          NC_000913.3:527541-527591(+)  \\\n",
       "NC_000913.3:3409058-3409108(+)_0                      0.007023   \n",
       "NC_000913.3:3409058-3409108(+)_1                      0.009078   \n",
       "NC_000913.3:3409058-3409108(+)_2                      0.009377   \n",
       "NC_000913.3:3409058-3409108(+)_3                      0.007901   \n",
       "NC_000913.3:3409058-3409108(+)_4                      0.008449   \n",
       "\n",
       "sequence                          NC_000913.3:796551-796601(+)  \\\n",
       "NC_000913.3:3409058-3409108(+)_0                      0.006462   \n",
       "NC_000913.3:3409058-3409108(+)_1                      0.007722   \n",
       "NC_000913.3:3409058-3409108(+)_2                      0.012448   \n",
       "NC_000913.3:3409058-3409108(+)_3                      0.009654   \n",
       "NC_000913.3:3409058-3409108(+)_4                      0.011460   \n",
       "\n",
       "sequence                          NC_000913.3:995934-995984(-)  \\\n",
       "NC_000913.3:3409058-3409108(+)_0                      0.006562   \n",
       "NC_000913.3:3409058-3409108(+)_1                      0.008219   \n",
       "NC_000913.3:3409058-3409108(+)_2                      0.010495   \n",
       "NC_000913.3:3409058-3409108(+)_3                      0.010323   \n",
       "NC_000913.3:3409058-3409108(+)_4                      0.009997   \n",
       "\n",
       "sequence                          NC_000913.3:1454856-1454906(+)  \\\n",
       "NC_000913.3:3409058-3409108(+)_0                        0.005952   \n",
       "NC_000913.3:3409058-3409108(+)_1                        0.006687   \n",
       "NC_000913.3:3409058-3409108(+)_2                        0.013775   \n",
       "NC_000913.3:3409058-3409108(+)_3                        0.008729   \n",
       "NC_000913.3:3409058-3409108(+)_4                        0.011603   \n",
       "\n",
       "sequence                          NC_000913.3:1649041-1649091(+)  \\\n",
       "NC_000913.3:3409058-3409108(+)_0                        0.007209   \n",
       "NC_000913.3:3409058-3409108(+)_1                        0.007523   \n",
       "NC_000913.3:3409058-3409108(+)_2                        0.010857   \n",
       "NC_000913.3:3409058-3409108(+)_3                        0.009583   \n",
       "NC_000913.3:3409058-3409108(+)_4                        0.011126   \n",
       "\n",
       "sequence                          NC_000913.3:1665120-1665170(+)  \\\n",
       "NC_000913.3:3409058-3409108(+)_0                        0.005942   \n",
       "NC_000913.3:3409058-3409108(+)_1                        0.007979   \n",
       "NC_000913.3:3409058-3409108(+)_2                        0.011354   \n",
       "NC_000913.3:3409058-3409108(+)_3                        0.010878   \n",
       "NC_000913.3:3409058-3409108(+)_4                        0.010120   \n",
       "\n",
       "sequence                          NC_000913.3:1805272-1805322(+)  \n",
       "NC_000913.3:3409058-3409108(+)_0                        0.005572  \n",
       "NC_000913.3:3409058-3409108(+)_1                        0.006624  \n",
       "NC_000913.3:3409058-3409108(+)_2                        0.007335  \n",
       "NC_000913.3:3409058-3409108(+)_3                        0.007133  \n",
       "NC_000913.3:3409058-3409108(+)_4                        0.006833  \n",
       "\n",
       "[5 rows x 2150 columns]"
      ]
     },
     "execution_count": 175,
     "metadata": {},
     "output_type": "execute_result"
    }
   ],
   "source": [
    "score_df.head()"
   ]
  },
  {
   "cell_type": "code",
   "execution_count": 176,
   "metadata": {},
   "outputs": [
    {
     "data": {
      "text/plain": [
       "0.01918186076419459"
      ]
     },
     "execution_count": 176,
     "metadata": {},
     "output_type": "execute_result"
    }
   ],
   "source": [
    "score_df.max().max()"
   ]
  },
  {
   "cell_type": "code",
   "execution_count": null,
   "metadata": {},
   "outputs": [],
   "source": []
  }
 ],
 "metadata": {
  "interpreter": {
   "hash": "56ea3a1f900c59e129ab5e4be689a0449987c6d9f078e92acc9b6d8cb98df406"
  },
  "kernelspec": {
   "display_name": "Python 3",
   "language": "python",
   "name": "python3"
  },
  "language_info": {
   "codemirror_mode": {
    "name": "ipython",
    "version": 3
   },
   "file_extension": ".py",
   "mimetype": "text/x-python",
   "name": "python",
   "nbconvert_exporter": "python",
   "pygments_lexer": "ipython3",
   "version": "3.6.8"
  }
 },
 "nbformat": 4,
 "nbformat_minor": 2
}
