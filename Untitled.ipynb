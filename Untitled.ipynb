{
 "cells": [
  {
   "cell_type": "code",
   "execution_count": 661,
   "id": "981a1db9",
   "metadata": {},
   "outputs": [],
   "source": [
    "import numpy"
   ]
  },
  {
   "cell_type": "code",
   "execution_count": 649,
   "id": "308ea867",
   "metadata": {},
   "outputs": [],
   "source": [
    "WINDOW=3\n",
    "\n",
    "def build_matrix(seq1: str, seq2: str):\n",
    "    len2 = len(seq2)\n",
    "    len1 = len(seq1)\n",
    "    seq1 = seq1.upper()\n",
    "    seq2 = seq2.upper()\n",
    "    window = WINDOW\n",
    "    rows = numpy.zeros((len2, len1, window, 2))\n",
    "\n",
    "    for w in range(window):\n",
    "        for b in range(0, len2-w):\n",
    "            for r in range(0, len1-w):\n",
    "                if seq1[r:r+w+1] == seq2[b:b+w+1]:\n",
    "                    for i in range(w+1):\n",
    "                        rows[b+i, r+i, w, 0] = 1\n",
    "                if seq1[r:r+w+1] == seq2[::-1][b:b+w+1]:\n",
    "                    for i in range(w+1):\n",
    "                        rows[len2-b-i-1, r+i, w, 1] = 1\n",
    "    return numpy.sum(rows, 2)\n"
   ]
  },
  {
   "cell_type": "code",
   "execution_count": 658,
   "id": "af6c676e",
   "metadata": {},
   "outputs": [],
   "source": [
    "lala = build_matrix(\"aaa\", \"aaa\")"
   ]
  },
  {
   "cell_type": "code",
   "execution_count": 663,
   "id": "d7ff045f",
   "metadata": {},
   "outputs": [],
   "source": [
    "numpy.save(\"t.npy\", lala)"
   ]
  },
  {
   "cell_type": "code",
   "execution_count": 664,
   "id": "35d52e95",
   "metadata": {},
   "outputs": [],
   "source": [
    "lele = numpy.load(\"t.npy\")"
   ]
  },
  {
   "cell_type": "code",
   "execution_count": 665,
   "id": "29ece237",
   "metadata": {},
   "outputs": [
    {
     "data": {
      "text/plain": [
       "array([[[3., 1.],\n",
       "        [2., 2.],\n",
       "        [1., 3.]],\n",
       "\n",
       "       [[2., 2.],\n",
       "        [3., 3.],\n",
       "        [2., 2.]],\n",
       "\n",
       "       [[1., 3.],\n",
       "        [2., 2.],\n",
       "        [3., 1.]]])"
      ]
     },
     "execution_count": 665,
     "metadata": {},
     "output_type": "execute_result"
    }
   ],
   "source": [
    "lele"
   ]
  },
  {
   "cell_type": "code",
   "execution_count": null,
   "id": "d29732e5",
   "metadata": {},
   "outputs": [],
   "source": []
  }
 ],
 "metadata": {
  "kernelspec": {
   "display_name": "Python 3 (ipykernel)",
   "language": "python",
   "name": "python3"
  },
  "language_info": {
   "codemirror_mode": {
    "name": "ipython",
    "version": 3
   },
   "file_extension": ".py",
   "mimetype": "text/x-python",
   "name": "python",
   "nbconvert_exporter": "python",
   "pygments_lexer": "ipython3",
   "version": "3.7.8"
  }
 },
 "nbformat": 4,
 "nbformat_minor": 5
}
