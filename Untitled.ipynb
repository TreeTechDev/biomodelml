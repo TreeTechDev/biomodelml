{
 "cells": [
  {
   "cell_type": "code",
   "execution_count": 661,
   "id": "260eca56",
   "metadata": {},
   "outputs": [],
   "source": [
    "import numpy"
   ]
  },
  {
   "cell_type": "code",
   "execution_count": 666,
   "id": "b9855550",
   "metadata": {},
   "outputs": [],
   "source": [
    "WINDOW=3\n",
    "\n",
    "def build_matrix(seq1: str, seq2: str):\n",
    "    len2 = len(seq2)\n",
    "    len1 = len(seq1)\n",
    "    seq1 = seq1.upper()\n",
    "    seq2 = seq2.upper()\n",
    "    window = WINDOW\n",
    "    rows = numpy.zeros((len2, len1, window, 2))\n",
    "\n",
    "    for w in range(window):\n",
    "        for b in range(0, len2-w):\n",
    "            for r in range(0, len1-w):\n",
    "                if seq1[r:r+w+1] == seq2[b:b+w+1]:\n",
    "                    for i in range(w+1):\n",
    "                        rows[b+i, r+i, w, 0] = 1\n",
    "                if seq1[r:r+w+1] == seq2[::-1][b:b+w+1]:\n",
    "                    for i in range(w+1):\n",
    "                        rows[len2-b-i-1, r+i, w, 1] = 1\n",
    "    return numpy.sum(rows, 2)\n"
   ]
  },
  {
   "cell_type": "code",
   "execution_count": 671,
   "id": "bbe6375b",
   "metadata": {},
   "outputs": [
    {
     "data": {
      "text/plain": [
       "(3, 4, 2)"
      ]
     },
     "execution_count": 671,
     "metadata": {},
     "output_type": "execute_result"
    }
   ],
   "source": [
    "build_matrix(\"aaaa\", \"aaa\").shape"
   ]
  },
  {
   "cell_type": "code",
   "execution_count": 663,
   "id": "b24aa2a8",
   "metadata": {},
   "outputs": [],
   "source": [
    "numpy.save(\"t.npy\", lala)"
   ]
  },
  {
   "cell_type": "code",
   "execution_count": 664,
   "id": "cc4babd4",
   "metadata": {},
   "outputs": [],
   "source": [
    "lele = numpy.load(\"t.npy\")"
   ]
  },
  {
   "cell_type": "code",
   "execution_count": 674,
   "id": "9a7e3da6",
   "metadata": {},
   "outputs": [
    {
     "data": {
      "text/plain": [
       "[(('a', 'a'), ('a', 'a')),\n",
       " (('a', 'a'), ('b', 'b')),\n",
       " (('a', 'a'), ('c', 'c')),\n",
       " (('b', 'b'), ('a', 'a')),\n",
       " (('b', 'b'), ('b', 'b')),\n",
       " (('b', 'b'), ('c', 'c')),\n",
       " (('c', 'c'), ('a', 'a')),\n",
       " (('c', 'c'), ('b', 'b')),\n",
       " (('c', 'c'), ('c', 'c'))]"
      ]
     },
     "execution_count": 674,
     "metadata": {},
     "output_type": "execute_result"
    }
   ],
   "source": [
    "import itertools\n",
    "list(itertools.product(itertools.zip_longest(\"abc\", \"abc\"), repeat=2))"
   ]
  },
  {
   "cell_type": "code",
   "execution_count": null,
   "id": "4afb47f5",
   "metadata": {},
   "outputs": [],
   "source": []
  }
 ],
 "metadata": {
  "kernelspec": {
   "display_name": "Python 3 (ipykernel)",
   "language": "python",
   "name": "python3"
  },
  "language_info": {
   "codemirror_mode": {
    "name": "ipython",
    "version": 3
   },
   "file_extension": ".py",
   "mimetype": "text/x-python",
   "name": "python",
   "nbconvert_exporter": "python",
   "pygments_lexer": "ipython3",
   "version": "3.7.8"
  }
 },
 "nbformat": 4,
 "nbformat_minor": 5
}
