{
 "cells": [
  {
   "cell_type": "code",
   "execution_count": 6,
   "id": "2b08a2fc",
   "metadata": {},
   "outputs": [],
   "source": [
    "import numpy"
   ]
  },
  {
   "cell_type": "code",
   "execution_count": 666,
   "id": "f4978023",
   "metadata": {},
   "outputs": [],
   "source": [
    "WINDOW=3\n",
    "\n",
    "def build_matrix(seq1: str, seq2: str):\n",
    "    len2 = len(seq2)\n",
    "    len1 = len(seq1)\n",
    "    seq1 = seq1.upper()\n",
    "    seq2 = seq2.upper()\n",
    "    window = WINDOW\n",
    "    rows = numpy.zeros((len2, len1, window, 2))\n",
    "\n",
    "    for w in range(window):\n",
    "        for b in range(0, len2-w):\n",
    "            for r in range(0, len1-w):\n",
    "                if seq1[r:r+w+1] == seq2[b:b+w+1]:\n",
    "                    for i in range(w+1):\n",
    "                        rows[b+i, r+i, w, 0] = 1\n",
    "                if seq1[r:r+w+1] == seq2[::-1][b:b+w+1]:\n",
    "                    for i in range(w+1):\n",
    "                        rows[len2-b-i-1, r+i, w, 1] = 1\n",
    "    return numpy.sum(rows, 2)\n"
   ]
  },
  {
   "cell_type": "code",
   "execution_count": 671,
   "id": "0c255e30",
   "metadata": {},
   "outputs": [
    {
     "data": {
      "text/plain": [
       "(3, 4, 2)"
      ]
     },
     "execution_count": 671,
     "metadata": {},
     "output_type": "execute_result"
    }
   ],
   "source": [
    "build_matrix(\"aaaa\", \"aaa\").shape"
   ]
  },
  {
   "cell_type": "code",
   "execution_count": 663,
   "id": "67d8241b",
   "metadata": {},
   "outputs": [],
   "source": [
    "numpy.save(\"t.npy\", lala)"
   ]
  },
  {
   "cell_type": "code",
   "execution_count": 664,
   "id": "e2b41556",
   "metadata": {},
   "outputs": [],
   "source": [
    "lele = numpy.load(\"t.npy\")"
   ]
  },
  {
   "cell_type": "code",
   "execution_count": 674,
   "id": "36f0a930",
   "metadata": {},
   "outputs": [
    {
     "data": {
      "text/plain": [
       "[(('a', 'a'), ('a', 'a')),\n",
       " (('a', 'a'), ('b', 'b')),\n",
       " (('a', 'a'), ('c', 'c')),\n",
       " (('b', 'b'), ('a', 'a')),\n",
       " (('b', 'b'), ('b', 'b')),\n",
       " (('b', 'b'), ('c', 'c')),\n",
       " (('c', 'c'), ('a', 'a')),\n",
       " (('c', 'c'), ('b', 'b')),\n",
       " (('c', 'c'), ('c', 'c'))]"
      ]
     },
     "execution_count": 674,
     "metadata": {},
     "output_type": "execute_result"
    }
   ],
   "source": [
    "import itertools\n",
    "list(itertools.product(itertools.zip_longest(\"abc\", \"abc\"), repeat=2))"
   ]
  },
  {
   "cell_type": "code",
   "execution_count": 10,
   "id": "7b183979",
   "metadata": {},
   "outputs": [],
   "source": [
    "import torch.nn as nn\n",
    "import torch"
   ]
  },
  {
   "cell_type": "code",
   "execution_count": 57,
   "id": "0cefca9b",
   "metadata": {},
   "outputs": [
    {
     "data": {
      "text/plain": [
       "8"
      ]
     },
     "execution_count": 57,
     "metadata": {},
     "output_type": "execute_result"
    }
   ],
   "source": [
    "#Stride = (input_size//output_size)\n",
    "#Kernel size = input_size - (output_size-1)*stride\n",
    "40//5"
   ]
  },
  {
   "cell_type": "code",
   "execution_count": 58,
   "id": "4e39853c",
   "metadata": {},
   "outputs": [
    {
     "data": {
      "text/plain": [
       "32"
      ]
     },
     "execution_count": 58,
     "metadata": {},
     "output_type": "execute_result"
    }
   ],
   "source": [
    "40 - (5-1)*2"
   ]
  },
  {
   "cell_type": "code",
   "execution_count": 51,
   "id": "a25638f9",
   "metadata": {},
   "outputs": [],
   "source": [
    "pool = nn.AdaptiveMaxPool2d(5)"
   ]
  },
  {
   "cell_type": "code",
   "execution_count": 52,
   "id": "034feebb",
   "metadata": {},
   "outputs": [
    {
     "data": {
      "text/plain": [
       "torch.Size([3, 5, 5])"
      ]
     },
     "execution_count": 52,
     "metadata": {},
     "output_type": "execute_result"
    }
   ],
   "source": [
    "pool(torch.from_numpy(numpy.ones([3,10,10]))).shape"
   ]
  },
  {
   "cell_type": "code",
   "execution_count": 54,
   "id": "444d07a4",
   "metadata": {},
   "outputs": [
    {
     "data": {
      "text/plain": [
       "tensor([[[1., 1., 1., 1., 1.],\n",
       "         [1., 1., 1., 1., 1.],\n",
       "         [1., 1., 1., 1., 1.],\n",
       "         [1., 1., 1., 1., 1.],\n",
       "         [1., 1., 1., 1., 1.]],\n",
       "\n",
       "        [[1., 1., 1., 1., 1.],\n",
       "         [1., 1., 1., 1., 1.],\n",
       "         [1., 1., 1., 1., 1.],\n",
       "         [1., 1., 1., 1., 1.],\n",
       "         [1., 1., 1., 1., 1.]],\n",
       "\n",
       "        [[1., 1., 1., 1., 1.],\n",
       "         [1., 1., 1., 1., 1.],\n",
       "         [1., 1., 1., 1., 1.],\n",
       "         [1., 1., 1., 1., 1.],\n",
       "         [1., 1., 1., 1., 1.]]], dtype=torch.float64)"
      ]
     },
     "execution_count": 54,
     "metadata": {},
     "output_type": "execute_result"
    }
   ],
   "source": [
    "pool(torch.from_numpy(numpy.ones([3,10,10])))"
   ]
  },
  {
   "cell_type": "code",
   "execution_count": 48,
   "id": "d5b9a740",
   "metadata": {},
   "outputs": [],
   "source": [
    "nn.AdaptiveMaxPool2d?"
   ]
  },
  {
   "cell_type": "code",
   "execution_count": 3,
   "id": "35ef8ebb",
   "metadata": {},
   "outputs": [],
   "source": [
    "import umap"
   ]
  },
  {
   "cell_type": "code",
   "execution_count": 4,
   "id": "6baee4a7",
   "metadata": {},
   "outputs": [],
   "source": [
    "reducer = umap.UMAP()"
   ]
  },
  {
   "cell_type": "code",
   "execution_count": 11,
   "id": "d0a30545",
   "metadata": {},
   "outputs": [
    {
     "data": {
      "text/plain": [
       "(100, 2)"
      ]
     },
     "execution_count": 11,
     "metadata": {},
     "output_type": "execute_result"
    }
   ],
   "source": [
    "reducer.fit_transform(numpy.ones([100,10])).shape"
   ]
  },
  {
   "cell_type": "code",
   "execution_count": 12,
   "id": "2dbee4b8",
   "metadata": {},
   "outputs": [],
   "source": [
    "import pickle"
   ]
  },
  {
   "cell_type": "code",
   "execution_count": 17,
   "id": "c9516e83",
   "metadata": {},
   "outputs": [],
   "source": [
    "with open(\"data/matrices.pkl\", \"rb\") as f:\n",
    "    numbs = f.read()"
   ]
  },
  {
   "cell_type": "code",
   "execution_count": 20,
   "id": "8610b2c4",
   "metadata": {},
   "outputs": [
    {
     "data": {
      "text/plain": [
       "b'\\x80\\x03cmultiprocessing.managers\\nRebuildProxy\\nq\\x00(cmultiprocessing.managers\\nDictProxy\\nq\\x01cmultiprocessing.managers\\nToken\\nq\\x02)\\x81q\\x03X\\x04\\x00\\x00\\x00dictq\\x04X$\\x00\\x00\\x00/tmp/pymp-opyweznc/listener-nd9lurayq\\x05X\\x0c\\x00\\x00\\x007f5e45be7c18q\\x06\\x87q\\x07bX\\x06\\x00\\x00\\x00pickleq\\x08}q\\ttq\\nRq\\x0b.'"
      ]
     },
     "execution_count": 20,
     "metadata": {},
     "output_type": "execute_result"
    }
   ],
   "source": [
    "numbs"
   ]
  },
  {
   "cell_type": "code",
   "execution_count": null,
   "id": "fba54676",
   "metadata": {},
   "outputs": [],
   "source": []
  }
 ],
 "metadata": {
  "kernelspec": {
   "display_name": "Python 3 (ipykernel)",
   "language": "python",
   "name": "python3"
  },
  "language_info": {
   "codemirror_mode": {
    "name": "ipython",
    "version": 3
   },
   "file_extension": ".py",
   "mimetype": "text/x-python",
   "name": "python",
   "nbconvert_exporter": "python",
   "pygments_lexer": "ipython3",
   "version": "3.7.8"
  }
 },
 "nbformat": 4,
 "nbformat_minor": 5
}
