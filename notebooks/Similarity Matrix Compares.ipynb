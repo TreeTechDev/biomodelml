{
 "cells": [
  {
   "cell_type": "markdown",
   "id": "c9dad58f",
   "metadata": {},
   "source": [
    "# Comparing Similarity Matrices"
   ]
  },
  {
   "cell_type": "code",
   "execution_count": 83,
   "id": "48ee16de",
   "metadata": {},
   "outputs": [],
   "source": [
    "import os\n",
    "import pandas\n",
    "import numpy\n",
    "from scipy.spatial import distance_matrix\n",
    "from Bio import SeqIO"
   ]
  },
  {
   "cell_type": "code",
   "execution_count": 126,
   "id": "10d43fa8",
   "metadata": {},
   "outputs": [
    {
     "data": {
      "text/plain": [
       "0.0"
      ]
     },
     "execution_count": 126,
     "metadata": {},
     "output_type": "execute_result"
    }
   ],
   "source": [
    "path = f\"../data/trees/indelible\"\n",
    "control_df = pandas.read_csv(f\"{path}/Control with Clustal Omega.csv\", index_col=0)\n",
    "\n",
    "numpy.sqrt(numpy.sum((control_df.values - control_df.values)**2))"
   ]
  },
  {
   "cell_type": "code",
   "execution_count": 127,
   "id": "7d6e6bac",
   "metadata": {},
   "outputs": [],
   "source": [
    "def read_and_compare(dataset):\n",
    "    result_dict = {}\n",
    "    path = f\"../data/trees/{dataset}\"\n",
    "    control_df = pandas.read_csv(f\"{path}/Control with Clustal Omega.csv\", index_col=0)\n",
    "    for file in os.listdir(path):\n",
    "        if file.endswith(\".csv\"):\n",
    "            basename = \".\".join(file.split(\".\")[0:-1])\n",
    "            df = pandas.read_csv(f\"{path}/{file}\", index_col=0)\n",
    "            result_dict[basename] = round(numpy.sqrt(numpy.sum((control_df.values - df.values)**2)), 5)\n",
    "    result_df = pandas.DataFrame(result_dict, index=[dataset])\n",
    "    result_df.index.name = \"dataset\"\n",
    "    return result_df.sort_values(dataset, axis=1)"
   ]
  },
  {
   "cell_type": "code",
   "execution_count": 128,
   "id": "c44f52b7",
   "metadata": {},
   "outputs": [],
   "source": [
    "def compute_stats(dataset):\n",
    "    fasta_file = f\"../data/{dataset}.fasta.sanitized\"\n",
    "    seqs = SeqIO.parse(fasta_file, \"fasta\")\n",
    "    seqs_len = [len(s.seq) for s in seqs]\n",
    "    seqs_mean = numpy.mean(seqs_len)\n",
    "    seqs_median = numpy.median(seqs_len)\n",
    "    seqs_std = numpy.std(seqs_len)\n",
    "    seqs_min = numpy.min(seqs_len)\n",
    "    seqs_max = numpy.max(seqs_len)\n",
    "        \n",
    "    result_df = pandas.DataFrame(\n",
    "        {\"median\": int(seqs_median),\n",
    "         \"mean\": seqs_mean,\n",
    "         \"std\": round(seqs_std, 2),\n",
    "         \"min\": seqs_min,\n",
    "         \"max\": seqs_max,\n",
    "         \"sample size\": len(seqs_len)}, index=[dataset])\n",
    "    result_df.index.name = \"dataset\"\n",
    "    return result_df"
   ]
  },
  {
   "cell_type": "markdown",
   "id": "eb40023a",
   "metadata": {},
   "source": [
    "## Indelible"
   ]
  },
  {
   "cell_type": "code",
   "execution_count": 129,
   "id": "a3f25136",
   "metadata": {},
   "outputs": [],
   "source": [
    "dataset = \"indelible\""
   ]
  },
  {
   "cell_type": "code",
   "execution_count": 130,
   "id": "843884b5",
   "metadata": {},
   "outputs": [
    {
     "data": {
      "text/html": [
       "<div>\n",
       "<style scoped>\n",
       "    .dataframe tbody tr th:only-of-type {\n",
       "        vertical-align: middle;\n",
       "    }\n",
       "\n",
       "    .dataframe tbody tr th {\n",
       "        vertical-align: top;\n",
       "    }\n",
       "\n",
       "    .dataframe thead th {\n",
       "        text-align: right;\n",
       "    }\n",
       "</style>\n",
       "<table border=\"1\" class=\"dataframe\">\n",
       "  <thead>\n",
       "    <tr style=\"text-align: right;\">\n",
       "      <th></th>\n",
       "      <th>Control with Clustal Omega</th>\n",
       "      <th>Structural Similarity Index Measure</th>\n",
       "      <th>Universal Quality Index</th>\n",
       "      <th>Local with Smith–Waterman</th>\n",
       "      <th>Global with Needleman-Wunsch</th>\n",
       "      <th>MultiScale Structural Similarity Index Measure</th>\n",
       "    </tr>\n",
       "    <tr>\n",
       "      <th>dataset</th>\n",
       "      <th></th>\n",
       "      <th></th>\n",
       "      <th></th>\n",
       "      <th></th>\n",
       "      <th></th>\n",
       "      <th></th>\n",
       "    </tr>\n",
       "  </thead>\n",
       "  <tbody>\n",
       "    <tr>\n",
       "      <th>indelible</th>\n",
       "      <td>0.0</td>\n",
       "      <td>4.86711</td>\n",
       "      <td>4.93568</td>\n",
       "      <td>8.71999</td>\n",
       "      <td>10.40937</td>\n",
       "      <td>19.48798</td>\n",
       "    </tr>\n",
       "  </tbody>\n",
       "</table>\n",
       "</div>"
      ],
      "text/plain": [
       "           Control with Clustal Omega  Structural Similarity Index Measure  \\\n",
       "dataset                                                                      \n",
       "indelible                         0.0                              4.86711   \n",
       "\n",
       "           Universal Quality Index  Local with Smith–Waterman  \\\n",
       "dataset                                                         \n",
       "indelible                  4.93568                    8.71999   \n",
       "\n",
       "           Global with Needleman-Wunsch  \\\n",
       "dataset                                   \n",
       "indelible                      10.40937   \n",
       "\n",
       "           MultiScale Structural Similarity Index Measure  \n",
       "dataset                                                    \n",
       "indelible                                        19.48798  "
      ]
     },
     "execution_count": 130,
     "metadata": {},
     "output_type": "execute_result"
    }
   ],
   "source": [
    "read_and_compare(dataset)"
   ]
  },
  {
   "cell_type": "markdown",
   "id": "81e8b103",
   "metadata": {},
   "source": [
    "## Mioglobin Orthologues"
   ]
  },
  {
   "cell_type": "code",
   "execution_count": 136,
   "id": "471202b7",
   "metadata": {},
   "outputs": [],
   "source": [
    "datasets = [\"orthologs_hemoglobin_beta\", \"orthologs_myoglobin\", \"orthologs_neuroglobin\", \"orthologs_cytoglobin\", \"orthologs_androglobin\"]"
   ]
  },
  {
   "cell_type": "code",
   "execution_count": 137,
   "id": "b09ba1e7",
   "metadata": {},
   "outputs": [
    {
     "data": {
      "text/html": [
       "<div>\n",
       "<style scoped>\n",
       "    .dataframe tbody tr th:only-of-type {\n",
       "        vertical-align: middle;\n",
       "    }\n",
       "\n",
       "    .dataframe tbody tr th {\n",
       "        vertical-align: top;\n",
       "    }\n",
       "\n",
       "    .dataframe thead th {\n",
       "        text-align: right;\n",
       "    }\n",
       "</style>\n",
       "<table border=\"1\" class=\"dataframe\">\n",
       "  <thead>\n",
       "    <tr style=\"text-align: right;\">\n",
       "      <th></th>\n",
       "      <th>Control with Clustal Omega</th>\n",
       "      <th>MultiScale Structural Similarity Index Measure</th>\n",
       "      <th>Local with Smith–Waterman</th>\n",
       "      <th>Global with Needleman-Wunsch</th>\n",
       "      <th>Structural Similarity Index Measure</th>\n",
       "      <th>Universal Quality Index</th>\n",
       "      <th>Deep Search with Annoy</th>\n",
       "    </tr>\n",
       "    <tr>\n",
       "      <th>dataset</th>\n",
       "      <th></th>\n",
       "      <th></th>\n",
       "      <th></th>\n",
       "      <th></th>\n",
       "      <th></th>\n",
       "      <th></th>\n",
       "      <th></th>\n",
       "    </tr>\n",
       "  </thead>\n",
       "  <tbody>\n",
       "    <tr>\n",
       "      <th>orthologs_hemoglobin_beta</th>\n",
       "      <td>0.0</td>\n",
       "      <td>0.15421</td>\n",
       "      <td>0.89370</td>\n",
       "      <td>0.90854</td>\n",
       "      <td>1.64049</td>\n",
       "      <td>1.79441</td>\n",
       "      <td>3.40182</td>\n",
       "    </tr>\n",
       "    <tr>\n",
       "      <th>orthologs_myoglobin</th>\n",
       "      <td>0.0</td>\n",
       "      <td>0.09536</td>\n",
       "      <td>0.90440</td>\n",
       "      <td>0.91958</td>\n",
       "      <td>1.78454</td>\n",
       "      <td>1.91983</td>\n",
       "      <td>3.46468</td>\n",
       "    </tr>\n",
       "    <tr>\n",
       "      <th>orthologs_neuroglobin</th>\n",
       "      <td>0.0</td>\n",
       "      <td>1.21763</td>\n",
       "      <td>1.15143</td>\n",
       "      <td>1.80429</td>\n",
       "      <td>4.34839</td>\n",
       "      <td>4.38520</td>\n",
       "      <td>4.95023</td>\n",
       "    </tr>\n",
       "    <tr>\n",
       "      <th>orthologs_cytoglobin</th>\n",
       "      <td>0.0</td>\n",
       "      <td>2.77428</td>\n",
       "      <td>3.10951</td>\n",
       "      <td>6.34167</td>\n",
       "      <td>8.01781</td>\n",
       "      <td>8.25613</td>\n",
       "      <td>8.37265</td>\n",
       "    </tr>\n",
       "    <tr>\n",
       "      <th>orthologs_androglobin</th>\n",
       "      <td>0.0</td>\n",
       "      <td>4.02214</td>\n",
       "      <td>2.96006</td>\n",
       "      <td>8.28549</td>\n",
       "      <td>9.76396</td>\n",
       "      <td>10.04081</td>\n",
       "      <td>8.60069</td>\n",
       "    </tr>\n",
       "  </tbody>\n",
       "</table>\n",
       "</div>"
      ],
      "text/plain": [
       "                           Control with Clustal Omega  \\\n",
       "dataset                                                 \n",
       "orthologs_hemoglobin_beta                         0.0   \n",
       "orthologs_myoglobin                               0.0   \n",
       "orthologs_neuroglobin                             0.0   \n",
       "orthologs_cytoglobin                              0.0   \n",
       "orthologs_androglobin                             0.0   \n",
       "\n",
       "                           MultiScale Structural Similarity Index Measure  \\\n",
       "dataset                                                                     \n",
       "orthologs_hemoglobin_beta                                         0.15421   \n",
       "orthologs_myoglobin                                               0.09536   \n",
       "orthologs_neuroglobin                                             1.21763   \n",
       "orthologs_cytoglobin                                              2.77428   \n",
       "orthologs_androglobin                                             4.02214   \n",
       "\n",
       "                           Local with Smith–Waterman  \\\n",
       "dataset                                                \n",
       "orthologs_hemoglobin_beta                    0.89370   \n",
       "orthologs_myoglobin                          0.90440   \n",
       "orthologs_neuroglobin                        1.15143   \n",
       "orthologs_cytoglobin                         3.10951   \n",
       "orthologs_androglobin                        2.96006   \n",
       "\n",
       "                           Global with Needleman-Wunsch  \\\n",
       "dataset                                                   \n",
       "orthologs_hemoglobin_beta                       0.90854   \n",
       "orthologs_myoglobin                             0.91958   \n",
       "orthologs_neuroglobin                           1.80429   \n",
       "orthologs_cytoglobin                            6.34167   \n",
       "orthologs_androglobin                           8.28549   \n",
       "\n",
       "                           Structural Similarity Index Measure  \\\n",
       "dataset                                                          \n",
       "orthologs_hemoglobin_beta                              1.64049   \n",
       "orthologs_myoglobin                                    1.78454   \n",
       "orthologs_neuroglobin                                  4.34839   \n",
       "orthologs_cytoglobin                                   8.01781   \n",
       "orthologs_androglobin                                  9.76396   \n",
       "\n",
       "                           Universal Quality Index  Deep Search with Annoy  \n",
       "dataset                                                                     \n",
       "orthologs_hemoglobin_beta                  1.79441                 3.40182  \n",
       "orthologs_myoglobin                        1.91983                 3.46468  \n",
       "orthologs_neuroglobin                      4.38520                 4.95023  \n",
       "orthologs_cytoglobin                       8.25613                 8.37265  \n",
       "orthologs_androglobin                     10.04081                 8.60069  "
      ]
     },
     "execution_count": 137,
     "metadata": {},
     "output_type": "execute_result"
    }
   ],
   "source": [
    "dfs = []\n",
    "for dataset in datasets:\n",
    "    try:\n",
    "        dfs.append(read_and_compare(dataset))\n",
    "    except:\n",
    "        print(dataset)\n",
    "        raise\n",
    "pandas.concat(dfs)"
   ]
  },
  {
   "cell_type": "code",
   "execution_count": 138,
   "id": "8f4c1c41",
   "metadata": {},
   "outputs": [],
   "source": [
    "pandas.concat(dfs).to_clipboard()"
   ]
  },
  {
   "cell_type": "markdown",
   "id": "0c50da2d",
   "metadata": {},
   "source": [
    "### Dataset Statistics"
   ]
  },
  {
   "cell_type": "code",
   "execution_count": 134,
   "id": "491d962a",
   "metadata": {},
   "outputs": [],
   "source": [
    "datasets = [\"orthologs_hemoglobin_beta\", \"orthologs_myoglobin\", \"orthologs_neuroglobin\", \"orthologs_cytoglobin\", \"orthologs_androglobin\"]"
   ]
  },
  {
   "cell_type": "code",
   "execution_count": 135,
   "id": "13203703",
   "metadata": {},
   "outputs": [
    {
     "data": {
      "text/html": [
       "<div>\n",
       "<style scoped>\n",
       "    .dataframe tbody tr th:only-of-type {\n",
       "        vertical-align: middle;\n",
       "    }\n",
       "\n",
       "    .dataframe tbody tr th {\n",
       "        vertical-align: top;\n",
       "    }\n",
       "\n",
       "    .dataframe thead th {\n",
       "        text-align: right;\n",
       "    }\n",
       "</style>\n",
       "<table border=\"1\" class=\"dataframe\">\n",
       "  <thead>\n",
       "    <tr style=\"text-align: right;\">\n",
       "      <th></th>\n",
       "      <th>median</th>\n",
       "      <th>mean</th>\n",
       "      <th>std</th>\n",
       "      <th>min</th>\n",
       "      <th>max</th>\n",
       "      <th>sample size</th>\n",
       "    </tr>\n",
       "    <tr>\n",
       "      <th>dataset</th>\n",
       "      <th></th>\n",
       "      <th></th>\n",
       "      <th></th>\n",
       "      <th></th>\n",
       "      <th></th>\n",
       "      <th></th>\n",
       "    </tr>\n",
       "  </thead>\n",
       "  <tbody>\n",
       "    <tr>\n",
       "      <th>orthologs_hemoglobin_beta</th>\n",
       "      <td>441</td>\n",
       "      <td>441.0</td>\n",
       "      <td>0.00</td>\n",
       "      <td>441</td>\n",
       "      <td>441</td>\n",
       "      <td>15</td>\n",
       "    </tr>\n",
       "    <tr>\n",
       "      <th>orthologs_myoglobin</th>\n",
       "      <td>465</td>\n",
       "      <td>465.0</td>\n",
       "      <td>0.00</td>\n",
       "      <td>465</td>\n",
       "      <td>465</td>\n",
       "      <td>15</td>\n",
       "    </tr>\n",
       "    <tr>\n",
       "      <th>orthologs_neuroglobin</th>\n",
       "      <td>456</td>\n",
       "      <td>451.6</td>\n",
       "      <td>11.43</td>\n",
       "      <td>417</td>\n",
       "      <td>456</td>\n",
       "      <td>15</td>\n",
       "    </tr>\n",
       "    <tr>\n",
       "      <th>orthologs_cytoglobin</th>\n",
       "      <td>618</td>\n",
       "      <td>596.2</td>\n",
       "      <td>66.25</td>\n",
       "      <td>378</td>\n",
       "      <td>678</td>\n",
       "      <td>15</td>\n",
       "    </tr>\n",
       "    <tr>\n",
       "      <th>orthologs_androglobin</th>\n",
       "      <td>4929</td>\n",
       "      <td>4726.4</td>\n",
       "      <td>694.56</td>\n",
       "      <td>2148</td>\n",
       "      <td>5004</td>\n",
       "      <td>15</td>\n",
       "    </tr>\n",
       "  </tbody>\n",
       "</table>\n",
       "</div>"
      ],
      "text/plain": [
       "                           median    mean     std   min   max  sample size\n",
       "dataset                                                                   \n",
       "orthologs_hemoglobin_beta     441   441.0    0.00   441   441           15\n",
       "orthologs_myoglobin           465   465.0    0.00   465   465           15\n",
       "orthologs_neuroglobin         456   451.6   11.43   417   456           15\n",
       "orthologs_cytoglobin          618   596.2   66.25   378   678           15\n",
       "orthologs_androglobin        4929  4726.4  694.56  2148  5004           15"
      ]
     },
     "execution_count": 135,
     "metadata": {},
     "output_type": "execute_result"
    }
   ],
   "source": [
    "dfs = []\n",
    "for dataset in datasets:\n",
    "    try:\n",
    "        dfs.append(compute_stats(dataset))\n",
    "    except:\n",
    "        print(dataset)\n",
    "        raise\n",
    "pandas.concat(dfs)"
   ]
  },
  {
   "cell_type": "code",
   "execution_count": null,
   "id": "26fa82f1",
   "metadata": {},
   "outputs": [],
   "source": []
  }
 ],
 "metadata": {
  "kernelspec": {
   "display_name": "Python 3 (ipykernel)",
   "language": "python",
   "name": "python3"
  },
  "language_info": {
   "codemirror_mode": {
    "name": "ipython",
    "version": 3
   },
   "file_extension": ".py",
   "mimetype": "text/x-python",
   "name": "python",
   "nbconvert_exporter": "python",
   "pygments_lexer": "ipython3",
   "version": "3.7.8"
  }
 },
 "nbformat": 4,
 "nbformat_minor": 5
}
