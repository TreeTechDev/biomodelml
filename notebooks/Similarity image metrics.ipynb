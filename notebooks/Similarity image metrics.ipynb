{
 "cells": [
  {
   "cell_type": "markdown",
   "id": "18f0be8b",
   "metadata": {},
   "source": [
    "## Using imagehash"
   ]
  },
  {
   "cell_type": "code",
   "execution_count": 1,
   "id": "6923b6de",
   "metadata": {
    "collapsed": true
   },
   "outputs": [
    {
     "name": "stdout",
     "output_type": "stream",
     "text": [
      "Collecting imagehash\n",
      "  Downloading ImageHash-4.2.1.tar.gz (812 kB)\n",
      "\u001b[K     |████████████████████████████████| 812 kB 860 kB/s eta 0:00:01\n",
      "\u001b[?25hRequirement already satisfied: six in /mnt/c/Users/Diogo/.virtualenvs/bioinfo2.0/lib/python3.7/site-packages (from imagehash) (1.16.0)\n",
      "Requirement already satisfied: numpy in /mnt/c/Users/Diogo/.virtualenvs/bioinfo2.0/lib/python3.7/site-packages (from imagehash) (1.20.3)\n",
      "Requirement already satisfied: scipy in /mnt/c/Users/Diogo/.virtualenvs/bioinfo2.0/lib/python3.7/site-packages (from imagehash) (1.7.1)\n",
      "Requirement already satisfied: pillow in /mnt/c/Users/Diogo/.virtualenvs/bioinfo2.0/lib/python3.7/site-packages (from imagehash) (8.3.2)\n",
      "Collecting PyWavelets\n",
      "  Downloading PyWavelets-1.2.0-cp37-cp37m-manylinux_2_5_x86_64.manylinux1_x86_64.whl (6.1 MB)\n",
      "\u001b[K     |████████████████████████████████| 6.1 MB 2.6 MB/s eta 0:00:01     |██████████████████████▉         | 4.4 MB 2.5 MB/s eta 0:00:01\n",
      "\u001b[?25hBuilding wheels for collected packages: imagehash\n",
      "  Building wheel for imagehash (setup.py) ... \u001b[?25ldone\n",
      "\u001b[?25h  Created wheel for imagehash: filename=ImageHash-4.2.1-py2.py3-none-any.whl size=295207 sha256=45b5a42a9cba834631d3f9d2d0d6aa0b4c4fed99e272effd706a7df9fcb1b86f\n",
      "  Stored in directory: /home/diogo/.cache/pip/wheels/4c/d5/59/5e3e297533ddb09407769762985d134135064c6831e29a914e\n",
      "Successfully built imagehash\n",
      "Installing collected packages: PyWavelets, imagehash\n",
      "Successfully installed PyWavelets-1.2.0 imagehash-4.2.1\n",
      "\u001b[33mWARNING: You are using pip version 21.2.4; however, version 21.3.1 is available.\n",
      "You should consider upgrading via the '/mnt/c/Users/Diogo/.virtualenvs/bioinfo2.0/bin/python3.7 -m pip install --upgrade pip' command.\u001b[0m\n"
     ]
    }
   ],
   "source": [
    "!pip install imagehash"
   ]
  },
  {
   "cell_type": "code",
   "execution_count": 5,
   "id": "d2dffc0b",
   "metadata": {},
   "outputs": [],
   "source": [
    "import imagehash\n",
    "import os\n",
    "import numpy\n",
    "from PIL import Image"
   ]
  },
  {
   "cell_type": "code",
   "execution_count": 7,
   "id": "2d046323",
   "metadata": {},
   "outputs": [],
   "source": [
    "data_dir = \"data/images/indelible/\""
   ]
  },
  {
   "cell_type": "code",
   "execution_count": 12,
   "id": "64548cdf",
   "metadata": {},
   "outputs": [],
   "source": [
    "imghash = list()\n",
    "imgnames = list()\n",
    "for img in os.listdir(data_dir):\n",
    "    imgnames.append(img.split(\".\")[0])\n",
    "    imghash.append(imagehash.colorhash(Image.open(os.path.join(data_dir, img))))"
   ]
  },
  {
   "cell_type": "code",
   "execution_count": 25,
   "id": "f1908a4a",
   "metadata": {},
   "outputs": [
    {
     "data": {
      "text/plain": [
       "0"
      ]
     },
     "execution_count": 25,
     "metadata": {},
     "output_type": "execute_result"
    }
   ],
   "source": [
    "imghash[0] - imghash[33]"
   ]
  },
  {
   "cell_type": "markdown",
   "id": "d7ee8dbb",
   "metadata": {},
   "source": [
    "## Using sewar"
   ]
  },
  {
   "cell_type": "code",
   "execution_count": 28,
   "id": "787f3122",
   "metadata": {
    "collapsed": true
   },
   "outputs": [
    {
     "name": "stdout",
     "output_type": "stream",
     "text": [
      "Collecting sewar\n",
      "  Downloading sewar-0.4.4.tar.gz (10 kB)\n",
      "Requirement already satisfied: numpy in /mnt/c/Users/Diogo/.virtualenvs/bioinfo2.0/lib/python3.7/site-packages (from sewar) (1.20.3)\n",
      "Requirement already satisfied: scipy in /mnt/c/Users/Diogo/.virtualenvs/bioinfo2.0/lib/python3.7/site-packages (from sewar) (1.7.1)\n",
      "Requirement already satisfied: Pillow in /mnt/c/Users/Diogo/.virtualenvs/bioinfo2.0/lib/python3.7/site-packages (from sewar) (8.3.2)\n",
      "Building wheels for collected packages: sewar\n",
      "  Building wheel for sewar (setup.py) ... \u001b[?25ldone\n",
      "\u001b[?25h  Created wheel for sewar: filename=sewar-0.4.4-py3-none-any.whl size=10390 sha256=3d79f33912f1dbad280782eaac51d1dd45b4bf1fadb06a1df8d0031b4d918798\n",
      "  Stored in directory: /home/diogo/.cache/pip/wheels/b5/00/df/f1ba40d0d44c95b0db52804e518c128d5631866b91ea1960ba\n",
      "Successfully built sewar\n",
      "Installing collected packages: sewar\n",
      "Successfully installed sewar-0.4.4\n",
      "\u001b[33mWARNING: You are using pip version 21.2.4; however, version 21.3.1 is available.\n",
      "You should consider upgrading via the '/mnt/c/Users/Diogo/.virtualenvs/bioinfo2.0/bin/python3.7 -m pip install --upgrade pip' command.\u001b[0m\n"
     ]
    }
   ],
   "source": [
    "!pip install sewar"
   ]
  },
  {
   "cell_type": "code",
   "execution_count": 29,
   "id": "e9bf0dc1",
   "metadata": {},
   "outputs": [],
   "source": [
    "from sewar.full_ref import mse, rmse, psnr, uqi, ssim, ergas, scc, rase, sam, msssim, vifp"
   ]
  },
  {
   "cell_type": "code",
   "execution_count": 35,
   "id": "157d4416",
   "metadata": {},
   "outputs": [
    {
     "name": "stdout",
     "output_type": "stream",
     "text": [
      "A0 x A0:  1.0\n",
      "A0 x A1:  0.3749835708121788\n",
      "A0 x A2:  0.3747071104804547\n",
      "A0 x A3:  0.3742080296568016\n",
      "A0 x A4:  0.3744367938310454\n",
      "A0 x A5:  0.3748593090247243\n",
      "A0 x A6:  0.3743087965864279\n",
      "A0 x A7:  0.3740827233105414\n",
      "A0 x A8:  0.3751750979769696\n",
      "A0 x A9:  0.37447944934534527\n",
      "A0 x B0:  0.466421554776306\n",
      "A0 x B1:  0.37441243958803216\n",
      "A0 x B2:  0.3747905881174893\n",
      "A0 x B3:  0.3745458570779875\n",
      "A0 x B4:  0.3745954691510625\n",
      "A0 x B5:  0.3745306668016588\n",
      "A0 x B6:  0.3751328861986284\n",
      "A0 x B7:  0.37425593256885004\n",
      "A0 x B8:  0.37449213752279953\n",
      "A0 x B9:  0.3743697412570493\n",
      "A0 x C0:  0.40127211617895275\n",
      "A0 x C1:  0.37386125928733793\n",
      "A0 x C2:  0.37511435016118766\n",
      "A0 x C3:  0.3741977431625236\n",
      "A0 x C4:  0.3742306577684547\n",
      "A0 x C5:  0.37434230958732984\n",
      "A0 x C6:  0.3744468743924706\n",
      "A0 x C7:  0.3738224683904151\n",
      "A0 x C8:  0.374010392582347\n",
      "A0 x C9:  0.3749254061226271\n",
      "A0 x D0:  0.3960253249593222\n",
      "A0 x D1:  0.37447529028785176\n",
      "A0 x D2:  0.375209783755163\n",
      "A0 x D3:  0.3739010823654051\n",
      "A0 x D4:  0.3738408392191678\n",
      "A0 x D5:  0.37468554326694337\n",
      "A0 x D6:  0.3749749599271761\n",
      "A0 x D7:  0.3741647933823027\n",
      "A0 x D8:  0.3741066256342296\n",
      "A0 x D9:  0.375129003780768\n"
     ]
    }
   ],
   "source": [
    "for img in os.listdir(data_dir):\n",
    "    print(\n",
    "        f\"A0 x {img.split('.')[0]}: \",\n",
    "        uqi(numpy.asarray(Image.open(os.path.join(data_dir, img))),\n",
    "            numpy.asarray(Image.open(os.path.join(data_dir, \"A0.png\")))\n",
    "           )\n",
    "    )"
   ]
  },
  {
   "cell_type": "markdown",
   "id": "5a1b8718",
   "metadata": {},
   "source": [
    "## Using Tensorflow"
   ]
  },
  {
   "cell_type": "code",
   "execution_count": 1,
   "id": "2b0ce705",
   "metadata": {},
   "outputs": [
    {
     "name": "stderr",
     "output_type": "stream",
     "text": [
      "2021-12-07 13:54:00.426805: W tensorflow/stream_executor/platform/default/dso_loader.cc:64] Could not load dynamic library 'libcudart.so.11.0'; dlerror: libcudart.so.11.0: cannot open shared object file: No such file or directory\n",
      "2021-12-07 13:54:00.426861: I tensorflow/stream_executor/cuda/cudart_stub.cc:29] Ignore above cudart dlerror if you do not have a GPU set up on your machine.\n"
     ]
    }
   ],
   "source": [
    "import tensorflow as tf"
   ]
  },
  {
   "cell_type": "code",
   "execution_count": 39,
   "id": "5442dbd5",
   "metadata": {},
   "outputs": [],
   "source": [
    "im1 = tf.image.decode_image(tf.io.read_file(os.path.join(data_dir, \"A0.png\")))\n",
    "im2 = tf.image.decode_image(tf.io.read_file(os.path.join(data_dir, \"A1.png\")))\n"
   ]
  },
  {
   "cell_type": "code",
   "execution_count": 43,
   "id": "4127eea7",
   "metadata": {},
   "outputs": [],
   "source": [
    "im1 = tf.expand_dims(im1, axis=0)\n",
    "im2 = tf.expand_dims(im2, axis=0)"
   ]
  },
  {
   "cell_type": "code",
   "execution_count": 48,
   "id": "bc994713",
   "metadata": {},
   "outputs": [],
   "source": [
    "result = tf.image.ssim(im1, im2, max_val=255, filter_size=11,\n",
    "                          filter_sigma=1.5, k1=0.01, k2=0.03)[0]"
   ]
  },
  {
   "cell_type": "code",
   "execution_count": 57,
   "id": "a20bd9d9",
   "metadata": {},
   "outputs": [
    {
     "data": {
      "text/plain": [
       "0.41484135"
      ]
     },
     "execution_count": 57,
     "metadata": {},
     "output_type": "execute_result"
    }
   ],
   "source": [
    "result.numpy()"
   ]
  },
  {
   "cell_type": "code",
   "execution_count": 58,
   "id": "d3ed4edb",
   "metadata": {},
   "outputs": [
    {
     "data": {
      "text/plain": [
       "0.7579008"
      ]
     },
     "execution_count": 58,
     "metadata": {},
     "output_type": "execute_result"
    }
   ],
   "source": [
    "tf.image.ssim_multiscale(im1, im2, max_val=255, filter_size=11,\n",
    "                          filter_sigma=1.5, k1=0.01, k2=0.03)[0].numpy()"
   ]
  },
  {
   "cell_type": "code",
   "execution_count": 56,
   "id": "75701777",
   "metadata": {
    "collapsed": true
   },
   "outputs": [
    {
     "data": {
      "text/plain": [
       "<tf.Tensor: shape=(2, 3000, 3000, 4), dtype=uint8, numpy=\n",
       "array([[[[255,   0,  12, 255],\n",
       "         [  0,   0,   0, 255],\n",
       "         [  0,  12,   0, 255],\n",
       "         ...,\n",
       "         [  0,   0,   0, 255],\n",
       "         [  0,  12,   0, 255],\n",
       "         [ 12,   0,  12, 255]],\n",
       "\n",
       "        [[  0,   0,   0, 255],\n",
       "         [255,   0,  12, 255],\n",
       "         [  0,   0,   0, 255],\n",
       "         ...,\n",
       "         [ 38,   0,  12, 255],\n",
       "         [  0,   0,   0, 255],\n",
       "         [  0,   0,   0, 255]],\n",
       "\n",
       "        [[  0,  12,   0, 255],\n",
       "         [  0,   0,   0, 255],\n",
       "         [255,   0,  12, 255],\n",
       "         ...,\n",
       "         [  0,   0,   0, 255],\n",
       "         [ 38,   0,  12, 255],\n",
       "         [  0,  25,   0, 255]],\n",
       "\n",
       "        ...,\n",
       "\n",
       "        [[  0,   0,   0, 255],\n",
       "         [ 38,   0,  12, 255],\n",
       "         [  0,   0,   0, 255],\n",
       "         ...,\n",
       "         [255,   0,  12, 255],\n",
       "         [  0,   0,   0, 255],\n",
       "         [  0,   0,   0, 255]],\n",
       "\n",
       "        [[  0,  12,   0, 255],\n",
       "         [  0,   0,   0, 255],\n",
       "         [ 38,   0,  12, 255],\n",
       "         ...,\n",
       "         [  0,   0,   0, 255],\n",
       "         [255,   0,  12, 255],\n",
       "         [  0,  25,   0, 255]],\n",
       "\n",
       "        [[ 12,   0,  12, 255],\n",
       "         [  0,   0,   0, 255],\n",
       "         [  0,  25,   0, 255],\n",
       "         ...,\n",
       "         [  0,   0,   0, 255],\n",
       "         [  0,  25,   0, 255],\n",
       "         [255,   0,  12, 255]]],\n",
       "\n",
       "\n",
       "       [[[255,   0,  12, 255],\n",
       "         [  0,   0,   0, 255],\n",
       "         [ 12,  12,   0, 255],\n",
       "         ...,\n",
       "         [ 25,  12,   0, 255],\n",
       "         [  0,   0,   0, 255],\n",
       "         [  0,  12,   0, 255]],\n",
       "\n",
       "        [[  0,   0,   0, 255],\n",
       "         [255,   0,  12, 255],\n",
       "         [  0,   0,   0, 255],\n",
       "         ...,\n",
       "         [  0,   0,   0, 255],\n",
       "         [ 25,   0,  25, 255],\n",
       "         [  0,   0,   0, 255]],\n",
       "\n",
       "        [[ 12,  12,   0, 255],\n",
       "         [  0,   0,   0, 255],\n",
       "         [255,   0,  63, 255],\n",
       "         ...,\n",
       "         [ 25,   0,  25, 255],\n",
       "         [  0,   0,   0, 255],\n",
       "         [  0,   0,  25, 255]],\n",
       "\n",
       "        ...,\n",
       "\n",
       "        [[ 25,  12,   0, 255],\n",
       "         [  0,   0,   0, 255],\n",
       "         [ 25,   0,  25, 255],\n",
       "         ...,\n",
       "         [255,   0,  12, 255],\n",
       "         [  0,   0,   0, 255],\n",
       "         [  0,   0,  38, 255]],\n",
       "\n",
       "        [[  0,   0,   0, 255],\n",
       "         [ 25,   0,  25, 255],\n",
       "         [  0,   0,   0, 255],\n",
       "         ...,\n",
       "         [  0,   0,   0, 255],\n",
       "         [255,   0,  38, 255],\n",
       "         [  0,   0,   0, 255]],\n",
       "\n",
       "        [[  0,  12,   0, 255],\n",
       "         [  0,   0,   0, 255],\n",
       "         [  0,   0,  25, 255],\n",
       "         ...,\n",
       "         [  0,   0,  38, 255],\n",
       "         [  0,   0,   0, 255],\n",
       "         [255,   0,  12, 255]]]], dtype=uint8)>"
      ]
     },
     "execution_count": 56,
     "metadata": {},
     "output_type": "execute_result"
    }
   ],
   "source": [
    "tf.concat([im1, im2], 0)"
   ]
  },
  {
   "cell_type": "code",
   "execution_count": 59,
   "id": "166fb4c5",
   "metadata": {},
   "outputs": [
    {
     "name": "stdout",
     "output_type": "stream",
     "text": [
      "A0 x A0:  1.0\n",
      "A0 x A1:  0.41484135\n",
      "A0 x A2:  0.41419423\n",
      "A0 x A3:  0.41434056\n",
      "A0 x A4:  0.4149395\n",
      "A0 x A5:  0.41466367\n",
      "A0 x A6:  0.41470513\n",
      "A0 x A7:  0.41471153\n",
      "A0 x A8:  0.41526267\n",
      "A0 x A9:  0.41501674\n",
      "A0 x B0:  0.50130683\n",
      "A0 x B1:  0.41474065\n",
      "A0 x B2:  0.41426712\n",
      "A0 x B3:  0.4150629\n",
      "A0 x B4:  0.4147867\n",
      "A0 x B5:  0.41471872\n",
      "A0 x B6:  0.41454905\n",
      "A0 x B7:  0.41443413\n",
      "A0 x B8:  0.41449893\n",
      "A0 x B9:  0.41479275\n",
      "A0 x C0:  0.4399907\n",
      "A0 x C1:  0.41444296\n",
      "A0 x C2:  0.41507447\n",
      "A0 x C3:  0.41512513\n",
      "A0 x C4:  0.41448516\n",
      "A0 x C5:  0.41442174\n",
      "A0 x C6:  0.4146407\n",
      "A0 x C7:  0.41490006\n",
      "A0 x C8:  0.41429645\n",
      "A0 x C9:  0.4150262\n",
      "A0 x D0:  0.4341429\n",
      "A0 x D1:  0.4148976\n",
      "A0 x D2:  0.4142444\n",
      "A0 x D3:  0.4144265\n",
      "A0 x D4:  0.41463375\n",
      "A0 x D5:  0.41498083\n",
      "A0 x D6:  0.41462064\n",
      "A0 x D7:  0.41440085\n",
      "A0 x D8:  0.41492236\n",
      "A0 x D9:  0.41458866\n"
     ]
    }
   ],
   "source": [
    "for img in os.listdir(data_dir):\n",
    "    print(\n",
    "        f\"A0 x {img.split('.')[0]}: \",\n",
    "        tf.image.ssim(\n",
    "            tf.expand_dims(tf.image.decode_image(tf.io.read_file(os.path.join(data_dir, \"A0.png\"))), axis=0),\n",
    "            tf.expand_dims(tf.image.decode_image(tf.io.read_file(os.path.join(data_dir, img))), axis=0),\n",
    "            max_val=255, filter_size=11,\n",
    "            filter_sigma=1.5, k1=0.01, k2=0.03\n",
    "           )[0].numpy()\n",
    "    )"
   ]
  },
  {
   "cell_type": "code",
   "execution_count": 2,
   "id": "0fe7a1a0",
   "metadata": {},
   "outputs": [],
   "source": [
    "import pandas"
   ]
  },
  {
   "cell_type": "code",
   "execution_count": 8,
   "id": "b47c6ee7",
   "metadata": {},
   "outputs": [],
   "source": [
    "indexes = [img.split('.')[0] for img in os.listdir(data_dir)]"
   ]
  },
  {
   "cell_type": "code",
   "execution_count": 11,
   "id": "1228e2e7",
   "metadata": {},
   "outputs": [],
   "source": [
    "df = pandas.DataFrame(index=indexes, columns=indexes)"
   ]
  },
  {
   "cell_type": "code",
   "execution_count": 12,
   "id": "188e362a",
   "metadata": {},
   "outputs": [
    {
     "data": {
      "text/plain": [
       "nan"
      ]
     },
     "execution_count": 12,
     "metadata": {},
     "output_type": "execute_result"
    }
   ],
   "source": [
    "df.loc[indexes[0], indexes[0]]"
   ]
  },
  {
   "cell_type": "code",
   "execution_count": 13,
   "id": "381738c5",
   "metadata": {},
   "outputs": [
    {
     "name": "stderr",
     "output_type": "stream",
     "text": [
      "2021-12-07 14:00:44.040424: W tensorflow/stream_executor/platform/default/dso_loader.cc:64] Could not load dynamic library 'libcuda.so.1'; dlerror: libcuda.so.1: cannot open shared object file: No such file or directory\n",
      "2021-12-07 14:00:44.040525: W tensorflow/stream_executor/cuda/cuda_driver.cc:269] failed call to cuInit: UNKNOWN ERROR (303)\n",
      "2021-12-07 14:00:44.040543: I tensorflow/stream_executor/cuda/cuda_diagnostics.cc:156] kernel driver does not appear to be running on this host (LAPTOP-PEBVG10A): /proc/driver/nvidia/version does not exist\n",
      "2021-12-07 14:00:44.050089: I tensorflow/core/platform/cpu_feature_guard.cc:151] This TensorFlow binary is optimized with oneAPI Deep Neural Network Library (oneDNN) to use the following CPU instructions in performance-critical operations:  AVX2 FMA\n",
      "To enable them in other operations, rebuild TensorFlow with the appropriate compiler flags.\n",
      "ERROR:root:Internal Python error in the inspect module.\n",
      "Below is the traceback from this internal error.\n",
      "\n"
     ]
    },
    {
     "name": "stdout",
     "output_type": "stream",
     "text": [
      "Traceback (most recent call last):\n",
      "  File \"/mnt/c/Users/Diogo/.virtualenvs/bioinfo2.0/lib/python3.7/site-packages/IPython/core/interactiveshell.py\", line 3444, in run_code\n",
      "    exec(code_obj, self.user_global_ns, self.user_ns)\n",
      "  File \"/tmp/ipykernel_25623/2902284024.py\", line 7, in <module>\n",
      "    filter_sigma=1.5, k1=0.01, k2=0.03\n",
      "  File \"/mnt/c/Users/Diogo/.virtualenvs/bioinfo2.0/lib/python3.7/site-packages/tensorflow/python/util/traceback_utils.py\", line 150, in error_handler\n",
      "    return fn(*args, **kwargs)\n",
      "  File \"/mnt/c/Users/Diogo/.virtualenvs/bioinfo2.0/lib/python3.7/site-packages/tensorflow/python/util/dispatch.py\", line 1096, in op_dispatch_handler\n",
      "    return dispatch_target(*args, **kwargs)\n",
      "  File \"/mnt/c/Users/Diogo/.virtualenvs/bioinfo2.0/lib/python3.7/site-packages/tensorflow/python/ops/image_ops_impl.py\", line 4438, in ssim_multiscale\n",
      "    k2=k2)\n",
      "  File \"/mnt/c/Users/Diogo/.virtualenvs/bioinfo2.0/lib/python3.7/site-packages/tensorflow/python/ops/image_ops_impl.py\", line 4223, in _ssim_per_channel\n",
      "    k2)\n",
      "  File \"/mnt/c/Users/Diogo/.virtualenvs/bioinfo2.0/lib/python3.7/site-packages/tensorflow/python/ops/image_ops_impl.py\", line 4124, in _ssim_helper\n",
      "    num1 = reducer(x * y) * 2.0\n",
      "  File \"/mnt/c/Users/Diogo/.virtualenvs/bioinfo2.0/lib/python3.7/site-packages/tensorflow/python/ops/image_ops_impl.py\", line 4218, in reducer\n",
      "    y = nn.depthwise_conv2d(x, kernel, strides=[1, 1, 1, 1], padding='VALID')\n",
      "  File \"/mnt/c/Users/Diogo/.virtualenvs/bioinfo2.0/lib/python3.7/site-packages/tensorflow/python/util/traceback_utils.py\", line 150, in error_handler\n",
      "    return fn(*args, **kwargs)\n",
      "  File \"/mnt/c/Users/Diogo/.virtualenvs/bioinfo2.0/lib/python3.7/site-packages/tensorflow/python/util/dispatch.py\", line 1096, in op_dispatch_handler\n",
      "    return dispatch_target(*args, **kwargs)\n",
      "  File \"/mnt/c/Users/Diogo/.virtualenvs/bioinfo2.0/lib/python3.7/site-packages/tensorflow/python/ops/nn_impl.py\", line 885, in depthwise_conv2d\n",
      "    op=op)\n",
      "  File \"/mnt/c/Users/Diogo/.virtualenvs/bioinfo2.0/lib/python3.7/site-packages/tensorflow/python/util/traceback_utils.py\", line 150, in error_handler\n",
      "    return fn(*args, **kwargs)\n",
      "  File \"/mnt/c/Users/Diogo/.virtualenvs/bioinfo2.0/lib/python3.7/site-packages/tensorflow/python/util/dispatch.py\", line 1096, in op_dispatch_handler\n",
      "    return dispatch_target(*args, **kwargs)\n",
      "  File \"/mnt/c/Users/Diogo/.virtualenvs/bioinfo2.0/lib/python3.7/site-packages/tensorflow/python/ops/nn_ops.py\", line 698, in with_space_to_batch\n",
      "    return new_op(input, None)\n",
      "  File \"/mnt/c/Users/Diogo/.virtualenvs/bioinfo2.0/lib/python3.7/site-packages/tensorflow/python/ops/nn_ops.py\", line 876, in __call__\n",
      "    return self.call(inp, filter)\n",
      "  File \"/mnt/c/Users/Diogo/.virtualenvs/bioinfo2.0/lib/python3.7/site-packages/tensorflow/python/ops/nn_ops.py\", line 688, in <lambda>\n",
      "    return lambda inp, _: op(inp, num_spatial_dims, padding)\n",
      "  File \"/mnt/c/Users/Diogo/.virtualenvs/bioinfo2.0/lib/python3.7/site-packages/tensorflow/python/ops/nn_impl.py\", line 877, in op\n",
      "    name=name)\n",
      "  File \"/mnt/c/Users/Diogo/.virtualenvs/bioinfo2.0/lib/python3.7/site-packages/tensorflow/python/util/traceback_utils.py\", line 150, in error_handler\n",
      "    return fn(*args, **kwargs)\n",
      "  File \"/mnt/c/Users/Diogo/.virtualenvs/bioinfo2.0/lib/python3.7/site-packages/tensorflow/python/util/dispatch.py\", line 1096, in op_dispatch_handler\n",
      "    return dispatch_target(*args, **kwargs)\n",
      "  File \"/mnt/c/Users/Diogo/.virtualenvs/bioinfo2.0/lib/python3.7/site-packages/tensorflow/python/ops/nn_ops.py\", line 3018, in depthwise_conv2d_native\n",
      "    name=name)\n",
      "  File \"/mnt/c/Users/Diogo/.virtualenvs/bioinfo2.0/lib/python3.7/site-packages/tensorflow/python/ops/gen_nn_ops.py\", line 2205, in depthwise_conv2d_native\n",
      "    \"data_format\", data_format, \"dilations\", dilations)\n",
      "KeyboardInterrupt\n",
      "\n",
      "During handling of the above exception, another exception occurred:\n",
      "\n",
      "Traceback (most recent call last):\n",
      "  File \"/mnt/c/Users/Diogo/.virtualenvs/bioinfo2.0/lib/python3.7/site-packages/IPython/core/interactiveshell.py\", line 2064, in showtraceback\n",
      "    stb = value._render_traceback_()\n",
      "AttributeError: 'KeyboardInterrupt' object has no attribute '_render_traceback_'\n",
      "\n",
      "During handling of the above exception, another exception occurred:\n",
      "\n",
      "Traceback (most recent call last):\n",
      "  File \"/mnt/c/Users/Diogo/.virtualenvs/bioinfo2.0/lib/python3.7/site-packages/IPython/core/ultratb.py\", line 1101, in get_records\n",
      "    return _fixed_getinnerframes(etb, number_of_lines_of_context, tb_offset)\n",
      "  File \"/mnt/c/Users/Diogo/.virtualenvs/bioinfo2.0/lib/python3.7/site-packages/IPython/core/ultratb.py\", line 248, in wrapped\n",
      "    return f(*args, **kwargs)\n",
      "  File \"/mnt/c/Users/Diogo/.virtualenvs/bioinfo2.0/lib/python3.7/site-packages/IPython/core/ultratb.py\", line 293, in _fixed_getinnerframes\n",
      "    aux = traceback.extract_tb(etb)\n",
      "  File \"/usr/lib/python3.7/traceback.py\", line 72, in extract_tb\n",
      "    return StackSummary.extract(walk_tb(tb), limit=limit)\n",
      "  File \"/usr/lib/python3.7/traceback.py\", line 359, in extract\n",
      "    linecache.checkcache(filename)\n",
      "  File \"/mnt/c/Users/Diogo/.virtualenvs/bioinfo2.0/lib/python3.7/site-packages/IPython/core/compilerop.py\", line 185, in check_linecache_ipython\n",
      "    linecache._checkcache_ori(*args)\n",
      "  File \"/mnt/c/Users/Diogo/.virtualenvs/bioinfo2.0/lib/python3.7/linecache.py\", line 74, in checkcache\n",
      "    stat = os.stat(fullname)\n",
      "KeyboardInterrupt\n"
     ]
    },
    {
     "ename": "TypeError",
     "evalue": "object of type 'NoneType' has no len()",
     "output_type": "error",
     "traceback": [
      "\u001b[0;31m---------------------------------------------------------------------------\u001b[0m",
      "\u001b[0;31mKeyboardInterrupt\u001b[0m                         Traceback (most recent call last)",
      "    \u001b[0;31m[... skipping hidden 1 frame]\u001b[0m\n",
      "\u001b[0;32m/tmp/ipykernel_25623/2902284024.py\u001b[0m in \u001b[0;36m<module>\u001b[0;34m\u001b[0m\n\u001b[1;32m      6\u001b[0m                 \u001b[0mmax_val\u001b[0m\u001b[0;34m=\u001b[0m\u001b[0;36m255\u001b[0m\u001b[0;34m,\u001b[0m \u001b[0mfilter_size\u001b[0m\u001b[0;34m=\u001b[0m\u001b[0;36m11\u001b[0m\u001b[0;34m,\u001b[0m\u001b[0;34m\u001b[0m\u001b[0;34m\u001b[0m\u001b[0m\n\u001b[0;32m----> 7\u001b[0;31m                 \u001b[0mfilter_sigma\u001b[0m\u001b[0;34m=\u001b[0m\u001b[0;36m1.5\u001b[0m\u001b[0;34m,\u001b[0m \u001b[0mk1\u001b[0m\u001b[0;34m=\u001b[0m\u001b[0;36m0.01\u001b[0m\u001b[0;34m,\u001b[0m \u001b[0mk2\u001b[0m\u001b[0;34m=\u001b[0m\u001b[0;36m0.03\u001b[0m\u001b[0;34m\u001b[0m\u001b[0;34m\u001b[0m\u001b[0m\n\u001b[0m\u001b[1;32m      8\u001b[0m                )[0].numpy()\n",
      "\u001b[0;32m/mnt/c/Users/Diogo/.virtualenvs/bioinfo2.0/lib/python3.7/site-packages/tensorflow/python/util/traceback_utils.py\u001b[0m in \u001b[0;36merror_handler\u001b[0;34m(*args, **kwargs)\u001b[0m\n\u001b[1;32m    149\u001b[0m     \u001b[0;32mtry\u001b[0m\u001b[0;34m:\u001b[0m\u001b[0;34m\u001b[0m\u001b[0;34m\u001b[0m\u001b[0m\n\u001b[0;32m--> 150\u001b[0;31m       \u001b[0;32mreturn\u001b[0m \u001b[0mfn\u001b[0m\u001b[0;34m(\u001b[0m\u001b[0;34m*\u001b[0m\u001b[0margs\u001b[0m\u001b[0;34m,\u001b[0m \u001b[0;34m**\u001b[0m\u001b[0mkwargs\u001b[0m\u001b[0;34m)\u001b[0m\u001b[0;34m\u001b[0m\u001b[0;34m\u001b[0m\u001b[0m\n\u001b[0m\u001b[1;32m    151\u001b[0m     \u001b[0;32mexcept\u001b[0m \u001b[0mException\u001b[0m \u001b[0;32mas\u001b[0m \u001b[0me\u001b[0m\u001b[0;34m:\u001b[0m\u001b[0;34m\u001b[0m\u001b[0;34m\u001b[0m\u001b[0m\n",
      "\u001b[0;32m/mnt/c/Users/Diogo/.virtualenvs/bioinfo2.0/lib/python3.7/site-packages/tensorflow/python/util/dispatch.py\u001b[0m in \u001b[0;36mop_dispatch_handler\u001b[0;34m(*args, **kwargs)\u001b[0m\n\u001b[1;32m   1095\u001b[0m       \u001b[0;32mtry\u001b[0m\u001b[0;34m:\u001b[0m\u001b[0;34m\u001b[0m\u001b[0;34m\u001b[0m\u001b[0m\n\u001b[0;32m-> 1096\u001b[0;31m         \u001b[0;32mreturn\u001b[0m \u001b[0mdispatch_target\u001b[0m\u001b[0;34m(\u001b[0m\u001b[0;34m*\u001b[0m\u001b[0margs\u001b[0m\u001b[0;34m,\u001b[0m \u001b[0;34m**\u001b[0m\u001b[0mkwargs\u001b[0m\u001b[0;34m)\u001b[0m\u001b[0;34m\u001b[0m\u001b[0;34m\u001b[0m\u001b[0m\n\u001b[0m\u001b[1;32m   1097\u001b[0m       \u001b[0;32mexcept\u001b[0m \u001b[0;34m(\u001b[0m\u001b[0mTypeError\u001b[0m\u001b[0;34m,\u001b[0m \u001b[0mValueError\u001b[0m\u001b[0;34m)\u001b[0m\u001b[0;34m:\u001b[0m\u001b[0;34m\u001b[0m\u001b[0;34m\u001b[0m\u001b[0m\n",
      "\u001b[0;32m/mnt/c/Users/Diogo/.virtualenvs/bioinfo2.0/lib/python3.7/site-packages/tensorflow/python/ops/image_ops_impl.py\u001b[0m in \u001b[0;36mssim_multiscale\u001b[0;34m(img1, img2, max_val, power_factors, filter_size, filter_sigma, k1, k2)\u001b[0m\n\u001b[1;32m   4437\u001b[0m             \u001b[0mk1\u001b[0m\u001b[0;34m=\u001b[0m\u001b[0mk1\u001b[0m\u001b[0;34m,\u001b[0m\u001b[0;34m\u001b[0m\u001b[0;34m\u001b[0m\u001b[0m\n\u001b[0;32m-> 4438\u001b[0;31m             k2=k2)\n\u001b[0m\u001b[1;32m   4439\u001b[0m         \u001b[0mmcs\u001b[0m\u001b[0;34m.\u001b[0m\u001b[0mappend\u001b[0m\u001b[0;34m(\u001b[0m\u001b[0mnn_ops\u001b[0m\u001b[0;34m.\u001b[0m\u001b[0mrelu\u001b[0m\u001b[0;34m(\u001b[0m\u001b[0mcs\u001b[0m\u001b[0;34m)\u001b[0m\u001b[0;34m)\u001b[0m\u001b[0;34m\u001b[0m\u001b[0;34m\u001b[0m\u001b[0m\n",
      "\u001b[0;32m/mnt/c/Users/Diogo/.virtualenvs/bioinfo2.0/lib/python3.7/site-packages/tensorflow/python/ops/image_ops_impl.py\u001b[0m in \u001b[0;36m_ssim_per_channel\u001b[0;34m(img1, img2, max_val, filter_size, filter_sigma, k1, k2)\u001b[0m\n\u001b[1;32m   4222\u001b[0m   luminance, cs = _ssim_helper(img1, img2, reducer, max_val, compensation, k1,\n\u001b[0;32m-> 4223\u001b[0;31m                                k2)\n\u001b[0m\u001b[1;32m   4224\u001b[0m \u001b[0;34m\u001b[0m\u001b[0m\n",
      "\u001b[0;32m/mnt/c/Users/Diogo/.virtualenvs/bioinfo2.0/lib/python3.7/site-packages/tensorflow/python/ops/image_ops_impl.py\u001b[0m in \u001b[0;36m_ssim_helper\u001b[0;34m(x, y, reducer, max_val, compensation, k1, k2)\u001b[0m\n\u001b[1;32m   4123\u001b[0m   \u001b[0;31m#          = \\sum_i w_i x_i y_i - (\\sum_i w_i x_i) (\\sum_j w_j y_j).\u001b[0m\u001b[0;34m\u001b[0m\u001b[0;34m\u001b[0m\u001b[0;34m\u001b[0m\u001b[0m\n\u001b[0;32m-> 4124\u001b[0;31m   \u001b[0mnum1\u001b[0m \u001b[0;34m=\u001b[0m \u001b[0mreducer\u001b[0m\u001b[0;34m(\u001b[0m\u001b[0mx\u001b[0m \u001b[0;34m*\u001b[0m \u001b[0my\u001b[0m\u001b[0;34m)\u001b[0m \u001b[0;34m*\u001b[0m \u001b[0;36m2.0\u001b[0m\u001b[0;34m\u001b[0m\u001b[0;34m\u001b[0m\u001b[0m\n\u001b[0m\u001b[1;32m   4125\u001b[0m   \u001b[0mden1\u001b[0m \u001b[0;34m=\u001b[0m \u001b[0mreducer\u001b[0m\u001b[0;34m(\u001b[0m\u001b[0mmath_ops\u001b[0m\u001b[0;34m.\u001b[0m\u001b[0msquare\u001b[0m\u001b[0;34m(\u001b[0m\u001b[0mx\u001b[0m\u001b[0;34m)\u001b[0m \u001b[0;34m+\u001b[0m \u001b[0mmath_ops\u001b[0m\u001b[0;34m.\u001b[0m\u001b[0msquare\u001b[0m\u001b[0;34m(\u001b[0m\u001b[0my\u001b[0m\u001b[0;34m)\u001b[0m\u001b[0;34m)\u001b[0m\u001b[0;34m\u001b[0m\u001b[0;34m\u001b[0m\u001b[0m\n",
      "\u001b[0;32m/mnt/c/Users/Diogo/.virtualenvs/bioinfo2.0/lib/python3.7/site-packages/tensorflow/python/ops/image_ops_impl.py\u001b[0m in \u001b[0;36mreducer\u001b[0;34m(x)\u001b[0m\n\u001b[1;32m   4217\u001b[0m     \u001b[0mx\u001b[0m \u001b[0;34m=\u001b[0m \u001b[0marray_ops\u001b[0m\u001b[0;34m.\u001b[0m\u001b[0mreshape\u001b[0m\u001b[0;34m(\u001b[0m\u001b[0mx\u001b[0m\u001b[0;34m,\u001b[0m \u001b[0mshape\u001b[0m\u001b[0;34m=\u001b[0m\u001b[0marray_ops\u001b[0m\u001b[0;34m.\u001b[0m\u001b[0mconcat\u001b[0m\u001b[0;34m(\u001b[0m\u001b[0;34m[\u001b[0m\u001b[0;34m[\u001b[0m\u001b[0;34m-\u001b[0m\u001b[0;36m1\u001b[0m\u001b[0;34m]\u001b[0m\u001b[0;34m,\u001b[0m \u001b[0mshape\u001b[0m\u001b[0;34m[\u001b[0m\u001b[0;34m-\u001b[0m\u001b[0;36m3\u001b[0m\u001b[0;34m:\u001b[0m\u001b[0;34m]\u001b[0m\u001b[0;34m]\u001b[0m\u001b[0;34m,\u001b[0m \u001b[0;36m0\u001b[0m\u001b[0;34m)\u001b[0m\u001b[0;34m)\u001b[0m\u001b[0;34m\u001b[0m\u001b[0;34m\u001b[0m\u001b[0m\n\u001b[0;32m-> 4218\u001b[0;31m     \u001b[0my\u001b[0m \u001b[0;34m=\u001b[0m \u001b[0mnn\u001b[0m\u001b[0;34m.\u001b[0m\u001b[0mdepthwise_conv2d\u001b[0m\u001b[0;34m(\u001b[0m\u001b[0mx\u001b[0m\u001b[0;34m,\u001b[0m \u001b[0mkernel\u001b[0m\u001b[0;34m,\u001b[0m \u001b[0mstrides\u001b[0m\u001b[0;34m=\u001b[0m\u001b[0;34m[\u001b[0m\u001b[0;36m1\u001b[0m\u001b[0;34m,\u001b[0m \u001b[0;36m1\u001b[0m\u001b[0;34m,\u001b[0m \u001b[0;36m1\u001b[0m\u001b[0;34m,\u001b[0m \u001b[0;36m1\u001b[0m\u001b[0;34m]\u001b[0m\u001b[0;34m,\u001b[0m \u001b[0mpadding\u001b[0m\u001b[0;34m=\u001b[0m\u001b[0;34m'VALID'\u001b[0m\u001b[0;34m)\u001b[0m\u001b[0;34m\u001b[0m\u001b[0;34m\u001b[0m\u001b[0m\n\u001b[0m\u001b[1;32m   4219\u001b[0m     return array_ops.reshape(\n",
      "\u001b[0;32m/mnt/c/Users/Diogo/.virtualenvs/bioinfo2.0/lib/python3.7/site-packages/tensorflow/python/util/traceback_utils.py\u001b[0m in \u001b[0;36merror_handler\u001b[0;34m(*args, **kwargs)\u001b[0m\n\u001b[1;32m    149\u001b[0m     \u001b[0;32mtry\u001b[0m\u001b[0;34m:\u001b[0m\u001b[0;34m\u001b[0m\u001b[0;34m\u001b[0m\u001b[0m\n\u001b[0;32m--> 150\u001b[0;31m       \u001b[0;32mreturn\u001b[0m \u001b[0mfn\u001b[0m\u001b[0;34m(\u001b[0m\u001b[0;34m*\u001b[0m\u001b[0margs\u001b[0m\u001b[0;34m,\u001b[0m \u001b[0;34m**\u001b[0m\u001b[0mkwargs\u001b[0m\u001b[0;34m)\u001b[0m\u001b[0;34m\u001b[0m\u001b[0;34m\u001b[0m\u001b[0m\n\u001b[0m\u001b[1;32m    151\u001b[0m     \u001b[0;32mexcept\u001b[0m \u001b[0mException\u001b[0m \u001b[0;32mas\u001b[0m \u001b[0me\u001b[0m\u001b[0;34m:\u001b[0m\u001b[0;34m\u001b[0m\u001b[0;34m\u001b[0m\u001b[0m\n",
      "\u001b[0;32m/mnt/c/Users/Diogo/.virtualenvs/bioinfo2.0/lib/python3.7/site-packages/tensorflow/python/util/dispatch.py\u001b[0m in \u001b[0;36mop_dispatch_handler\u001b[0;34m(*args, **kwargs)\u001b[0m\n\u001b[1;32m   1095\u001b[0m       \u001b[0;32mtry\u001b[0m\u001b[0;34m:\u001b[0m\u001b[0;34m\u001b[0m\u001b[0;34m\u001b[0m\u001b[0m\n\u001b[0;32m-> 1096\u001b[0;31m         \u001b[0;32mreturn\u001b[0m \u001b[0mdispatch_target\u001b[0m\u001b[0;34m(\u001b[0m\u001b[0;34m*\u001b[0m\u001b[0margs\u001b[0m\u001b[0;34m,\u001b[0m \u001b[0;34m**\u001b[0m\u001b[0mkwargs\u001b[0m\u001b[0;34m)\u001b[0m\u001b[0;34m\u001b[0m\u001b[0;34m\u001b[0m\u001b[0m\n\u001b[0m\u001b[1;32m   1097\u001b[0m       \u001b[0;32mexcept\u001b[0m \u001b[0;34m(\u001b[0m\u001b[0mTypeError\u001b[0m\u001b[0;34m,\u001b[0m \u001b[0mValueError\u001b[0m\u001b[0;34m)\u001b[0m\u001b[0;34m:\u001b[0m\u001b[0;34m\u001b[0m\u001b[0;34m\u001b[0m\u001b[0m\n",
      "\u001b[0;32m/mnt/c/Users/Diogo/.virtualenvs/bioinfo2.0/lib/python3.7/site-packages/tensorflow/python/ops/nn_impl.py\u001b[0m in \u001b[0;36mdepthwise_conv2d\u001b[0;34m(input, filter, strides, padding, rate, name, data_format, dilations)\u001b[0m\n\u001b[1;32m    884\u001b[0m         \u001b[0mdata_format\u001b[0m\u001b[0;34m=\u001b[0m\u001b[0mdata_format\u001b[0m\u001b[0;34m,\u001b[0m\u001b[0;34m\u001b[0m\u001b[0;34m\u001b[0m\u001b[0m\n\u001b[0;32m--> 885\u001b[0;31m         op=op)\n\u001b[0m\u001b[1;32m    886\u001b[0m \u001b[0;34m\u001b[0m\u001b[0m\n",
      "\u001b[0;32m/mnt/c/Users/Diogo/.virtualenvs/bioinfo2.0/lib/python3.7/site-packages/tensorflow/python/util/traceback_utils.py\u001b[0m in \u001b[0;36merror_handler\u001b[0;34m(*args, **kwargs)\u001b[0m\n\u001b[1;32m    149\u001b[0m     \u001b[0;32mtry\u001b[0m\u001b[0;34m:\u001b[0m\u001b[0;34m\u001b[0m\u001b[0;34m\u001b[0m\u001b[0m\n\u001b[0;32m--> 150\u001b[0;31m       \u001b[0;32mreturn\u001b[0m \u001b[0mfn\u001b[0m\u001b[0;34m(\u001b[0m\u001b[0;34m*\u001b[0m\u001b[0margs\u001b[0m\u001b[0;34m,\u001b[0m \u001b[0;34m**\u001b[0m\u001b[0mkwargs\u001b[0m\u001b[0;34m)\u001b[0m\u001b[0;34m\u001b[0m\u001b[0;34m\u001b[0m\u001b[0m\n\u001b[0m\u001b[1;32m    151\u001b[0m     \u001b[0;32mexcept\u001b[0m \u001b[0mException\u001b[0m \u001b[0;32mas\u001b[0m \u001b[0me\u001b[0m\u001b[0;34m:\u001b[0m\u001b[0;34m\u001b[0m\u001b[0;34m\u001b[0m\u001b[0m\n",
      "\u001b[0;32m/mnt/c/Users/Diogo/.virtualenvs/bioinfo2.0/lib/python3.7/site-packages/tensorflow/python/util/dispatch.py\u001b[0m in \u001b[0;36mop_dispatch_handler\u001b[0;34m(*args, **kwargs)\u001b[0m\n\u001b[1;32m   1095\u001b[0m       \u001b[0;32mtry\u001b[0m\u001b[0;34m:\u001b[0m\u001b[0;34m\u001b[0m\u001b[0;34m\u001b[0m\u001b[0m\n\u001b[0;32m-> 1096\u001b[0;31m         \u001b[0;32mreturn\u001b[0m \u001b[0mdispatch_target\u001b[0m\u001b[0;34m(\u001b[0m\u001b[0;34m*\u001b[0m\u001b[0margs\u001b[0m\u001b[0;34m,\u001b[0m \u001b[0;34m**\u001b[0m\u001b[0mkwargs\u001b[0m\u001b[0;34m)\u001b[0m\u001b[0;34m\u001b[0m\u001b[0;34m\u001b[0m\u001b[0m\n\u001b[0m\u001b[1;32m   1097\u001b[0m       \u001b[0;32mexcept\u001b[0m \u001b[0;34m(\u001b[0m\u001b[0mTypeError\u001b[0m\u001b[0;34m,\u001b[0m \u001b[0mValueError\u001b[0m\u001b[0;34m)\u001b[0m\u001b[0;34m:\u001b[0m\u001b[0;34m\u001b[0m\u001b[0;34m\u001b[0m\u001b[0m\n",
      "\u001b[0;32m/mnt/c/Users/Diogo/.virtualenvs/bioinfo2.0/lib/python3.7/site-packages/tensorflow/python/ops/nn_ops.py\u001b[0m in \u001b[0;36mwith_space_to_batch\u001b[0;34m(input, dilation_rate, padding, op, filter_shape, spatial_dims, data_format)\u001b[0m\n\u001b[1;32m    697\u001b[0m       data_format=data_format)\n\u001b[0;32m--> 698\u001b[0;31m   \u001b[0;32mreturn\u001b[0m \u001b[0mnew_op\u001b[0m\u001b[0;34m(\u001b[0m\u001b[0minput\u001b[0m\u001b[0;34m,\u001b[0m \u001b[0;32mNone\u001b[0m\u001b[0;34m)\u001b[0m\u001b[0;34m\u001b[0m\u001b[0;34m\u001b[0m\u001b[0m\n\u001b[0m\u001b[1;32m    699\u001b[0m \u001b[0;34m\u001b[0m\u001b[0m\n",
      "\u001b[0;32m/mnt/c/Users/Diogo/.virtualenvs/bioinfo2.0/lib/python3.7/site-packages/tensorflow/python/ops/nn_ops.py\u001b[0m in \u001b[0;36m__call__\u001b[0;34m(self, inp, filter)\u001b[0m\n\u001b[1;32m    875\u001b[0m   \u001b[0;32mdef\u001b[0m \u001b[0m__call__\u001b[0m\u001b[0;34m(\u001b[0m\u001b[0mself\u001b[0m\u001b[0;34m,\u001b[0m \u001b[0minp\u001b[0m\u001b[0;34m,\u001b[0m \u001b[0mfilter\u001b[0m\u001b[0;34m)\u001b[0m\u001b[0;34m:\u001b[0m  \u001b[0;31m# pylint: disable=redefined-builtin\u001b[0m\u001b[0;34m\u001b[0m\u001b[0;34m\u001b[0m\u001b[0m\n\u001b[0;32m--> 876\u001b[0;31m     \u001b[0;32mreturn\u001b[0m \u001b[0mself\u001b[0m\u001b[0;34m.\u001b[0m\u001b[0mcall\u001b[0m\u001b[0;34m(\u001b[0m\u001b[0minp\u001b[0m\u001b[0;34m,\u001b[0m \u001b[0mfilter\u001b[0m\u001b[0;34m)\u001b[0m\u001b[0;34m\u001b[0m\u001b[0;34m\u001b[0m\u001b[0m\n\u001b[0m\u001b[1;32m    877\u001b[0m \u001b[0;34m\u001b[0m\u001b[0m\n",
      "\u001b[0;32m/mnt/c/Users/Diogo/.virtualenvs/bioinfo2.0/lib/python3.7/site-packages/tensorflow/python/ops/nn_ops.py\u001b[0m in \u001b[0;36m<lambda>\u001b[0;34m(inp, _)\u001b[0m\n\u001b[1;32m    687\u001b[0m   \u001b[0;32mdef\u001b[0m \u001b[0mbuild_op\u001b[0m\u001b[0;34m(\u001b[0m\u001b[0mnum_spatial_dims\u001b[0m\u001b[0;34m,\u001b[0m \u001b[0mpadding\u001b[0m\u001b[0;34m)\u001b[0m\u001b[0;34m:\u001b[0m\u001b[0;34m\u001b[0m\u001b[0;34m\u001b[0m\u001b[0m\n\u001b[0;32m--> 688\u001b[0;31m     \u001b[0;32mreturn\u001b[0m \u001b[0;32mlambda\u001b[0m \u001b[0minp\u001b[0m\u001b[0;34m,\u001b[0m \u001b[0m_\u001b[0m\u001b[0;34m:\u001b[0m \u001b[0mop\u001b[0m\u001b[0;34m(\u001b[0m\u001b[0minp\u001b[0m\u001b[0;34m,\u001b[0m \u001b[0mnum_spatial_dims\u001b[0m\u001b[0;34m,\u001b[0m \u001b[0mpadding\u001b[0m\u001b[0;34m)\u001b[0m\u001b[0;34m\u001b[0m\u001b[0;34m\u001b[0m\u001b[0m\n\u001b[0m\u001b[1;32m    689\u001b[0m \u001b[0;34m\u001b[0m\u001b[0m\n",
      "\u001b[0;32m/mnt/c/Users/Diogo/.virtualenvs/bioinfo2.0/lib/python3.7/site-packages/tensorflow/python/ops/nn_impl.py\u001b[0m in \u001b[0;36mop\u001b[0;34m(input_converted, _, padding)\u001b[0m\n\u001b[1;32m    876\u001b[0m           \u001b[0mdata_format\u001b[0m\u001b[0;34m=\u001b[0m\u001b[0mdata_format\u001b[0m\u001b[0;34m,\u001b[0m\u001b[0;34m\u001b[0m\u001b[0;34m\u001b[0m\u001b[0m\n\u001b[0;32m--> 877\u001b[0;31m           name=name)\n\u001b[0m\u001b[1;32m    878\u001b[0m \u001b[0;34m\u001b[0m\u001b[0m\n",
      "\u001b[0;32m/mnt/c/Users/Diogo/.virtualenvs/bioinfo2.0/lib/python3.7/site-packages/tensorflow/python/util/traceback_utils.py\u001b[0m in \u001b[0;36merror_handler\u001b[0;34m(*args, **kwargs)\u001b[0m\n\u001b[1;32m    149\u001b[0m     \u001b[0;32mtry\u001b[0m\u001b[0;34m:\u001b[0m\u001b[0;34m\u001b[0m\u001b[0;34m\u001b[0m\u001b[0m\n\u001b[0;32m--> 150\u001b[0;31m       \u001b[0;32mreturn\u001b[0m \u001b[0mfn\u001b[0m\u001b[0;34m(\u001b[0m\u001b[0;34m*\u001b[0m\u001b[0margs\u001b[0m\u001b[0;34m,\u001b[0m \u001b[0;34m**\u001b[0m\u001b[0mkwargs\u001b[0m\u001b[0;34m)\u001b[0m\u001b[0;34m\u001b[0m\u001b[0;34m\u001b[0m\u001b[0m\n\u001b[0m\u001b[1;32m    151\u001b[0m     \u001b[0;32mexcept\u001b[0m \u001b[0mException\u001b[0m \u001b[0;32mas\u001b[0m \u001b[0me\u001b[0m\u001b[0;34m:\u001b[0m\u001b[0;34m\u001b[0m\u001b[0;34m\u001b[0m\u001b[0m\n",
      "\u001b[0;32m/mnt/c/Users/Diogo/.virtualenvs/bioinfo2.0/lib/python3.7/site-packages/tensorflow/python/util/dispatch.py\u001b[0m in \u001b[0;36mop_dispatch_handler\u001b[0;34m(*args, **kwargs)\u001b[0m\n\u001b[1;32m   1095\u001b[0m       \u001b[0;32mtry\u001b[0m\u001b[0;34m:\u001b[0m\u001b[0;34m\u001b[0m\u001b[0;34m\u001b[0m\u001b[0m\n\u001b[0;32m-> 1096\u001b[0;31m         \u001b[0;32mreturn\u001b[0m \u001b[0mdispatch_target\u001b[0m\u001b[0;34m(\u001b[0m\u001b[0;34m*\u001b[0m\u001b[0margs\u001b[0m\u001b[0;34m,\u001b[0m \u001b[0;34m**\u001b[0m\u001b[0mkwargs\u001b[0m\u001b[0;34m)\u001b[0m\u001b[0;34m\u001b[0m\u001b[0;34m\u001b[0m\u001b[0m\n\u001b[0m\u001b[1;32m   1097\u001b[0m       \u001b[0;32mexcept\u001b[0m \u001b[0;34m(\u001b[0m\u001b[0mTypeError\u001b[0m\u001b[0;34m,\u001b[0m \u001b[0mValueError\u001b[0m\u001b[0;34m)\u001b[0m\u001b[0;34m:\u001b[0m\u001b[0;34m\u001b[0m\u001b[0;34m\u001b[0m\u001b[0m\n",
      "\u001b[0;32m/mnt/c/Users/Diogo/.virtualenvs/bioinfo2.0/lib/python3.7/site-packages/tensorflow/python/ops/nn_ops.py\u001b[0m in \u001b[0;36mdepthwise_conv2d_native\u001b[0;34m(input, filter, strides, padding, data_format, dilations, name)\u001b[0m\n\u001b[1;32m   3017\u001b[0m       \u001b[0mdilations\u001b[0m\u001b[0;34m=\u001b[0m\u001b[0mdilations\u001b[0m\u001b[0;34m,\u001b[0m\u001b[0;34m\u001b[0m\u001b[0;34m\u001b[0m\u001b[0m\n\u001b[0;32m-> 3018\u001b[0;31m       name=name)\n\u001b[0m\u001b[1;32m   3019\u001b[0m \u001b[0;34m\u001b[0m\u001b[0m\n",
      "\u001b[0;32m/mnt/c/Users/Diogo/.virtualenvs/bioinfo2.0/lib/python3.7/site-packages/tensorflow/python/ops/gen_nn_ops.py\u001b[0m in \u001b[0;36mdepthwise_conv2d_native\u001b[0;34m(input, filter, strides, padding, explicit_paddings, data_format, dilations, name)\u001b[0m\n\u001b[1;32m   2204\u001b[0m         \u001b[0mstrides\u001b[0m\u001b[0;34m,\u001b[0m \u001b[0;34m\"padding\"\u001b[0m\u001b[0;34m,\u001b[0m \u001b[0mpadding\u001b[0m\u001b[0;34m,\u001b[0m \u001b[0;34m\"explicit_paddings\"\u001b[0m\u001b[0;34m,\u001b[0m \u001b[0mexplicit_paddings\u001b[0m\u001b[0;34m,\u001b[0m\u001b[0;34m\u001b[0m\u001b[0;34m\u001b[0m\u001b[0m\n\u001b[0;32m-> 2205\u001b[0;31m         \"data_format\", data_format, \"dilations\", dilations)\n\u001b[0m\u001b[1;32m   2206\u001b[0m       \u001b[0;32mreturn\u001b[0m \u001b[0m_result\u001b[0m\u001b[0;34m\u001b[0m\u001b[0;34m\u001b[0m\u001b[0m\n",
      "\u001b[0;31mKeyboardInterrupt\u001b[0m: ",
      "\nDuring handling of the above exception, another exception occurred:\n",
      "\u001b[0;31mAttributeError\u001b[0m                            Traceback (most recent call last)",
      "\u001b[0;32m/mnt/c/Users/Diogo/.virtualenvs/bioinfo2.0/lib/python3.7/site-packages/IPython/core/interactiveshell.py\u001b[0m in \u001b[0;36mshowtraceback\u001b[0;34m(self, exc_tuple, filename, tb_offset, exception_only, running_compiled_code)\u001b[0m\n\u001b[1;32m   2063\u001b[0m                         \u001b[0;31m# in the engines. This should return a list of strings.\u001b[0m\u001b[0;34m\u001b[0m\u001b[0;34m\u001b[0m\u001b[0;34m\u001b[0m\u001b[0m\n\u001b[0;32m-> 2064\u001b[0;31m                         \u001b[0mstb\u001b[0m \u001b[0;34m=\u001b[0m \u001b[0mvalue\u001b[0m\u001b[0;34m.\u001b[0m\u001b[0m_render_traceback_\u001b[0m\u001b[0;34m(\u001b[0m\u001b[0;34m)\u001b[0m\u001b[0;34m\u001b[0m\u001b[0;34m\u001b[0m\u001b[0m\n\u001b[0m\u001b[1;32m   2065\u001b[0m                     \u001b[0;32mexcept\u001b[0m \u001b[0mException\u001b[0m\u001b[0;34m:\u001b[0m\u001b[0;34m\u001b[0m\u001b[0;34m\u001b[0m\u001b[0m\n",
      "\u001b[0;31mAttributeError\u001b[0m: 'KeyboardInterrupt' object has no attribute '_render_traceback_'",
      "\nDuring handling of the above exception, another exception occurred:\n",
      "\u001b[0;31mTypeError\u001b[0m                                 Traceback (most recent call last)",
      "    \u001b[0;31m[... skipping hidden 1 frame]\u001b[0m\n",
      "\u001b[0;32m/mnt/c/Users/Diogo/.virtualenvs/bioinfo2.0/lib/python3.7/site-packages/IPython/core/interactiveshell.py\u001b[0m in \u001b[0;36mshowtraceback\u001b[0;34m(self, exc_tuple, filename, tb_offset, exception_only, running_compiled_code)\u001b[0m\n\u001b[1;32m   2065\u001b[0m                     \u001b[0;32mexcept\u001b[0m \u001b[0mException\u001b[0m\u001b[0;34m:\u001b[0m\u001b[0;34m\u001b[0m\u001b[0;34m\u001b[0m\u001b[0m\n\u001b[1;32m   2066\u001b[0m                         stb = self.InteractiveTB.structured_traceback(etype,\n\u001b[0;32m-> 2067\u001b[0;31m                                             value, tb, tb_offset=tb_offset)\n\u001b[0m\u001b[1;32m   2068\u001b[0m \u001b[0;34m\u001b[0m\u001b[0m\n\u001b[1;32m   2069\u001b[0m                     \u001b[0mself\u001b[0m\u001b[0;34m.\u001b[0m\u001b[0m_showtraceback\u001b[0m\u001b[0;34m(\u001b[0m\u001b[0metype\u001b[0m\u001b[0;34m,\u001b[0m \u001b[0mvalue\u001b[0m\u001b[0;34m,\u001b[0m \u001b[0mstb\u001b[0m\u001b[0;34m)\u001b[0m\u001b[0;34m\u001b[0m\u001b[0;34m\u001b[0m\u001b[0m\n",
      "\u001b[0;32m/mnt/c/Users/Diogo/.virtualenvs/bioinfo2.0/lib/python3.7/site-packages/IPython/core/ultratb.py\u001b[0m in \u001b[0;36mstructured_traceback\u001b[0;34m(self, etype, value, tb, tb_offset, number_of_lines_of_context)\u001b[0m\n\u001b[1;32m   1366\u001b[0m             \u001b[0mself\u001b[0m\u001b[0;34m.\u001b[0m\u001b[0mtb\u001b[0m \u001b[0;34m=\u001b[0m \u001b[0mtb\u001b[0m\u001b[0;34m\u001b[0m\u001b[0;34m\u001b[0m\u001b[0m\n\u001b[1;32m   1367\u001b[0m         return FormattedTB.structured_traceback(\n\u001b[0;32m-> 1368\u001b[0;31m             self, etype, value, tb, tb_offset, number_of_lines_of_context)\n\u001b[0m\u001b[1;32m   1369\u001b[0m \u001b[0;34m\u001b[0m\u001b[0m\n\u001b[1;32m   1370\u001b[0m \u001b[0;34m\u001b[0m\u001b[0m\n",
      "\u001b[0;32m/mnt/c/Users/Diogo/.virtualenvs/bioinfo2.0/lib/python3.7/site-packages/IPython/core/ultratb.py\u001b[0m in \u001b[0;36mstructured_traceback\u001b[0;34m(self, etype, value, tb, tb_offset, number_of_lines_of_context)\u001b[0m\n\u001b[1;32m   1266\u001b[0m             \u001b[0;31m# Verbose modes need a full traceback\u001b[0m\u001b[0;34m\u001b[0m\u001b[0;34m\u001b[0m\u001b[0;34m\u001b[0m\u001b[0m\n\u001b[1;32m   1267\u001b[0m             return VerboseTB.structured_traceback(\n\u001b[0;32m-> 1268\u001b[0;31m                 \u001b[0mself\u001b[0m\u001b[0;34m,\u001b[0m \u001b[0metype\u001b[0m\u001b[0;34m,\u001b[0m \u001b[0mvalue\u001b[0m\u001b[0;34m,\u001b[0m \u001b[0mtb\u001b[0m\u001b[0;34m,\u001b[0m \u001b[0mtb_offset\u001b[0m\u001b[0;34m,\u001b[0m \u001b[0mnumber_of_lines_of_context\u001b[0m\u001b[0;34m\u001b[0m\u001b[0;34m\u001b[0m\u001b[0m\n\u001b[0m\u001b[1;32m   1269\u001b[0m             )\n\u001b[1;32m   1270\u001b[0m         \u001b[0;32melif\u001b[0m \u001b[0mmode\u001b[0m \u001b[0;34m==\u001b[0m \u001b[0;34m'Minimal'\u001b[0m\u001b[0;34m:\u001b[0m\u001b[0;34m\u001b[0m\u001b[0;34m\u001b[0m\u001b[0m\n",
      "\u001b[0;32m/mnt/c/Users/Diogo/.virtualenvs/bioinfo2.0/lib/python3.7/site-packages/IPython/core/ultratb.py\u001b[0m in \u001b[0;36mstructured_traceback\u001b[0;34m(self, etype, evalue, etb, tb_offset, number_of_lines_of_context)\u001b[0m\n\u001b[1;32m   1123\u001b[0m \u001b[0;34m\u001b[0m\u001b[0m\n\u001b[1;32m   1124\u001b[0m         formatted_exception = self.format_exception_as_a_whole(etype, evalue, etb, number_of_lines_of_context,\n\u001b[0;32m-> 1125\u001b[0;31m                                                                tb_offset)\n\u001b[0m\u001b[1;32m   1126\u001b[0m \u001b[0;34m\u001b[0m\u001b[0m\n\u001b[1;32m   1127\u001b[0m         \u001b[0mcolors\u001b[0m \u001b[0;34m=\u001b[0m \u001b[0mself\u001b[0m\u001b[0;34m.\u001b[0m\u001b[0mColors\u001b[0m  \u001b[0;31m# just a shorthand + quicker name lookup\u001b[0m\u001b[0;34m\u001b[0m\u001b[0;34m\u001b[0m\u001b[0m\n",
      "\u001b[0;32m/mnt/c/Users/Diogo/.virtualenvs/bioinfo2.0/lib/python3.7/site-packages/IPython/core/ultratb.py\u001b[0m in \u001b[0;36mformat_exception_as_a_whole\u001b[0;34m(self, etype, evalue, etb, number_of_lines_of_context, tb_offset)\u001b[0m\n\u001b[1;32m   1080\u001b[0m \u001b[0;34m\u001b[0m\u001b[0m\n\u001b[1;32m   1081\u001b[0m \u001b[0;34m\u001b[0m\u001b[0m\n\u001b[0;32m-> 1082\u001b[0;31m         \u001b[0mlast_unique\u001b[0m\u001b[0;34m,\u001b[0m \u001b[0mrecursion_repeat\u001b[0m \u001b[0;34m=\u001b[0m \u001b[0mfind_recursion\u001b[0m\u001b[0;34m(\u001b[0m\u001b[0morig_etype\u001b[0m\u001b[0;34m,\u001b[0m \u001b[0mevalue\u001b[0m\u001b[0;34m,\u001b[0m \u001b[0mrecords\u001b[0m\u001b[0;34m)\u001b[0m\u001b[0;34m\u001b[0m\u001b[0;34m\u001b[0m\u001b[0m\n\u001b[0m\u001b[1;32m   1083\u001b[0m \u001b[0;34m\u001b[0m\u001b[0m\n\u001b[1;32m   1084\u001b[0m         \u001b[0mframes\u001b[0m \u001b[0;34m=\u001b[0m \u001b[0mself\u001b[0m\u001b[0;34m.\u001b[0m\u001b[0mformat_records\u001b[0m\u001b[0;34m(\u001b[0m\u001b[0mrecords\u001b[0m\u001b[0;34m,\u001b[0m \u001b[0mlast_unique\u001b[0m\u001b[0;34m,\u001b[0m \u001b[0mrecursion_repeat\u001b[0m\u001b[0;34m)\u001b[0m\u001b[0;34m\u001b[0m\u001b[0;34m\u001b[0m\u001b[0m\n",
      "\u001b[0;32m/mnt/c/Users/Diogo/.virtualenvs/bioinfo2.0/lib/python3.7/site-packages/IPython/core/ultratb.py\u001b[0m in \u001b[0;36mfind_recursion\u001b[0;34m(etype, value, records)\u001b[0m\n\u001b[1;32m    380\u001b[0m     \u001b[0;31m# first frame (from in to out) that looks different.\u001b[0m\u001b[0;34m\u001b[0m\u001b[0;34m\u001b[0m\u001b[0;34m\u001b[0m\u001b[0m\n\u001b[1;32m    381\u001b[0m     \u001b[0;32mif\u001b[0m \u001b[0;32mnot\u001b[0m \u001b[0mis_recursion_error\u001b[0m\u001b[0;34m(\u001b[0m\u001b[0metype\u001b[0m\u001b[0;34m,\u001b[0m \u001b[0mvalue\u001b[0m\u001b[0;34m,\u001b[0m \u001b[0mrecords\u001b[0m\u001b[0;34m)\u001b[0m\u001b[0;34m:\u001b[0m\u001b[0;34m\u001b[0m\u001b[0;34m\u001b[0m\u001b[0m\n\u001b[0;32m--> 382\u001b[0;31m         \u001b[0;32mreturn\u001b[0m \u001b[0mlen\u001b[0m\u001b[0;34m(\u001b[0m\u001b[0mrecords\u001b[0m\u001b[0;34m)\u001b[0m\u001b[0;34m,\u001b[0m \u001b[0;36m0\u001b[0m\u001b[0;34m\u001b[0m\u001b[0;34m\u001b[0m\u001b[0m\n\u001b[0m\u001b[1;32m    383\u001b[0m \u001b[0;34m\u001b[0m\u001b[0m\n\u001b[1;32m    384\u001b[0m     \u001b[0;31m# Select filename, lineno, func_name to track frames with\u001b[0m\u001b[0;34m\u001b[0m\u001b[0;34m\u001b[0m\u001b[0;34m\u001b[0m\u001b[0m\n",
      "\u001b[0;31mTypeError\u001b[0m: object of type 'NoneType' has no len()"
     ]
    }
   ],
   "source": [
    "for img1 in os.listdir(data_dir):\n",
    "    for img2 in os.listdir(data_dir):\n",
    "        df.loc[img1.split('.')[0], img2.split('.')[0]] = tf.image.ssim_multiscale(\n",
    "                tf.expand_dims(tf.image.decode_image(tf.io.read_file(os.path.join(data_dir, img1))), axis=0),\n",
    "                tf.expand_dims(tf.image.decode_image(tf.io.read_file(os.path.join(data_dir, img2))), axis=0),\n",
    "                max_val=255, filter_size=11,\n",
    "                filter_sigma=1.5, k1=0.01, k2=0.03\n",
    "               )[0].numpy()"
   ]
  },
  {
   "cell_type": "code",
   "execution_count": null,
   "id": "b5b77eb2",
   "metadata": {},
   "outputs": [],
   "source": []
  }
 ],
 "metadata": {
  "kernelspec": {
   "display_name": "Python 3 (ipykernel)",
   "language": "python",
   "name": "python3"
  },
  "language_info": {
   "codemirror_mode": {
    "name": "ipython",
    "version": 3
   },
   "file_extension": ".py",
   "mimetype": "text/x-python",
   "name": "python",
   "nbconvert_exporter": "python",
   "pygments_lexer": "ipython3",
   "version": "3.7.8"
  }
 },
 "nbformat": 4,
 "nbformat_minor": 5
}
