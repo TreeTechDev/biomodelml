{
 "cells": [
  {
   "cell_type": "markdown",
   "id": "c9dad58f",
   "metadata": {},
   "source": [
    "# Dataset Statistics"
   ]
  },
  {
   "cell_type": "code",
   "execution_count": 1,
   "id": "48ee16de",
   "metadata": {},
   "outputs": [],
   "source": [
    "import os\n",
    "import pandas\n",
    "import numpy\n",
    "from Bio import SeqIO\n",
    "from biotite.sequence.align import get_sequence_identity\n",
    "from biotite.sequence.io import fasta\n",
    "from itertools import combinations\n",
    "pandas.set_option('display.max_columns', None)"
   ]
  },
  {
   "cell_type": "code",
   "execution_count": 2,
   "id": "491d962a",
   "metadata": {},
   "outputs": [],
   "source": [
    "data_dir = \"../../data\"\n",
    "datasets = [\"orthologs_hemoglobin_beta\", \"orthologs_myoglobin\", \"orthologs_neuroglobin\", \"orthologs_cytoglobin\", \"orthologs_androglobin\", \"indelible\"]"
   ]
  },
  {
   "cell_type": "code",
   "execution_count": 3,
   "id": "c350599b",
   "metadata": {},
   "outputs": [],
   "source": [
    "def lcs(first, second):\n",
    "    m = len(first.seq)\n",
    "    n = len(second.seq)\n",
    "    counter = [[0]*(n+1) for x in range(m+1)]\n",
    "    longest = 0\n",
    "    lcs_str = \"\"\n",
    "    for i in range(m):\n",
    "        for j in range(n):\n",
    "            if first.seq[i] == second.seq[j]:\n",
    "                c = counter[i][j] + 1\n",
    "                counter[i+1][j+1] = c\n",
    "                if c > longest:\n",
    "                    lcs_str = str(first.seq[i-c+1:i+1])\n",
    "                    longest = c\n",
    "    return lcs_str"
   ]
  },
  {
   "cell_type": "code",
   "execution_count": 4,
   "id": "5033c783",
   "metadata": {},
   "outputs": [],
   "source": [
    "def repeats(s, k=3):\n",
    "    max_repeats = 0\n",
    "    for i in range(0, len(s.seq), k):\n",
    "        max_repeats = max(max_repeats, s.seq.count(s.seq[i:i+k]))\n",
    "    return max_repeats"
   ]
  },
  {
   "cell_type": "markdown",
   "id": "7f1a12e9",
   "metadata": {},
   "source": [
    "## Nucleotide"
   ]
  },
  {
   "cell_type": "code",
   "execution_count": 9,
   "id": "c44f52b7",
   "metadata": {},
   "outputs": [],
   "source": [
    "def compute_stats(dataset):\n",
    "    fasta_file = f\"{data_dir}/{dataset}.fasta.N.sanitized\"\n",
    "    seqs = list(SeqIO.parse(fasta_file, \"fasta\"))\n",
    "    lcs_seqs = [len(lcs(s1, s2)) for (s1, s2) in combinations(seqs, 2)]\n",
    "    repeats_len = [repeats(s) for s in seqs]\n",
    "    seqs_len = [len(s.seq) for s in seqs]\n",
    "    seqs_mean = numpy.mean(seqs_len)\n",
    "    seqs_median = numpy.median(seqs_len)\n",
    "    seqs_std = numpy.std(seqs_len)\n",
    "    seqs_min = numpy.min(seqs_len)\n",
    "    seqs_max = numpy.max(seqs_len)\n",
    "    align = fasta.get_alignment(\n",
    "        fasta.FastaFile.read(f\"{data_dir}/trees/N/full/{dataset}/Control with Clustal Omega.fasta\"))\n",
    "    seqs_identity = get_sequence_identity(align)\n",
    "    gaps = [seq.count(\"-\") for seq in fasta.FastaFile.read(f\"{data_dir}/trees/N/full/{dataset}/Control with Clustal Omega.fasta\").values()]\n",
    "    result_df = pandas.DataFrame(\n",
    "        {\"median\": int(seqs_median),\n",
    "         \"mean\": seqs_mean,\n",
    "         \"std\": round(seqs_std, 2),\n",
    "         \"min\": seqs_min,\n",
    "         \"max\": seqs_max,\n",
    "         \"identity\": seqs_identity,\n",
    "         \"median_rep\": numpy.median(repeats_len),\n",
    "         \"mean_rep\": numpy.mean(repeats_len),\n",
    "         \"std_rep\": numpy.std(repeats_len),\n",
    "         \"min_rep\": numpy.min(repeats_len),\n",
    "         \"max_rep\": numpy.max(repeats_len),\n",
    "         \"median_lcs\": numpy.median(lcs_seqs),\n",
    "         \"mean_lcs\": numpy.mean(lcs_seqs),\n",
    "         \"std_lcs\": numpy.std(lcs_seqs),\n",
    "         \"min_lcs\": numpy.min(lcs_seqs),\n",
    "         \"max_lcs\": numpy.max(lcs_seqs),\n",
    "         \"with_gaps\": sum([1 if g else 0 for g in gaps]),\n",
    "         \"median_gaps\": numpy.median(gaps),\n",
    "         \"mean_gaps\": numpy.mean(gaps),\n",
    "         \"std_gaps\": numpy.std(gaps),\n",
    "         \"min_gaps\": numpy.min(gaps),\n",
    "         \"max_gaps\": numpy.max(gaps),\n",
    "         \"sample size\": len(seqs_len)}, index=[dataset])\n",
    "    result_df.index.name = \"dataset\"\n",
    "    return result_df"
   ]
  },
  {
   "cell_type": "code",
   "execution_count": null,
   "id": "13203703",
   "metadata": {},
   "outputs": [],
   "source": [
    "dfs = []\n",
    "for dataset in datasets:\n",
    "    try:\n",
    "        dfs.append(compute_stats(dataset))\n",
    "    except:\n",
    "        print(dataset)\n",
    "        raise\n",
    "pandas.concat(dfs)"
   ]
  },
  {
   "cell_type": "markdown",
   "id": "fbc34b74",
   "metadata": {},
   "source": [
    "## Protein"
   ]
  },
  {
   "cell_type": "code",
   "execution_count": null,
   "id": "1724b77a",
   "metadata": {},
   "outputs": [],
   "source": [
    "def compute_protein_stats(dataset):\n",
    "    fasta_file = f\"{data_dir}/{dataset}.fasta.P.sanitized\"\n",
    "    seqs = list(SeqIO.parse(fasta_file, \"fasta\"))\n",
    "    seqs_len = [len(s.seq) for s in seqs]\n",
    "    seqs_mean = numpy.mean(seqs_len)\n",
    "    seqs_median = numpy.median(seqs_len)\n",
    "    seqs_std = numpy.std(seqs_len)\n",
    "    seqs_min = numpy.min(seqs_len)\n",
    "    seqs_max = numpy.max(seqs_len)\n",
    "    lcs_seqs = [len(lcs(s1, s2)) for (s1, s2) in combinations(seqs, 2)]\n",
    "    result_df = pandas.DataFrame(\n",
    "        {\"median\": int(seqs_median),\n",
    "         \"mean\": seqs_mean,\n",
    "         \"std\": round(seqs_std, 2),\n",
    "         \"min\": seqs_min,\n",
    "         \"max\": seqs_max,\n",
    "         \"median_lcs\": numpy.median(lcs_seqs),\n",
    "         \"mean_lcs\": numpy.mean(lcs_seqs),\n",
    "         \"std_lcs\": numpy.std(lcs_seqs),\n",
    "         \"min_lcs\": numpy.min(lcs_seqs),\n",
    "         \"max_lcs\": numpy.max(lcs_seqs),\n",
    "         \"sample size\": len(seqs_len)}, index=[dataset])\n",
    "    result_df.index.name = \"dataset\"\n",
    "    return result_df"
   ]
  },
  {
   "cell_type": "code",
   "execution_count": null,
   "id": "6bf90986",
   "metadata": {},
   "outputs": [],
   "source": [
    "dfs = []\n",
    "for dataset in datasets:\n",
    "    try:\n",
    "        dfs.append(compute_protein_stats(dataset))\n",
    "    except:\n",
    "        print(dataset)\n",
    "        raise\n",
    "pandas.concat(dfs)"
   ]
  },
  {
   "cell_type": "code",
   "execution_count": null,
   "id": "de169b5f",
   "metadata": {},
   "outputs": [],
   "source": []
  }
 ],
 "metadata": {
  "kernelspec": {
   "display_name": "Python 3 (ipykernel)",
   "language": "python",
   "name": "python3"
  },
  "language_info": {
   "codemirror_mode": {
    "name": "ipython",
    "version": 3
   },
   "file_extension": ".py",
   "mimetype": "text/x-python",
   "name": "python",
   "nbconvert_exporter": "python",
   "pygments_lexer": "ipython3",
   "version": "3.10.6"
  }
 },
 "nbformat": 4,
 "nbformat_minor": 5
}
