{
 "cells": [
  {
   "cell_type": "code",
   "execution_count": 1,
   "id": "56ce6853",
   "metadata": {},
   "outputs": [],
   "source": [
    "import os\n",
    "import pandas\n",
    "import numpy\n",
    "from Bio import SeqIO"
   ]
  },
  {
   "cell_type": "code",
   "execution_count": 2,
   "id": "ffd9503d",
   "metadata": {},
   "outputs": [],
   "source": [
    "data_dir = \"../../../data\"\n",
    "dataset = \"indelible\""
   ]
  },
  {
   "cell_type": "code",
   "execution_count": 3,
   "id": "aa1e66d3",
   "metadata": {},
   "outputs": [
    {
     "name": "stdout",
     "output_type": "stream",
     "text": [
      "           median    mean  std   min   max  sample size\n",
      "dataset                                                \n",
      "indelible    3000  3000.0  0.0  3000  3000           40\n"
     ]
    }
   ],
   "source": [
    "fasta_file = f\"{data_dir}/{dataset}.fasta.sanitized\"\n",
    "seqs = SeqIO.parse(fasta_file, \"fasta\")\n",
    "seqs_len = [len(s.seq) for s in seqs]\n",
    "seqs_mean = numpy.mean(seqs_len)\n",
    "seqs_median = numpy.median(seqs_len)\n",
    "seqs_std = numpy.std(seqs_len)\n",
    "seqs_min = numpy.min(seqs_len)\n",
    "seqs_max = numpy.max(seqs_len)\n",
    "result_df = pandas.DataFrame(\n",
    "    {\"median\": int(seqs_median),\n",
    "     \"mean\": seqs_mean,\n",
    "     \"std\": round(seqs_std, 2),\n",
    "     \"min\": seqs_min,\n",
    "     \"max\": seqs_max,\n",
    "     \"sample size\": len(seqs_len)}, index=[dataset])\n",
    "result_df.index.name = \"dataset\"\n",
    "print(result_df)"
   ]
  },
  {
   "cell_type": "code",
   "execution_count": null,
   "id": "dcc33fa9",
   "metadata": {},
   "outputs": [],
   "source": []
  }
 ],
 "metadata": {
  "kernelspec": {
   "display_name": "Python 3 (ipykernel)",
   "language": "python",
   "name": "python3"
  },
  "language_info": {
   "codemirror_mode": {
    "name": "ipython",
    "version": 3
   },
   "file_extension": ".py",
   "mimetype": "text/x-python",
   "name": "python",
   "nbconvert_exporter": "python",
   "pygments_lexer": "ipython3",
   "version": "3.10.6"
  }
 },
 "nbformat": 4,
 "nbformat_minor": 5
}
